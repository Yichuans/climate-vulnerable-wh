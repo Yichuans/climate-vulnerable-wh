{
 "cells": [
  {
   "cell_type": "markdown",
   "metadata": {},
   "source": [
    "## 1. Load data and preliminary checks"
   ]
  },
  {
   "cell_type": "code",
   "execution_count": 1,
   "metadata": {
    "collapsed": false
   },
   "outputs": [
    {
     "name": "stderr",
     "output_type": "stream",
     "text": [
      "C:\\Users\\yichuans\\AppData\\Local\\Continuum\\Anaconda3\\lib\\site-packages\\pandas\\computation\\__init__.py:19: UserWarning: The installed version of numexpr 2.4.4 is not supported in pandas and will be not be used\n",
      "\n",
      "  UserWarning)\n"
     ]
    }
   ],
   "source": [
    "# load libraries\n",
    "import os, sys\n",
    "import matplotlib.pyplot as plt\n",
    "import numpy as np\n",
    "import pandas as pd\n",
    "import seaborn as sns\n",
    "\n",
    "%matplotlib inline"
   ]
  },
  {
   "cell_type": "markdown",
   "metadata": {},
   "source": [
    "Now import the data in various format for analysis. First check the folder for data. Commands starting with `!` indicates they are system commmands."
   ]
  },
  {
   "cell_type": "code",
   "execution_count": 2,
   "metadata": {
    "collapsed": false
   },
   "outputs": [
    {
     "name": "stdout",
     "output_type": "stream",
     "text": [
      " Volume in drive E is New Volume\n",
      " Volume Serial Number is A2BF-3D1C\n",
      "\n",
      " Directory of E:\\Yichuan\\Climate_vulnerability_wh\\jupyter_workspace\n",
      "\n",
      "26/05/2016  09:38    <DIR>          .\n",
      "26/05/2016  09:38    <DIR>          ..\n",
      "17/05/2016  13:51    <DIR>          .ipynb_checkpoints\n",
      "10/02/2016  11:06         8,536,618 amp.xlsx\n",
      "10/02/2016  11:06        10,999,911 bird.xlsx\n",
      "10/02/2016  11:06         4,465,794 coral.xlsx\n",
      "25/05/2016  12:33    <DIR>          info\n",
      "25/05/2016  12:33            14,251 region.csv\n",
      "26/05/2016  09:18             3,571 report.ipynb\n",
      "10/05/2016  16:44        54,522,213 result_final.csv\n",
      "03/03/2016  13:30        40,785,576 rl_attr.csv\n",
      "25/05/2016  12:33               206 schema.ini\n",
      "15/12/2015  17:54       154,368,653 sis.csv\n",
      "26/05/2016  09:22           396,942 workspace.ipynb\n",
      "              10 File(s)    274,093,735 bytes\n",
      "               4 Dir(s)  842,132,451,328 bytes free\n"
     ]
    }
   ],
   "source": [
    "!dir"
   ]
  },
  {
   "cell_type": "code",
   "execution_count": 3,
   "metadata": {
    "collapsed": false
   },
   "outputs": [],
   "source": [
    "# CCV analysis results\n",
    "amp = pd.read_excel('amp.xlsx')\n",
    "bird = pd.read_excel('bird.xlsx')\n",
    "coral = pd.read_excel('coral.xlsx')"
   ]
  },
  {
   "cell_type": "code",
   "execution_count": 4,
   "metadata": {
    "collapsed": true
   },
   "outputs": [],
   "source": [
    "# check data for different structure\n",
    "# the intersection result processed in arcmap, essentially: wdpaid, id_no, per_overlap, + sp attr and wh attr\n",
    "# Essentially, POS invalid rows removed, duplicated dissolved and percentage overlap calculated\n",
    "# for more information, consult Evernote notes\n",
    "result = pd.read_csv('result_final.csv', encoding='latin1') \n",
    "sis = pd.read_csv('sis.csv', sep='|')\n",
    "rl = pd.read_csv('rl_attr.csv')"
   ]
  },
  {
   "cell_type": "code",
   "execution_count": 5,
   "metadata": {
    "collapsed": false
   },
   "outputs": [
    {
     "data": {
      "text/plain": [
       "True"
      ]
     },
     "execution_count": 5,
     "metadata": {},
     "output_type": "execute_result"
    }
   ],
   "source": [
    "# no duplicates for bird and amp\n",
    "(amp.Fullname.size == amp.index.size) and (bird.Fullname.size == bird.index.size)"
   ]
  },
  {
   "cell_type": "code",
   "execution_count": 6,
   "metadata": {
    "collapsed": false
   },
   "outputs": [
    {
     "name": "stdout",
     "output_type": "stream",
     "text": [
      "unique coral names: 797\n",
      "total rows: 1594\n"
     ]
    }
   ],
   "source": [
    "# coral data has duplicates\n",
    "print('unique coral names:', coral.Fullname.unique().size)\n",
    "print('total rows:', coral.index.size)"
   ]
  },
  {
   "cell_type": "code",
   "execution_count": 7,
   "metadata": {
    "collapsed": false
   },
   "outputs": [
    {
     "data": {
      "text/plain": [
       "797"
      ]
     },
     "execution_count": 7,
     "metadata": {},
     "output_type": "execute_result"
    }
   ],
   "source": [
    "# get only the half\n",
    "coral_unique = coral.groupby('Fullname').first().reset_index()\n",
    "coral_unique.index.size"
   ]
  },
  {
   "cell_type": "code",
   "execution_count": 8,
   "metadata": {
    "collapsed": false
   },
   "outputs": [
    {
     "data": {
      "text/plain": [
       "<matplotlib.axes._subplots.AxesSubplot at 0x114cc6d8>"
      ]
     },
     "execution_count": 8,
     "metadata": {},
     "output_type": "execute_result"
    },
    {
     "data": {
      "image/png": "[encoded data removed]",
      "text/plain": [
       "<matplotlib.figure.Figure at 0xdfa0be0>"
      ]
     },
     "metadata": {},
     "output_type": "display_data"
    }
   ],
   "source": [
    "result.per.hist(bins=50)"
   ]
  },
  {
   "cell_type": "markdown",
   "metadata": {},
   "source": [
    "Note: `areakm2_x` is the actual overlap between pairs of PA and species, while `areakm2_y` refers to the size of WH site."
   ]
  },
  {
   "cell_type": "code",
   "execution_count": 9,
   "metadata": {
    "collapsed": false
   },
   "outputs": [
    {
     "data": {
      "text/html": [
       "<div>\n",
       "<table border=\"1\" class=\"dataframe\">\n",
       "  <thead>\n",
       "    <tr style=\"text-align: right;\">\n",
       "      <th></th>\n",
       "      <th>Unnamed: 0</th>\n",
       "      <th>wdpaid</th>\n",
       "      <th>id_no</th>\n",
       "      <th>areakm2_x</th>\n",
       "      <th>areakm2_y</th>\n",
       "      <th>per</th>\n",
       "      <th>en_name</th>\n",
       "      <th>fr_name</th>\n",
       "      <th>status_yr</th>\n",
       "      <th>rep_area</th>\n",
       "      <th>...</th>\n",
       "      <th>phylum_name</th>\n",
       "      <th>class_name</th>\n",
       "      <th>order_name</th>\n",
       "      <th>family_name</th>\n",
       "      <th>genus_name</th>\n",
       "      <th>species_name</th>\n",
       "      <th>category</th>\n",
       "      <th>biome_marine</th>\n",
       "      <th>biome_freshwater</th>\n",
       "      <th>biome_terrestrial</th>\n",
       "    </tr>\n",
       "  </thead>\n",
       "  <tbody>\n",
       "    <tr>\n",
       "      <th>0</th>\n",
       "      <td>0</td>\n",
       "      <td>191</td>\n",
       "      <td>2057.0</td>\n",
       "      <td>106497.703640</td>\n",
       "      <td>146962.025607</td>\n",
       "      <td>0.724661</td>\n",
       "      <td>Galápagos Islands</td>\n",
       "      <td>Îles Galápagos</td>\n",
       "      <td>1978</td>\n",
       "      <td>140665.14</td>\n",
       "      <td>...</td>\n",
       "      <td>CHORDATA</td>\n",
       "      <td>MAMMALIA</td>\n",
       "      <td>CARNIVORA</td>\n",
       "      <td>OTARIIDAE</td>\n",
       "      <td>Arctocephalus</td>\n",
       "      <td>galapagoensis</td>\n",
       "      <td>EN</td>\n",
       "      <td>t</td>\n",
       "      <td>f</td>\n",
       "      <td>t</td>\n",
       "    </tr>\n",
       "    <tr>\n",
       "      <th>1</th>\n",
       "      <td>1</td>\n",
       "      <td>191</td>\n",
       "      <td>2474.0</td>\n",
       "      <td>138918.354698</td>\n",
       "      <td>146962.025607</td>\n",
       "      <td>0.945267</td>\n",
       "      <td>Galápagos Islands</td>\n",
       "      <td>Îles Galápagos</td>\n",
       "      <td>1978</td>\n",
       "      <td>140665.14</td>\n",
       "      <td>...</td>\n",
       "      <td>CHORDATA</td>\n",
       "      <td>MAMMALIA</td>\n",
       "      <td>CETARTIODACTYLA</td>\n",
       "      <td>BALAENOPTERIDAE</td>\n",
       "      <td>Balaenoptera</td>\n",
       "      <td>acutorostrata</td>\n",
       "      <td>LC</td>\n",
       "      <td>t</td>\n",
       "      <td>f</td>\n",
       "      <td>f</td>\n",
       "    </tr>\n",
       "    <tr>\n",
       "      <th>2</th>\n",
       "      <td>2</td>\n",
       "      <td>2012</td>\n",
       "      <td>2474.0</td>\n",
       "      <td>2129.930772</td>\n",
       "      <td>5853.472599</td>\n",
       "      <td>0.363875</td>\n",
       "      <td>Everglades National Park</td>\n",
       "      <td>Parc national des Everglades\\r\\r\\r\\n</td>\n",
       "      <td>1979</td>\n",
       "      <td>5929.20</td>\n",
       "      <td>...</td>\n",
       "      <td>CHORDATA</td>\n",
       "      <td>MAMMALIA</td>\n",
       "      <td>CETARTIODACTYLA</td>\n",
       "      <td>BALAENOPTERIDAE</td>\n",
       "      <td>Balaenoptera</td>\n",
       "      <td>acutorostrata</td>\n",
       "      <td>LC</td>\n",
       "      <td>t</td>\n",
       "      <td>f</td>\n",
       "      <td>f</td>\n",
       "    </tr>\n",
       "    <tr>\n",
       "      <th>3</th>\n",
       "      <td>3</td>\n",
       "      <td>2018</td>\n",
       "      <td>2474.0</td>\n",
       "      <td>2549.486762</td>\n",
       "      <td>97284.250341</td>\n",
       "      <td>0.026207</td>\n",
       "      <td>Kluane / Wrangell-St Elias / Glacier Bay / Tat...</td>\n",
       "      <td>Kluane / Wrangell-St Elias / Glacier Bay / Tat...</td>\n",
       "      <td>1979</td>\n",
       "      <td>98391.21</td>\n",
       "      <td>...</td>\n",
       "      <td>CHORDATA</td>\n",
       "      <td>MAMMALIA</td>\n",
       "      <td>CETARTIODACTYLA</td>\n",
       "      <td>BALAENOPTERIDAE</td>\n",
       "      <td>Balaenoptera</td>\n",
       "      <td>acutorostrata</td>\n",
       "      <td>LC</td>\n",
       "      <td>t</td>\n",
       "      <td>f</td>\n",
       "      <td>f</td>\n",
       "    </tr>\n",
       "    <tr>\n",
       "      <th>4</th>\n",
       "      <td>4</td>\n",
       "      <td>2554</td>\n",
       "      <td>2474.0</td>\n",
       "      <td>4.105942</td>\n",
       "      <td>5502.386948</td>\n",
       "      <td>0.000746</td>\n",
       "      <td>Darien National Park</td>\n",
       "      <td>Parc national du Darien</td>\n",
       "      <td>1981</td>\n",
       "      <td>5970.00</td>\n",
       "      <td>...</td>\n",
       "      <td>CHORDATA</td>\n",
       "      <td>MAMMALIA</td>\n",
       "      <td>CETARTIODACTYLA</td>\n",
       "      <td>BALAENOPTERIDAE</td>\n",
       "      <td>Balaenoptera</td>\n",
       "      <td>acutorostrata</td>\n",
       "      <td>LC</td>\n",
       "      <td>t</td>\n",
       "      <td>f</td>\n",
       "      <td>f</td>\n",
       "    </tr>\n",
       "  </tbody>\n",
       "</table>\n",
       "<p>5 rows × 26 columns</p>\n",
       "</div>"
      ],
      "text/plain": [
       "   Unnamed: 0  wdpaid   id_no      areakm2_x      areakm2_y       per  \\\n",
       "0           0     191  2057.0  106497.703640  146962.025607  0.724661   \n",
       "1           1     191  2474.0  138918.354698  146962.025607  0.945267   \n",
       "2           2    2012  2474.0    2129.930772    5853.472599  0.363875   \n",
       "3           3    2018  2474.0    2549.486762   97284.250341  0.026207   \n",
       "4           4    2554  2474.0       4.105942    5502.386948  0.000746   \n",
       "\n",
       "                                             en_name  \\\n",
       "0                                  Galápagos Islands   \n",
       "1                                  Galápagos Islands   \n",
       "2                           Everglades National Park   \n",
       "3  Kluane / Wrangell-St Elias / Glacier Bay / Tat...   \n",
       "4                               Darien National Park   \n",
       "\n",
       "                                             fr_name  status_yr   rep_area  \\\n",
       "0                                     Îles Galápagos       1978  140665.14   \n",
       "1                                     Îles Galápagos       1978  140665.14   \n",
       "2               Parc national des Everglades\\r\\r\\r\\n       1979    5929.20   \n",
       "3  Kluane / Wrangell-St Elias / Glacier Bay / Tat...       1979   98391.21   \n",
       "4                            Parc national du Darien       1981    5970.00   \n",
       "\n",
       "         ...         phylum_name class_name       order_name      family_name  \\\n",
       "0        ...            CHORDATA   MAMMALIA        CARNIVORA        OTARIIDAE   \n",
       "1        ...            CHORDATA   MAMMALIA  CETARTIODACTYLA  BALAENOPTERIDAE   \n",
       "2        ...            CHORDATA   MAMMALIA  CETARTIODACTYLA  BALAENOPTERIDAE   \n",
       "3        ...            CHORDATA   MAMMALIA  CETARTIODACTYLA  BALAENOPTERIDAE   \n",
       "4        ...            CHORDATA   MAMMALIA  CETARTIODACTYLA  BALAENOPTERIDAE   \n",
       "\n",
       "      genus_name   species_name category biome_marine biome_freshwater  \\\n",
       "0  Arctocephalus  galapagoensis       EN            t                f   \n",
       "1   Balaenoptera  acutorostrata       LC            t                f   \n",
       "2   Balaenoptera  acutorostrata       LC            t                f   \n",
       "3   Balaenoptera  acutorostrata       LC            t                f   \n",
       "4   Balaenoptera  acutorostrata       LC            t                f   \n",
       "\n",
       "  biome_terrestrial  \n",
       "0                 t  \n",
       "1                 f  \n",
       "2                 f  \n",
       "3                 f  \n",
       "4                 f  \n",
       "\n",
       "[5 rows x 26 columns]"
      ]
     },
     "execution_count": 9,
     "metadata": {},
     "output_type": "execute_result"
    }
   ],
   "source": [
    "result.head(5)"
   ]
  },
  {
   "cell_type": "code",
   "execution_count": 10,
   "metadata": {
    "collapsed": false
   },
   "outputs": [
    {
     "data": {
      "text/plain": [
       "Unnamed: 0             int64\n",
       "wdpaid                 int64\n",
       "id_no                float64\n",
       "areakm2_x            float64\n",
       "areakm2_y            float64\n",
       "per                  float64\n",
       "en_name               object\n",
       "fr_name               object\n",
       "status_yr              int64\n",
       "rep_area             float64\n",
       "gis_area             float64\n",
       "country               object\n",
       "crit                  object\n",
       "areakm2              float64\n",
       "binomial              object\n",
       "kingdom_name          object\n",
       "phylum_name           object\n",
       "class_name            object\n",
       "order_name            object\n",
       "family_name           object\n",
       "genus_name            object\n",
       "species_name          object\n",
       "category              object\n",
       "biome_marine          object\n",
       "biome_freshwater      object\n",
       "biome_terrestrial     object\n",
       "dtype: object"
      ]
     },
     "execution_count": 10,
     "metadata": {},
     "output_type": "execute_result"
    }
   ],
   "source": [
    "result.dtypes"
   ]
  },
  {
   "cell_type": "markdown",
   "metadata": {},
   "source": [
    "## 2. Data preprocessing and exploration\n",
    "The climate vulnerability analysis was done back using an older version of Red List 2009 ([methodology](http://journals.plos.org/plosone/article?id=10.1371%2Fjournal.pone.0065427)) and the current species range distribution data is the latest 2015-4 version. Therefore it is likely the taxanomies may change. In some cases, changes may be simple for example renaming genus name or other higher taxanomy, while others may be extremely convoluted, involving spliting of one previously recognised species into multiple ones or vice versa merging previously different species. It is very difficult to reconcile such differences.\n",
    "\n",
    "Here, I explore such mismatches between birds, amphibians and warm water reef-building corals.\n"
   ]
  },
  {
   "cell_type": "code",
   "execution_count": 11,
   "metadata": {
    "collapsed": false
   },
   "outputs": [
    {
     "name": "stdout",
     "output_type": "stream",
     "text": [
      "Total birds in SIS, 10424\n"
     ]
    }
   ],
   "source": [
    "print('Total birds in SIS,', (sis['class'] == 'AVES').sum())\n",
    "# birds SIS\n",
    "sis_bird = sis[sis['class']=='AVES']"
   ]
  },
  {
   "cell_type": "code",
   "execution_count": 12,
   "metadata": {
    "collapsed": false
   },
   "outputs": [
    {
     "name": "stdout",
     "output_type": "stream",
     "text": [
      "unique birds in CCV analysis: 9856\n",
      "unique birds in SIS: 10424\n"
     ]
    }
   ],
   "source": [
    "print('unique birds in CCV analysis:', bird.Fullname.unique().size)\n",
    "print('unique birds in SIS:', sis_bird.friendly_name.unique().size)"
   ]
  },
  {
   "cell_type": "markdown",
   "metadata": {},
   "source": [
    "Differences between bird numbers, and similarly other taxa groups"
   ]
  },
  {
   "cell_type": "code",
   "execution_count": 13,
   "metadata": {
    "collapsed": false
   },
   "outputs": [
    {
     "name": "stdout",
     "output_type": "stream",
     "text": [
      "Birds in CCV but not in SIS: 673\n",
      "Total birds in CCV: 9856\n",
      "Amphibians in CCV but not in SIS: 502\n",
      "Total amphibians in CCV: 6204\n",
      "Corals in CCV but not in SIS: 19\n",
      "Total corals in CCV: 797\n"
     ]
    }
   ],
   "source": [
    "sis_amp = sis[sis['class']=='AMPHIBIA']\n",
    "\n",
    "print('Birds in CCV but not in SIS:', np.setdiff1d(bird.Fullname.unique(), sis_bird.friendly_name.unique()).size)\n",
    "print('Total birds in CCV:', bird.index.size)\n",
    "print('Amphibians in CCV but not in SIS:', np.setdiff1d(amp.Fullname.unique(), sis_amp.friendly_name.unique()).size)\n",
    "print('Total amphibians in CCV:', amp.index.size)\n",
    "print('Corals in CCV but not in SIS:', np.setdiff1d(coral_unique.Fullname.unique(), sis.friendly_name.unique()).size)\n",
    "print('Total corals in CCV:', coral_unique.index.size)"
   ]
  },
  {
   "cell_type": "markdown",
   "metadata": {},
   "source": [
    "**Given the relatively low number and proportion of such missing species due to taxonomic changes, it is unlikely the result may change significantly. For the purpose of deriving a globally consistent picture, we simply exclude these species.**"
   ]
  },
  {
   "cell_type": "markdown",
   "metadata": {},
   "source": [
    "Note the datatype in the result table is somehow different (int vs float) and it will impact comparisons. This needs to be explicited addressed, by rounding."
   ]
  },
  {
   "cell_type": "code",
   "execution_count": 14,
   "metadata": {
    "collapsed": false
   },
   "outputs": [
    {
     "data": {
      "text/plain": [
       "61623293.999999993"
      ]
     },
     "execution_count": 14,
     "metadata": {},
     "output_type": "execute_result"
    }
   ],
   "source": [
    "result.ix[176646].id_no"
   ]
  },
  {
   "cell_type": "markdown",
   "metadata": {},
   "source": [
    "`result.id_no.astype('int64')` will not work as it simply gets rid of its fraction. Instead `round(0)` method should be used"
   ]
  },
  {
   "cell_type": "code",
   "execution_count": 15,
   "metadata": {
    "collapsed": true
   },
   "outputs": [],
   "source": [
    "result['id_no_int'] = result.id_no.round(0)"
   ]
  },
  {
   "cell_type": "markdown",
   "metadata": {},
   "source": [
    "The effect can be easily illustrated. The difference has reduced from 1581 to 36."
   ]
  },
  {
   "cell_type": "code",
   "execution_count": 16,
   "metadata": {
    "collapsed": false
   },
   "outputs": [
    {
     "data": {
      "text/plain": [
       "164315"
      ]
     },
     "execution_count": 16,
     "metadata": {},
     "output_type": "execute_result"
    }
   ],
   "source": [
    "(result.id_no.isin(sis.taxonid)).sum()"
   ]
  },
  {
   "cell_type": "code",
   "execution_count": 17,
   "metadata": {
    "collapsed": false
   },
   "outputs": [
    {
     "data": {
      "text/plain": [
       "1581"
      ]
     },
     "execution_count": 17,
     "metadata": {},
     "output_type": "execute_result"
    }
   ],
   "source": [
    "dif_spatial = np.setdiff1d(result.id_no, sis.taxonid)\n",
    "dif_spatial.size"
   ]
  },
  {
   "cell_type": "code",
   "execution_count": 18,
   "metadata": {
    "collapsed": false
   },
   "outputs": [
    {
     "data": {
      "text/plain": [
       "36"
      ]
     },
     "execution_count": 18,
     "metadata": {},
     "output_type": "execute_result"
    }
   ],
   "source": [
    "dif_spatial = np.setdiff1d(result.id_no_int, sis.taxonid)\n",
    "dif_spatial.size"
   ]
  },
  {
   "cell_type": "markdown",
   "metadata": {},
   "source": [
    "Let's take a look at the differece, i.e., IDS in the intersection result but not in the SIS."
   ]
  },
  {
   "cell_type": "code",
   "execution_count": 19,
   "metadata": {
    "collapsed": false
   },
   "outputs": [],
   "source": [
    "dif_sis = result[result.id_no.isin(dif_spatial)][['id_no', 'class_name', 'binomial']]"
   ]
  },
  {
   "cell_type": "code",
   "execution_count": 20,
   "metadata": {
    "collapsed": false
   },
   "outputs": [
    {
     "data": {
      "text/plain": [
       "array(['ACTINOPTERYGII', 'MAGNOLIOPSIDA', 'LILIOPSIDA', 'GASTROPODA',\n",
       "       'MAMMALIA', 'SARCOPTERYGII', 'INSECTA', 'BIVALVIA'], dtype=object)"
      ]
     },
     "execution_count": 20,
     "metadata": {},
     "output_type": "execute_result"
    }
   ],
   "source": [
    "dif_sis['class_name'].unique()"
   ]
  },
  {
   "cell_type": "markdown",
   "metadata": {},
   "source": [
    "Now it is clear that the odd missing species should not impact our analysis, which only looks at birds, amphibians and corals. In other words, the IDs in the result table having corresponding SIS entries. Given that the result table contains already all SIS information, there is no need to join the SIS table. What needs to be address now is to compare the result table directly with the climate vulnerability analysis."
   ]
  },
  {
   "cell_type": "code",
   "execution_count": 21,
   "metadata": {
    "collapsed": false
   },
   "outputs": [
    {
     "data": {
      "text/plain": [
       "(4174, 502)"
      ]
     },
     "execution_count": 21,
     "metadata": {},
     "output_type": "execute_result"
    }
   ],
   "source": [
    "dif_amp_result = np.setdiff1d(amp.Fullname, result.binomial)\n",
    "dif_amp_sis = np.setdiff1d(amp.Fullname, sis.friendly_name)\n",
    "dif_amp_result.size, dif_amp_sis.size"
   ]
  },
  {
   "cell_type": "code",
   "execution_count": 22,
   "metadata": {
    "collapsed": true
   },
   "outputs": [],
   "source": [
    "# get amp_result using CCV, SIS and partialoverlap_result\n",
    "amp_result = pd.merge(amp, sis_amp, left_on = 'Fullname', right_on='friendly_name')\n",
    "amp_result = pd.merge(amp_result, result, left_on='taxonid', right_on='id_no_int')"
   ]
  },
  {
   "cell_type": "code",
   "execution_count": 23,
   "metadata": {
    "collapsed": false
   },
   "outputs": [
    {
     "data": {
      "text/plain": [
       "Int64Index([   0,    1,    2,    3,    4,    5,    6,    7,    8,    9,\n",
       "            ...\n",
       "            4746, 4747, 4748, 4749, 4750, 4751, 4752, 4753, 4754, 4755],\n",
       "           dtype='int64', length=4756)"
      ]
     },
     "execution_count": 23,
     "metadata": {},
     "output_type": "execute_result"
    }
   ],
   "source": [
    "amp_result.index"
   ]
  },
  {
   "cell_type": "code",
   "execution_count": 24,
   "metadata": {
    "collapsed": false
   },
   "outputs": [
    {
     "data": {
      "text/plain": [
       "RangeIndex(start=0, stop=6204, step=1)"
      ]
     },
     "execution_count": 24,
     "metadata": {},
     "output_type": "execute_result"
    }
   ],
   "source": [
    "amp.index"
   ]
  },
  {
   "cell_type": "code",
   "execution_count": 25,
   "metadata": {
    "collapsed": true
   },
   "outputs": [],
   "source": [
    "# what happens if a join is made directly without going through SIS and ID_NO\n",
    "test_amp = pd.merge(amp, result, left_on='Fullname', right_on='binomial')"
   ]
  },
  {
   "cell_type": "code",
   "execution_count": 26,
   "metadata": {
    "collapsed": false
   },
   "outputs": [
    {
     "data": {
      "text/plain": [
       "Int64Index([   0,    1,    2,    3,    4,    5,    6,    7,    8,    9,\n",
       "            ...\n",
       "            4762, 4763, 4764, 4765, 4766, 4767, 4768, 4769, 4770, 4771],\n",
       "           dtype='int64', length=4772)"
      ]
     },
     "execution_count": 26,
     "metadata": {},
     "output_type": "execute_result"
    }
   ],
   "source": [
    "test_amp.index"
   ]
  },
  {
   "cell_type": "code",
   "execution_count": 27,
   "metadata": {
    "collapsed": false
   },
   "outputs": [
    {
     "data": {
      "text/plain": [
       "11"
      ]
     },
     "execution_count": 27,
     "metadata": {},
     "output_type": "execute_result"
    }
   ],
   "source": [
    "# the difference\n",
    "test_dif = np.setdiff1d(test_amp.id_no_int.unique(), amp_result.id_no_int.unique())\n",
    "test_dif.size"
   ]
  },
  {
   "cell_type": "markdown",
   "metadata": {},
   "source": [
    "There might be something peculiar happening - as in theory the number should match. The fact there are 11 mismatching names suggest there is a possibility that the name in SIS still mismatches. See below the missing species using the CCV-SIS join."
   ]
  },
  {
   "cell_type": "code",
   "execution_count": 28,
   "metadata": {
    "collapsed": false
   },
   "outputs": [
    {
     "data": {
      "text/html": [
       "<div>\n",
       "<table border=\"1\" class=\"dataframe\">\n",
       "  <thead>\n",
       "    <tr style=\"text-align: right;\">\n",
       "      <th></th>\n",
       "      <th>SVP_ID</th>\n",
       "      <th>SIS_GAA_ID</th>\n",
       "      <th>GAA Family</th>\n",
       "      <th>Genus</th>\n",
       "      <th>Species</th>\n",
       "      <th>Fullname</th>\n",
       "      <th>Threatened</th>\n",
       "      <th>SUSC_A_Habitats</th>\n",
       "      <th>SUSC_A_aquatic larvae</th>\n",
       "      <th>SUSC_B_Temperature Range</th>\n",
       "      <th>...</th>\n",
       "      <th>class_name</th>\n",
       "      <th>order_name</th>\n",
       "      <th>family_name</th>\n",
       "      <th>genus_name</th>\n",
       "      <th>species_name</th>\n",
       "      <th>category</th>\n",
       "      <th>biome_marine</th>\n",
       "      <th>biome_freshwater</th>\n",
       "      <th>biome_terrestrial</th>\n",
       "      <th>id_no_int</th>\n",
       "    </tr>\n",
       "  </thead>\n",
       "  <tbody>\n",
       "    <tr>\n",
       "      <th>398</th>\n",
       "      <td>3260</td>\n",
       "      <td>9380</td>\n",
       "      <td>MICROHYLIDAE</td>\n",
       "      <td>Anodonthyla</td>\n",
       "      <td>boulengerii</td>\n",
       "      <td>Anodonthyla boulengerii</td>\n",
       "      <td>NaN</td>\n",
       "      <td>L</td>\n",
       "      <td>L</td>\n",
       "      <td>L</td>\n",
       "      <td>...</td>\n",
       "      <td>AMPHIBIA</td>\n",
       "      <td>ANURA</td>\n",
       "      <td>MICROHYLIDAE</td>\n",
       "      <td>Anodonthyla</td>\n",
       "      <td>boulengeri</td>\n",
       "      <td>LC</td>\n",
       "      <td>f</td>\n",
       "      <td>f</td>\n",
       "      <td>t</td>\n",
       "      <td>57674.0</td>\n",
       "    </tr>\n",
       "    <tr>\n",
       "      <th>797</th>\n",
       "      <td>2771</td>\n",
       "      <td>32142</td>\n",
       "      <td>MICROHYLIDAE</td>\n",
       "      <td>Chiasmocleis</td>\n",
       "      <td>panamensis</td>\n",
       "      <td>Chiasmocleis panamensis</td>\n",
       "      <td>NaN</td>\n",
       "      <td>L</td>\n",
       "      <td>H</td>\n",
       "      <td>H</td>\n",
       "      <td>...</td>\n",
       "      <td>AMPHIBIA</td>\n",
       "      <td>ANURA</td>\n",
       "      <td>MICROHYLIDAE</td>\n",
       "      <td>Elachistocleis</td>\n",
       "      <td>panamensis</td>\n",
       "      <td>LC</td>\n",
       "      <td>f</td>\n",
       "      <td>t</td>\n",
       "      <td>t</td>\n",
       "      <td>57761.0</td>\n",
       "    </tr>\n",
       "    <tr>\n",
       "      <th>798</th>\n",
       "      <td>2771</td>\n",
       "      <td>32142</td>\n",
       "      <td>MICROHYLIDAE</td>\n",
       "      <td>Chiasmocleis</td>\n",
       "      <td>panamensis</td>\n",
       "      <td>Chiasmocleis panamensis</td>\n",
       "      <td>NaN</td>\n",
       "      <td>L</td>\n",
       "      <td>H</td>\n",
       "      <td>H</td>\n",
       "      <td>...</td>\n",
       "      <td>AMPHIBIA</td>\n",
       "      <td>ANURA</td>\n",
       "      <td>MICROHYLIDAE</td>\n",
       "      <td>Elachistocleis</td>\n",
       "      <td>panamensis</td>\n",
       "      <td>LC</td>\n",
       "      <td>f</td>\n",
       "      <td>t</td>\n",
       "      <td>t</td>\n",
       "      <td>57761.0</td>\n",
       "    </tr>\n",
       "    <tr>\n",
       "      <th>978</th>\n",
       "      <td>4258</td>\n",
       "      <td>51160</td>\n",
       "      <td>SALAMANDRIDAE</td>\n",
       "      <td>Cynops</td>\n",
       "      <td>cyanurus</td>\n",
       "      <td>Cynops cyanurus</td>\n",
       "      <td>NaN</td>\n",
       "      <td>L</td>\n",
       "      <td>L</td>\n",
       "      <td>L</td>\n",
       "      <td>...</td>\n",
       "      <td>AMPHIBIA</td>\n",
       "      <td>CAUDATA</td>\n",
       "      <td>SALAMANDRIDAE</td>\n",
       "      <td>Hypselotriton</td>\n",
       "      <td>cyanurus</td>\n",
       "      <td>LC</td>\n",
       "      <td>f</td>\n",
       "      <td>t</td>\n",
       "      <td>t</td>\n",
       "      <td>59440.0</td>\n",
       "    </tr>\n",
       "    <tr>\n",
       "      <th>979</th>\n",
       "      <td>4258</td>\n",
       "      <td>51160</td>\n",
       "      <td>SALAMANDRIDAE</td>\n",
       "      <td>Cynops</td>\n",
       "      <td>cyanurus</td>\n",
       "      <td>Cynops cyanurus</td>\n",
       "      <td>NaN</td>\n",
       "      <td>L</td>\n",
       "      <td>L</td>\n",
       "      <td>L</td>\n",
       "      <td>...</td>\n",
       "      <td>AMPHIBIA</td>\n",
       "      <td>CAUDATA</td>\n",
       "      <td>SALAMANDRIDAE</td>\n",
       "      <td>Hypselotriton</td>\n",
       "      <td>cyanurus</td>\n",
       "      <td>LC</td>\n",
       "      <td>f</td>\n",
       "      <td>t</td>\n",
       "      <td>t</td>\n",
       "      <td>59440.0</td>\n",
       "    </tr>\n",
       "    <tr>\n",
       "      <th>980</th>\n",
       "      <td>3529</td>\n",
       "      <td>51161</td>\n",
       "      <td>SALAMANDRIDAE</td>\n",
       "      <td>Cynops</td>\n",
       "      <td>orientalis</td>\n",
       "      <td>Cynops orientalis</td>\n",
       "      <td>NaN</td>\n",
       "      <td>L</td>\n",
       "      <td>L</td>\n",
       "      <td>L</td>\n",
       "      <td>...</td>\n",
       "      <td>AMPHIBIA</td>\n",
       "      <td>CAUDATA</td>\n",
       "      <td>SALAMANDRIDAE</td>\n",
       "      <td>Hypselotriton</td>\n",
       "      <td>orientalis</td>\n",
       "      <td>LC</td>\n",
       "      <td>f</td>\n",
       "      <td>t</td>\n",
       "      <td>t</td>\n",
       "      <td>59442.0</td>\n",
       "    </tr>\n",
       "    <tr>\n",
       "      <th>981</th>\n",
       "      <td>3529</td>\n",
       "      <td>51161</td>\n",
       "      <td>SALAMANDRIDAE</td>\n",
       "      <td>Cynops</td>\n",
       "      <td>orientalis</td>\n",
       "      <td>Cynops orientalis</td>\n",
       "      <td>NaN</td>\n",
       "      <td>L</td>\n",
       "      <td>L</td>\n",
       "      <td>L</td>\n",
       "      <td>...</td>\n",
       "      <td>AMPHIBIA</td>\n",
       "      <td>CAUDATA</td>\n",
       "      <td>SALAMANDRIDAE</td>\n",
       "      <td>Hypselotriton</td>\n",
       "      <td>orientalis</td>\n",
       "      <td>LC</td>\n",
       "      <td>f</td>\n",
       "      <td>t</td>\n",
       "      <td>t</td>\n",
       "      <td>59442.0</td>\n",
       "    </tr>\n",
       "    <tr>\n",
       "      <th>982</th>\n",
       "      <td>3529</td>\n",
       "      <td>51161</td>\n",
       "      <td>SALAMANDRIDAE</td>\n",
       "      <td>Cynops</td>\n",
       "      <td>orientalis</td>\n",
       "      <td>Cynops orientalis</td>\n",
       "      <td>NaN</td>\n",
       "      <td>L</td>\n",
       "      <td>L</td>\n",
       "      <td>L</td>\n",
       "      <td>...</td>\n",
       "      <td>AMPHIBIA</td>\n",
       "      <td>CAUDATA</td>\n",
       "      <td>SALAMANDRIDAE</td>\n",
       "      <td>Hypselotriton</td>\n",
       "      <td>orientalis</td>\n",
       "      <td>LC</td>\n",
       "      <td>f</td>\n",
       "      <td>t</td>\n",
       "      <td>t</td>\n",
       "      <td>59442.0</td>\n",
       "    </tr>\n",
       "    <tr>\n",
       "      <th>983</th>\n",
       "      <td>3529</td>\n",
       "      <td>51161</td>\n",
       "      <td>SALAMANDRIDAE</td>\n",
       "      <td>Cynops</td>\n",
       "      <td>orientalis</td>\n",
       "      <td>Cynops orientalis</td>\n",
       "      <td>NaN</td>\n",
       "      <td>L</td>\n",
       "      <td>L</td>\n",
       "      <td>L</td>\n",
       "      <td>...</td>\n",
       "      <td>AMPHIBIA</td>\n",
       "      <td>CAUDATA</td>\n",
       "      <td>SALAMANDRIDAE</td>\n",
       "      <td>Hypselotriton</td>\n",
       "      <td>orientalis</td>\n",
       "      <td>LC</td>\n",
       "      <td>f</td>\n",
       "      <td>t</td>\n",
       "      <td>t</td>\n",
       "      <td>59442.0</td>\n",
       "    </tr>\n",
       "    <tr>\n",
       "      <th>1306</th>\n",
       "      <td>2789</td>\n",
       "      <td>20162</td>\n",
       "      <td>MICROHYLIDAE</td>\n",
       "      <td>Gastrophryne</td>\n",
       "      <td>pictiventris</td>\n",
       "      <td>Gastrophryne pictiventris</td>\n",
       "      <td>NaN</td>\n",
       "      <td>L</td>\n",
       "      <td>L</td>\n",
       "      <td>H</td>\n",
       "      <td>...</td>\n",
       "      <td>AMPHIBIA</td>\n",
       "      <td>ANURA</td>\n",
       "      <td>MICROHYLIDAE</td>\n",
       "      <td>Hypopachus</td>\n",
       "      <td>pictiventris</td>\n",
       "      <td>LC</td>\n",
       "      <td>f</td>\n",
       "      <td>t</td>\n",
       "      <td>t</td>\n",
       "      <td>57816.0</td>\n",
       "    </tr>\n",
       "    <tr>\n",
       "      <th>1307</th>\n",
       "      <td>2790</td>\n",
       "      <td>19796</td>\n",
       "      <td>MICROHYLIDAE</td>\n",
       "      <td>Gastrophryne</td>\n",
       "      <td>usta</td>\n",
       "      <td>Gastrophryne usta</td>\n",
       "      <td>NaN</td>\n",
       "      <td>L</td>\n",
       "      <td>L</td>\n",
       "      <td>L</td>\n",
       "      <td>...</td>\n",
       "      <td>AMPHIBIA</td>\n",
       "      <td>ANURA</td>\n",
       "      <td>MICROHYLIDAE</td>\n",
       "      <td>Hypopachus</td>\n",
       "      <td>ustus</td>\n",
       "      <td>LC</td>\n",
       "      <td>f</td>\n",
       "      <td>t</td>\n",
       "      <td>t</td>\n",
       "      <td>57817.0</td>\n",
       "    </tr>\n",
       "    <tr>\n",
       "      <th>1393</th>\n",
       "      <td>3897</td>\n",
       "      <td>100217</td>\n",
       "      <td>HELEOPHRYNIDAE</td>\n",
       "      <td>Heleophryne</td>\n",
       "      <td>natalensis</td>\n",
       "      <td>Heleophryne natalensis</td>\n",
       "      <td>NaN</td>\n",
       "      <td>L</td>\n",
       "      <td>L</td>\n",
       "      <td>L</td>\n",
       "      <td>...</td>\n",
       "      <td>AMPHIBIA</td>\n",
       "      <td>ANURA</td>\n",
       "      <td>HELEOPHRYNIDAE</td>\n",
       "      <td>Hadromophryne</td>\n",
       "      <td>natalensis</td>\n",
       "      <td>LC</td>\n",
       "      <td>f</td>\n",
       "      <td>t</td>\n",
       "      <td>t</td>\n",
       "      <td>55273.0</td>\n",
       "    </tr>\n",
       "    <tr>\n",
       "      <th>1751</th>\n",
       "      <td>2792</td>\n",
       "      <td>29294</td>\n",
       "      <td>MICROHYLIDAE</td>\n",
       "      <td>Hyophryne</td>\n",
       "      <td>histrio</td>\n",
       "      <td>Hyophryne histrio</td>\n",
       "      <td>NaN</td>\n",
       "      <td>L</td>\n",
       "      <td>L</td>\n",
       "      <td>H</td>\n",
       "      <td>...</td>\n",
       "      <td>AMPHIBIA</td>\n",
       "      <td>ANURA</td>\n",
       "      <td>MICROHYLIDAE</td>\n",
       "      <td>Stereocyclops</td>\n",
       "      <td>histrio</td>\n",
       "      <td>DD</td>\n",
       "      <td>f</td>\n",
       "      <td>t</td>\n",
       "      <td>t</td>\n",
       "      <td>10634.0</td>\n",
       "    </tr>\n",
       "    <tr>\n",
       "      <th>2093</th>\n",
       "      <td>2137</td>\n",
       "      <td>29203</td>\n",
       "      <td>BRACHYCEPHALIDAE</td>\n",
       "      <td>Ischnocnema</td>\n",
       "      <td>paulodutrai</td>\n",
       "      <td>Ischnocnema paulodutrai</td>\n",
       "      <td>NaN</td>\n",
       "      <td>H</td>\n",
       "      <td>L</td>\n",
       "      <td>L</td>\n",
       "      <td>...</td>\n",
       "      <td>AMPHIBIA</td>\n",
       "      <td>ANURA</td>\n",
       "      <td>CRAUGASTORIDAE</td>\n",
       "      <td>Pristimantis</td>\n",
       "      <td>paulodutrai</td>\n",
       "      <td>LC</td>\n",
       "      <td>f</td>\n",
       "      <td>f</td>\n",
       "      <td>t</td>\n",
       "      <td>56835.0</td>\n",
       "    </tr>\n",
       "    <tr>\n",
       "      <th>4522</th>\n",
       "      <td>5278</td>\n",
       "      <td>9562</td>\n",
       "      <td>MICROHYLIDAE</td>\n",
       "      <td>Stumpffia</td>\n",
       "      <td>grandis</td>\n",
       "      <td>Stumpffia grandis</td>\n",
       "      <td>NaN</td>\n",
       "      <td>L</td>\n",
       "      <td>L</td>\n",
       "      <td>L</td>\n",
       "      <td>...</td>\n",
       "      <td>AMPHIBIA</td>\n",
       "      <td>ANURA</td>\n",
       "      <td>MICROHYLIDAE</td>\n",
       "      <td>Rhombophryne</td>\n",
       "      <td>grandis</td>\n",
       "      <td>DD</td>\n",
       "      <td>f</td>\n",
       "      <td>f</td>\n",
       "      <td>t</td>\n",
       "      <td>58009.0</td>\n",
       "    </tr>\n",
       "    <tr>\n",
       "      <th>4523</th>\n",
       "      <td>5282</td>\n",
       "      <td>9566</td>\n",
       "      <td>MICROHYLIDAE</td>\n",
       "      <td>Stumpffia</td>\n",
       "      <td>tridactyla</td>\n",
       "      <td>Stumpffia tridactyla</td>\n",
       "      <td>NaN</td>\n",
       "      <td>L</td>\n",
       "      <td>L</td>\n",
       "      <td>L</td>\n",
       "      <td>...</td>\n",
       "      <td>AMPHIBIA</td>\n",
       "      <td>ANURA</td>\n",
       "      <td>MICROHYLIDAE</td>\n",
       "      <td>Rhombophryne</td>\n",
       "      <td>tridactyla</td>\n",
       "      <td>DD</td>\n",
       "      <td>f</td>\n",
       "      <td>f</td>\n",
       "      <td>t</td>\n",
       "      <td>58015.0</td>\n",
       "    </tr>\n",
       "  </tbody>\n",
       "</table>\n",
       "<p>16 rows × 58 columns</p>\n",
       "</div>"
      ],
      "text/plain": [
       "      SVP_ID  SIS_GAA_ID        GAA Family         Genus       Species  \\\n",
       "398     3260        9380      MICROHYLIDAE   Anodonthyla   boulengerii   \n",
       "797     2771       32142      MICROHYLIDAE  Chiasmocleis    panamensis   \n",
       "798     2771       32142      MICROHYLIDAE  Chiasmocleis    panamensis   \n",
       "978     4258       51160     SALAMANDRIDAE        Cynops      cyanurus   \n",
       "979     4258       51160     SALAMANDRIDAE        Cynops      cyanurus   \n",
       "980     3529       51161     SALAMANDRIDAE        Cynops    orientalis   \n",
       "981     3529       51161     SALAMANDRIDAE        Cynops    orientalis   \n",
       "982     3529       51161     SALAMANDRIDAE        Cynops    orientalis   \n",
       "983     3529       51161     SALAMANDRIDAE        Cynops    orientalis   \n",
       "1306    2789       20162      MICROHYLIDAE  Gastrophryne  pictiventris   \n",
       "1307    2790       19796      MICROHYLIDAE  Gastrophryne          usta   \n",
       "1393    3897      100217    HELEOPHRYNIDAE   Heleophryne    natalensis   \n",
       "1751    2792       29294      MICROHYLIDAE     Hyophryne       histrio   \n",
       "2093    2137       29203  BRACHYCEPHALIDAE   Ischnocnema   paulodutrai   \n",
       "4522    5278        9562      MICROHYLIDAE     Stumpffia       grandis   \n",
       "4523    5282        9566      MICROHYLIDAE     Stumpffia    tridactyla   \n",
       "\n",
       "                       Fullname Threatened SUSC_A_Habitats  \\\n",
       "398     Anodonthyla boulengerii        NaN               L   \n",
       "797     Chiasmocleis panamensis        NaN               L   \n",
       "798     Chiasmocleis panamensis        NaN               L   \n",
       "978             Cynops cyanurus        NaN               L   \n",
       "979             Cynops cyanurus        NaN               L   \n",
       "980           Cynops orientalis        NaN               L   \n",
       "981           Cynops orientalis        NaN               L   \n",
       "982           Cynops orientalis        NaN               L   \n",
       "983           Cynops orientalis        NaN               L   \n",
       "1306  Gastrophryne pictiventris        NaN               L   \n",
       "1307          Gastrophryne usta        NaN               L   \n",
       "1393     Heleophryne natalensis        NaN               L   \n",
       "1751          Hyophryne histrio        NaN               L   \n",
       "2093    Ischnocnema paulodutrai        NaN               H   \n",
       "4522          Stumpffia grandis        NaN               L   \n",
       "4523       Stumpffia tridactyla        NaN               L   \n",
       "\n",
       "     SUSC_A_aquatic larvae SUSC_B_Temperature Range    ...    class_name  \\\n",
       "398                      L                        L    ...      AMPHIBIA   \n",
       "797                      H                        H    ...      AMPHIBIA   \n",
       "798                      H                        H    ...      AMPHIBIA   \n",
       "978                      L                        L    ...      AMPHIBIA   \n",
       "979                      L                        L    ...      AMPHIBIA   \n",
       "980                      L                        L    ...      AMPHIBIA   \n",
       "981                      L                        L    ...      AMPHIBIA   \n",
       "982                      L                        L    ...      AMPHIBIA   \n",
       "983                      L                        L    ...      AMPHIBIA   \n",
       "1306                     L                        H    ...      AMPHIBIA   \n",
       "1307                     L                        L    ...      AMPHIBIA   \n",
       "1393                     L                        L    ...      AMPHIBIA   \n",
       "1751                     L                        H    ...      AMPHIBIA   \n",
       "2093                     L                        L    ...      AMPHIBIA   \n",
       "4522                     L                        L    ...      AMPHIBIA   \n",
       "4523                     L                        L    ...      AMPHIBIA   \n",
       "\n",
       "     order_name     family_name      genus_name  species_name category  \\\n",
       "398       ANURA    MICROHYLIDAE     Anodonthyla    boulengeri       LC   \n",
       "797       ANURA    MICROHYLIDAE  Elachistocleis    panamensis       LC   \n",
       "798       ANURA    MICROHYLIDAE  Elachistocleis    panamensis       LC   \n",
       "978     CAUDATA   SALAMANDRIDAE   Hypselotriton      cyanurus       LC   \n",
       "979     CAUDATA   SALAMANDRIDAE   Hypselotriton      cyanurus       LC   \n",
       "980     CAUDATA   SALAMANDRIDAE   Hypselotriton    orientalis       LC   \n",
       "981     CAUDATA   SALAMANDRIDAE   Hypselotriton    orientalis       LC   \n",
       "982     CAUDATA   SALAMANDRIDAE   Hypselotriton    orientalis       LC   \n",
       "983     CAUDATA   SALAMANDRIDAE   Hypselotriton    orientalis       LC   \n",
       "1306      ANURA    MICROHYLIDAE      Hypopachus  pictiventris       LC   \n",
       "1307      ANURA    MICROHYLIDAE      Hypopachus         ustus       LC   \n",
       "1393      ANURA  HELEOPHRYNIDAE   Hadromophryne    natalensis       LC   \n",
       "1751      ANURA    MICROHYLIDAE   Stereocyclops       histrio       DD   \n",
       "2093      ANURA  CRAUGASTORIDAE    Pristimantis   paulodutrai       LC   \n",
       "4522      ANURA    MICROHYLIDAE    Rhombophryne       grandis       DD   \n",
       "4523      ANURA    MICROHYLIDAE    Rhombophryne    tridactyla       DD   \n",
       "\n",
       "     biome_marine biome_freshwater biome_terrestrial id_no_int  \n",
       "398             f                f                 t   57674.0  \n",
       "797             f                t                 t   57761.0  \n",
       "798             f                t                 t   57761.0  \n",
       "978             f                t                 t   59440.0  \n",
       "979             f                t                 t   59440.0  \n",
       "980             f                t                 t   59442.0  \n",
       "981             f                t                 t   59442.0  \n",
       "982             f                t                 t   59442.0  \n",
       "983             f                t                 t   59442.0  \n",
       "1306            f                t                 t   57816.0  \n",
       "1307            f                t                 t   57817.0  \n",
       "1393            f                t                 t   55273.0  \n",
       "1751            f                t                 t   10634.0  \n",
       "2093            f                f                 t   56835.0  \n",
       "4522            f                f                 t   58009.0  \n",
       "4523            f                f                 t   58015.0  \n",
       "\n",
       "[16 rows x 58 columns]"
      ]
     },
     "execution_count": 28,
     "metadata": {},
     "output_type": "execute_result"
    }
   ],
   "source": [
    "test_amp[test_amp.id_no_int.isin(test_dif)]"
   ]
  },
  {
   "cell_type": "markdown",
   "metadata": {},
   "source": [
    "As a result, use direct join between RL intersection and CCV."
   ]
  },
  {
   "cell_type": "code",
   "execution_count": 29,
   "metadata": {
    "collapsed": true
   },
   "outputs": [],
   "source": [
    "## remove test variables \n",
    "del amp_result, test_amp"
   ]
  },
  {
   "cell_type": "markdown",
   "metadata": {},
   "source": [
    "## 3. Analysis\n",
    "There are several tasks outstanding:\n",
    "1. first of all, a reasonable and defendable cut-off percentage overlap value needs to be calculated as to determine what constitutes species found within World Heritage sites.\n",
    "2. once the value is decided, the `wdpaid, id_no` look up table is then filtered, and it can be further refined by variables such as IUCN Red List category, CCV traits etc.\n",
    "3. because the first question needs answering before further steps, and it may change. It is advisable to create a function to facilitate such process. i.e. a function such as:\n",
    "```python\n",
    "def f(input_result_table, cut-off-value):\n",
    "    new_table= input_result_table[input_result_table.per >= cut-off-value]\n",
    "    # function to produces outputs based on the result table\n",
    "    result = process_result(new_table)\n",
    "    return result\n",
    "```"
   ]
  },
  {
   "cell_type": "markdown",
   "metadata": {},
   "source": [
    "### the cut-off value\n",
    "The EOO (extent of occurence) nature of the Red List species distribution polygon, an overlap between a species and a WH site does not necessarily suggest that a species is present. This is made worse if only part of the distribution polygon intersects with the WH site - this could be a digitisation error or simply inaccuracy due to a scale mismatch. Such 'species within WH sites' as a result must be removed. Quantiles of can be a useful way to look at."
   ]
  },
  {
   "cell_type": "code",
   "execution_count": 30,
   "metadata": {
    "collapsed": false
   },
   "outputs": [],
   "source": [
    "# what happens if a join is made directly without going through SIS and ID_NO\n",
    "result_amp = pd.merge(amp, result, left_on='Fullname', right_on='binomial')\n",
    "result_bird = pd.merge(bird, result, left_on='Fullname', right_on='binomial')\n",
    "result_coral = pd.merge(coral_unique, result, left_on='Fullname', right_on='binomial')"
   ]
  },
  {
   "cell_type": "code",
   "execution_count": 31,
   "metadata": {
    "collapsed": false
   },
   "outputs": [
    {
     "data": {
      "text/plain": [
       "<matplotlib.axes._subplots.AxesSubplot at 0x10f15320>"
      ]
     },
     "execution_count": 31,
     "metadata": {},
     "output_type": "execute_result"
    },
    {
     "data": {
      "image/png": "[encoded data removed]",
      "text/plain": [
       "<matplotlib.figure.Figure at 0x10bf5a58>"
      ]
     },
     "metadata": {},
     "output_type": "display_data"
    }
   ],
   "source": [
    "all_per_abc = pd.concat([result_amp.per, result_bird.per, result_coral.per])\n",
    "all_per_abc.hist(bins=50)"
   ]
  },
  {
   "cell_type": "markdown",
   "metadata": {},
   "source": [
    "The large majority of overlaps are fairely big, suggesting sites WH are generally entirely covered by species. This is not surprising as most species distributions polygons are a few magnitudes bigger than WH sites. Yet, it is possible that range-restricted and/or threatened species may have much smaller range."
   ]
  },
  {
   "cell_type": "code",
   "execution_count": 32,
   "metadata": {
    "collapsed": false
   },
   "outputs": [
    {
     "data": {
      "text/plain": [
       "0.9582745841568836"
      ]
     },
     "execution_count": 32,
     "metadata": {},
     "output_type": "execute_result"
    }
   ],
   "source": [
    "all_per_abc.quantile(0.5)"
   ]
  },
  {
   "cell_type": "markdown",
   "metadata": {},
   "source": [
    "For illustration purposes, note the difference of choosing a cut-off value between 10% and 15% is not signicant (~2%, or ~2000 pa-species pair less). This should have minimal effects on the result."
   ]
  },
  {
   "cell_type": "code",
   "execution_count": 33,
   "metadata": {
    "collapsed": false
   },
   "outputs": [
    {
     "data": {
      "text/plain": [
       "(56508, 58029, 60301)"
      ]
     },
     "execution_count": 33,
     "metadata": {},
     "output_type": "execute_result"
    }
   ],
   "source": [
    "(all_per_abc>0.15).sum(), (all_per_abc>0.1).sum(), (all_per_abc>0.05).sum()"
   ]
  },
  {
   "cell_type": "code",
   "execution_count": 34,
   "metadata": {
    "collapsed": false
   },
   "outputs": [
    {
     "data": {
      "text/plain": [
       "0.022358440642088553"
      ]
     },
     "execution_count": 34,
     "metadata": {},
     "output_type": "execute_result"
    }
   ],
   "source": [
    "((all_per_abc>0.1).sum() - (all_per_abc>0.15).sum())/all_per_abc.index.size"
   ]
  },
  {
   "cell_type": "markdown",
   "metadata": {},
   "source": [
    "However, if we look at amphibians, birds and mammals separately, it is easily noticeable that corals have significant number of low percentage overlaps. This is because marine World Heritage sites tend to be rather extensive and huge compared to coral distributions which are coastal. Thus it is important to examine the absolute overlap as well for corals."
   ]
  },
  {
   "cell_type": "code",
   "execution_count": 35,
   "metadata": {
    "collapsed": false
   },
   "outputs": [
    {
     "data": {
      "text/plain": [
       "<matplotlib.axes._subplots.AxesSubplot at 0x10c5c0f0>"
      ]
     },
     "execution_count": 35,
     "metadata": {},
     "output_type": "execute_result"
    },
    {
     "data": {
      "image/png": "[encoded data removed]",
      "text/plain": [
       "<matplotlib.figure.Figure at 0x110fd1d0>"
      ]
     },
     "metadata": {},
     "output_type": "display_data"
    }
   ],
   "source": [
    "result_amp.per.hist(bins=50)"
   ]
  },
  {
   "cell_type": "code",
   "execution_count": 36,
   "metadata": {
    "collapsed": false
   },
   "outputs": [
    {
     "data": {
      "text/plain": [
       "<matplotlib.axes._subplots.AxesSubplot at 0xd9ae2b0>"
      ]
     },
     "execution_count": 36,
     "metadata": {},
     "output_type": "execute_result"
    },
    {
     "data": {
      "image/png": "[encoded data removed]",
      "text/plain": [
       "<matplotlib.figure.Figure at 0x10c637f0>"
      ]
     },
     "metadata": {},
     "output_type": "display_data"
    }
   ],
   "source": [
    "result_bird.per.hist(bins=50)"
   ]
  },
  {
   "cell_type": "code",
   "execution_count": 37,
   "metadata": {
    "collapsed": false
   },
   "outputs": [
    {
     "data": {
      "text/plain": [
       "<matplotlib.axes._subplots.AxesSubplot at 0xb73bb70>"
      ]
     },
     "execution_count": 37,
     "metadata": {},
     "output_type": "execute_result"
    },
    {
     "data": {
      "image/png": "[encoded data removed]",
      "text/plain": [
       "<matplotlib.figure.Figure at 0xb7352b0>"
      ]
     },
     "metadata": {},
     "output_type": "display_data"
    }
   ],
   "source": [
    "result_coral.per.hist(bins=50)"
   ]
  },
  {
   "cell_type": "code",
   "execution_count": 38,
   "metadata": {
    "collapsed": false
   },
   "outputs": [
    {
     "data": {
      "text/plain": [
       "<matplotlib.axes._subplots.AxesSubplot at 0xc86b668>"
      ]
     },
     "execution_count": 38,
     "metadata": {},
     "output_type": "execute_result"
    },
    {
     "data": {
      "image/png": "[encoded data removed]",
      "text/plain": [
       "<matplotlib.figure.Figure at 0xd8b8860>"
      ]
     },
     "metadata": {},
     "output_type": "display_data"
    }
   ],
   "source": [
    "result_amp.areakm2_x.hist(bins =50, log=True)"
   ]
  },
  {
   "cell_type": "code",
   "execution_count": 39,
   "metadata": {
    "collapsed": false
   },
   "outputs": [
    {
     "data": {
      "text/plain": [
       "<matplotlib.axes._subplots.AxesSubplot at 0x1cf68208>"
      ]
     },
     "execution_count": 39,
     "metadata": {},
     "output_type": "execute_result"
    },
    {
     "data": {
      "image/png": "[encoded data removed]",
      "text/plain": [
       "<matplotlib.figure.Figure at 0xdeb04e0>"
      ]
     },
     "metadata": {},
     "output_type": "display_data"
    }
   ],
   "source": [
    "result_bird.areakm2_x.hist(bins =50, log=True)"
   ]
  },
  {
   "cell_type": "code",
   "execution_count": 40,
   "metadata": {
    "collapsed": false
   },
   "outputs": [
    {
     "data": {
      "text/plain": [
       "<matplotlib.axes._subplots.AxesSubplot at 0x1d0d03c8>"
      ]
     },
     "execution_count": 40,
     "metadata": {},
     "output_type": "execute_result"
    },
    {
     "data": {
      "image/png": "[encoded data removed]",
      "text/plain": [
       "<matplotlib.figure.Figure at 0x1d0d0358>"
      ]
     },
     "metadata": {},
     "output_type": "display_data"
    }
   ],
   "source": [
    "result_coral.areakm2_x.hist(bins =50, log=True)"
   ]
  },
  {
   "cell_type": "markdown",
   "metadata": {},
   "source": [
    "The histograms show all three taxa have a bimodal distribution, with significant number of values near two poles (very large overlaps or very small ones)"
   ]
  },
  {
   "cell_type": "code",
   "execution_count": 41,
   "metadata": {
    "collapsed": false
   },
   "outputs": [
    {
     "data": {
      "text/html": [
       "<div>\n",
       "<table border=\"1\" class=\"dataframe\">\n",
       "  <thead>\n",
       "    <tr style=\"text-align: right;\">\n",
       "      <th></th>\n",
       "      <th>en_name</th>\n",
       "      <th>binomial</th>\n",
       "      <th>areakm2_x</th>\n",
       "      <th>per</th>\n",
       "    </tr>\n",
       "  </thead>\n",
       "  <tbody>\n",
       "    <tr>\n",
       "      <th>5363</th>\n",
       "      <td>Darien National Park</td>\n",
       "      <td>Millepora intricata</td>\n",
       "      <td>0.033701</td>\n",
       "      <td>0.000006</td>\n",
       "    </tr>\n",
       "    <tr>\n",
       "      <th>7471</th>\n",
       "      <td>Tropical Rainforest Heritage of Sumatra</td>\n",
       "      <td>Podabacia motuporensis</td>\n",
       "      <td>0.874951</td>\n",
       "      <td>0.000034</td>\n",
       "    </tr>\n",
       "    <tr>\n",
       "      <th>2550</th>\n",
       "      <td>Tropical Rainforest Heritage of Sumatra</td>\n",
       "      <td>Ctenactis albitentaculata</td>\n",
       "      <td>0.999503</td>\n",
       "      <td>0.000038</td>\n",
       "    </tr>\n",
       "    <tr>\n",
       "      <th>169</th>\n",
       "      <td>Tropical Rainforest Heritage of Sumatra</td>\n",
       "      <td>Acropora abrolhosensis</td>\n",
       "      <td>0.999503</td>\n",
       "      <td>0.000038</td>\n",
       "    </tr>\n",
       "    <tr>\n",
       "      <th>4692</th>\n",
       "      <td>Henderson Island</td>\n",
       "      <td>Leptastrea pruinosa</td>\n",
       "      <td>0.002691</td>\n",
       "      <td>0.000065</td>\n",
       "    </tr>\n",
       "    <tr>\n",
       "      <th>430</th>\n",
       "      <td>Henderson Island</td>\n",
       "      <td>Acropora cytherea</td>\n",
       "      <td>0.002691</td>\n",
       "      <td>0.000065</td>\n",
       "    </tr>\n",
       "    <tr>\n",
       "      <th>777</th>\n",
       "      <td>Henderson Island</td>\n",
       "      <td>Acropora hyacinthus</td>\n",
       "      <td>0.002691</td>\n",
       "      <td>0.000065</td>\n",
       "    </tr>\n",
       "    <tr>\n",
       "      <th>1577</th>\n",
       "      <td>Henderson Island</td>\n",
       "      <td>Acropora subulata</td>\n",
       "      <td>0.002691</td>\n",
       "      <td>0.000065</td>\n",
       "    </tr>\n",
       "    <tr>\n",
       "      <th>3214</th>\n",
       "      <td>Henderson Island</td>\n",
       "      <td>Favia matthaii</td>\n",
       "      <td>0.002691</td>\n",
       "      <td>0.000065</td>\n",
       "    </tr>\n",
       "    <tr>\n",
       "      <th>755</th>\n",
       "      <td>Henderson Island</td>\n",
       "      <td>Acropora humilis</td>\n",
       "      <td>0.002691</td>\n",
       "      <td>0.000065</td>\n",
       "    </tr>\n",
       "    <tr>\n",
       "      <th>6285</th>\n",
       "      <td>Henderson Island</td>\n",
       "      <td>Montipora venosa</td>\n",
       "      <td>0.002691</td>\n",
       "      <td>0.000065</td>\n",
       "    </tr>\n",
       "    <tr>\n",
       "      <th>7714</th>\n",
       "      <td>Henderson Island</td>\n",
       "      <td>Porites lobata</td>\n",
       "      <td>0.002691</td>\n",
       "      <td>0.000065</td>\n",
       "    </tr>\n",
       "    <tr>\n",
       "      <th>281</th>\n",
       "      <td>Henderson Island</td>\n",
       "      <td>Acropora austera</td>\n",
       "      <td>0.002691</td>\n",
       "      <td>0.000065</td>\n",
       "    </tr>\n",
       "    <tr>\n",
       "      <th>1347</th>\n",
       "      <td>Henderson Island</td>\n",
       "      <td>Acropora retusa</td>\n",
       "      <td>0.002691</td>\n",
       "      <td>0.000065</td>\n",
       "    </tr>\n",
       "    <tr>\n",
       "      <th>2389</th>\n",
       "      <td>Henderson Island</td>\n",
       "      <td>Caulastrea furcata</td>\n",
       "      <td>0.002691</td>\n",
       "      <td>0.000065</td>\n",
       "    </tr>\n",
       "    <tr>\n",
       "      <th>1362</th>\n",
       "      <td>Henderson Island</td>\n",
       "      <td>Acropora robusta</td>\n",
       "      <td>0.002691</td>\n",
       "      <td>0.000065</td>\n",
       "    </tr>\n",
       "    <tr>\n",
       "      <th>5587</th>\n",
       "      <td>Henderson Island</td>\n",
       "      <td>Montipora australiensis</td>\n",
       "      <td>0.002691</td>\n",
       "      <td>0.000065</td>\n",
       "    </tr>\n",
       "    <tr>\n",
       "      <th>4715</th>\n",
       "      <td>Henderson Island</td>\n",
       "      <td>Leptastrea purpurea</td>\n",
       "      <td>0.002691</td>\n",
       "      <td>0.000065</td>\n",
       "    </tr>\n",
       "    <tr>\n",
       "      <th>5133</th>\n",
       "      <td>Henderson Island</td>\n",
       "      <td>Lobophyllia hemprichii</td>\n",
       "      <td>0.002691</td>\n",
       "      <td>0.000065</td>\n",
       "    </tr>\n",
       "    <tr>\n",
       "      <th>7743</th>\n",
       "      <td>Henderson Island</td>\n",
       "      <td>Porites lutea</td>\n",
       "      <td>0.002691</td>\n",
       "      <td>0.000065</td>\n",
       "    </tr>\n",
       "  </tbody>\n",
       "</table>\n",
       "</div>"
      ],
      "text/plain": [
       "                                      en_name                   binomial  \\\n",
       "5363                     Darien National Park        Millepora intricata   \n",
       "7471  Tropical Rainforest Heritage of Sumatra     Podabacia motuporensis   \n",
       "2550  Tropical Rainforest Heritage of Sumatra  Ctenactis albitentaculata   \n",
       "169   Tropical Rainforest Heritage of Sumatra     Acropora abrolhosensis   \n",
       "4692                         Henderson Island        Leptastrea pruinosa   \n",
       "430                          Henderson Island          Acropora cytherea   \n",
       "777                          Henderson Island        Acropora hyacinthus   \n",
       "1577                         Henderson Island          Acropora subulata   \n",
       "3214                         Henderson Island             Favia matthaii   \n",
       "755                          Henderson Island           Acropora humilis   \n",
       "6285                         Henderson Island           Montipora venosa   \n",
       "7714                         Henderson Island             Porites lobata   \n",
       "281                          Henderson Island           Acropora austera   \n",
       "1347                         Henderson Island            Acropora retusa   \n",
       "2389                         Henderson Island         Caulastrea furcata   \n",
       "1362                         Henderson Island           Acropora robusta   \n",
       "5587                         Henderson Island    Montipora australiensis   \n",
       "4715                         Henderson Island        Leptastrea purpurea   \n",
       "5133                         Henderson Island     Lobophyllia hemprichii   \n",
       "7743                         Henderson Island              Porites lutea   \n",
       "\n",
       "      areakm2_x       per  \n",
       "5363   0.033701  0.000006  \n",
       "7471   0.874951  0.000034  \n",
       "2550   0.999503  0.000038  \n",
       "169    0.999503  0.000038  \n",
       "4692   0.002691  0.000065  \n",
       "430    0.002691  0.000065  \n",
       "777    0.002691  0.000065  \n",
       "1577   0.002691  0.000065  \n",
       "3214   0.002691  0.000065  \n",
       "755    0.002691  0.000065  \n",
       "6285   0.002691  0.000065  \n",
       "7714   0.002691  0.000065  \n",
       "281    0.002691  0.000065  \n",
       "1347   0.002691  0.000065  \n",
       "2389   0.002691  0.000065  \n",
       "1362   0.002691  0.000065  \n",
       "5587   0.002691  0.000065  \n",
       "4715   0.002691  0.000065  \n",
       "5133   0.002691  0.000065  \n",
       "7743   0.002691  0.000065  "
      ]
     },
     "execution_count": 41,
     "metadata": {},
     "output_type": "execute_result"
    }
   ],
   "source": [
    "result_coral.sort_values('per', ascending=True)[['en_name', 'binomial', 'areakm2_x', 'per']].head(20)"
   ]
  },
  {
   "cell_type": "code",
   "execution_count": 42,
   "metadata": {
    "collapsed": false
   },
   "outputs": [
    {
     "data": {
      "text/html": [
       "<div>\n",
       "<table border=\"1\" class=\"dataframe\">\n",
       "  <thead>\n",
       "    <tr style=\"text-align: right;\">\n",
       "      <th></th>\n",
       "      <th>en_name</th>\n",
       "      <th>binomial</th>\n",
       "      <th>areakm2_x</th>\n",
       "      <th>per</th>\n",
       "    </tr>\n",
       "  </thead>\n",
       "  <tbody>\n",
       "    <tr>\n",
       "      <th>195</th>\n",
       "      <td>Henderson Island</td>\n",
       "      <td>Acropora aculeus</td>\n",
       "      <td>0.002691</td>\n",
       "      <td>0.000065</td>\n",
       "    </tr>\n",
       "    <tr>\n",
       "      <th>281</th>\n",
       "      <td>Henderson Island</td>\n",
       "      <td>Acropora austera</td>\n",
       "      <td>0.002691</td>\n",
       "      <td>0.000065</td>\n",
       "    </tr>\n",
       "    <tr>\n",
       "      <th>350</th>\n",
       "      <td>Henderson Island</td>\n",
       "      <td>Acropora cerealis</td>\n",
       "      <td>0.002691</td>\n",
       "      <td>0.000065</td>\n",
       "    </tr>\n",
       "    <tr>\n",
       "      <th>430</th>\n",
       "      <td>Henderson Island</td>\n",
       "      <td>Acropora cytherea</td>\n",
       "      <td>0.002691</td>\n",
       "      <td>0.000065</td>\n",
       "    </tr>\n",
       "    <tr>\n",
       "      <th>480</th>\n",
       "      <td>Henderson Island</td>\n",
       "      <td>Acropora digitifera</td>\n",
       "      <td>0.002691</td>\n",
       "      <td>0.000065</td>\n",
       "    </tr>\n",
       "  </tbody>\n",
       "</table>\n",
       "</div>"
      ],
      "text/plain": [
       "              en_name             binomial  areakm2_x       per\n",
       "195  Henderson Island     Acropora aculeus   0.002691  0.000065\n",
       "281  Henderson Island     Acropora austera   0.002691  0.000065\n",
       "350  Henderson Island    Acropora cerealis   0.002691  0.000065\n",
       "430  Henderson Island    Acropora cytherea   0.002691  0.000065\n",
       "480  Henderson Island  Acropora digitifera   0.002691  0.000065"
      ]
     },
     "execution_count": 42,
     "metadata": {},
     "output_type": "execute_result"
    }
   ],
   "source": [
    "result_coral[['en_name', 'binomial', 'areakm2_x', 'per']][result_coral.en_name.isin(['Henderson Island'])].head()"
   ]
  },
  {
   "cell_type": "markdown",
   "metadata": {},
   "source": [
    "The threshold value can be reasonably justified by using both the perentage overlap and actual overlap. It is obvious if the entire WH site is covered by a species, then it should be counted. If the percentage overlap is too small, it could be either due to an inaccurate boundary, in which case, the species should not be counted; or a genunie overlap if the WH is considerably larger. Therefore, by adding an additional test to the absolute overlap value in $km^2$, ommissions due to small percentage overlap can be reduced. \n",
    "\n",
    "Let's test the effect of using various emperical values of `per` and `abskm2` to remove artifical overlaps caused by the inaccuracy of boundaries. This represents an optimistic estimate of the number of species in WH (reinforced by the nature of Red List EOO)"
   ]
  },
  {
   "cell_type": "code",
   "execution_count": 43,
   "metadata": {
    "collapsed": false
   },
   "outputs": [
    {
     "name": "stdout",
     "output_type": "stream",
     "text": [
      "---only per---\n",
      "0.05 None [(4140, 4772), (50190, 54446), (5971, 8810)]\n",
      "0.15 None [(3751, 4772), (47361, 54446), (5396, 8810)]\n",
      "0.25 None [(3504, 4772), (45570, 54446), (5293, 8810)]\n",
      "0.5 None [(3047, 4772), (41125, 54446), (3795, 8810)]\n",
      "---only abs km2---\n",
      "None 1 [(4689, 4772), (53712, 54446), (8445, 8810)]\n",
      "None 5 [(4575, 4772), (52187, 54446), (7628, 8810)]\n",
      "None 10 [(4523, 4772), (51560, 54446), (7326, 8810)]\n",
      "--- per or abs km2---\n",
      "0.15 1 [(4731, 4772), (54144, 54446), (8445, 8810)]\n",
      "0.15 2 [(4711, 4772), (53852, 54446), (7694, 8810)]\n",
      "0.25 1 [(4731, 4772), (54139, 54446), (8445, 8810)]\n",
      "0.25 2 [(4701, 4772), (53704, 54446), (7694, 8810)]\n",
      "0.25 5 [(4661, 4772), (53298, 54446), (7628, 8810)]\n"
     ]
    }
   ],
   "source": [
    "def test_params(per=None, abkm2=None):\n",
    "    if per is None and abkm2 is None:\n",
    "        result = None\n",
    "    if per and abkm2: # both conditions are applied\n",
    "        result = [(result_taxa[(result_taxa.per>per)|(result_taxa.areakm2_x>abkm2)].index.size, result_taxa.index.size) for \\\n",
    " result_taxa in [result_amp, result_bird, result_coral]]\n",
    "    elif per and abkm2 is None: # only per\n",
    "        result = [(result_taxa[(result_taxa.per>per)].index.size, result_taxa.index.size) for \\\n",
    " result_taxa in [result_amp, result_bird, result_coral]]\n",
    "    elif per is None and abkm2:\n",
    "        result = [(result_taxa[(result_taxa.areakm2_x>abkm2)].index.size, result_taxa.index.size) for \\\n",
    " result_taxa in [result_amp, result_bird, result_coral]]\n",
    "    else:\n",
    "        return None\n",
    "        \n",
    "    print(per, abkm2, result)\n",
    "\n",
    "# # check the number of rows after applying criteria\n",
    "# for each in zip(['after', 'before'], *test_params(0.15, 1)):\n",
    "#     print(each)\n",
    "\n",
    "# per, abkm2, (after and before) for amp, bird and coral\n",
    "print('---only per---')\n",
    "test_params(0.05)\n",
    "test_params(0.15)\n",
    "test_params(0.25)\n",
    "test_params(0.50)\n",
    "print('---only abs km2---')\n",
    "test_params(abkm2=1)\n",
    "test_params(abkm2=5)\n",
    "test_params(abkm2=10)\n",
    "print('--- per or abs km2---')\n",
    "test_params(0.15, 1)\n",
    "test_params(0.15, 2)\n",
    "test_params(0.25, 1)\n",
    "test_params(0.25, 2)\n",
    "test_params(0.25, 5)"
   ]
  },
  {
   "cell_type": "markdown",
   "metadata": {},
   "source": [
    "The result corroborates the distributions that percentage overlaps are *sensitive* and their change has a considerable impact on the number of filtered rows, while s small increase in absolute area in $km^2$ seems to have little effect. It is observed that an increase of per from `15%` to `25%` poses little change. \n",
    "\n",
    "**The threshold values chosen here may present a rather insigificant factor compared to the assumption made by the EOO intersection, i.e., even though a species overlaps 100% with a given WH, it may still be absent. However this approach remains a popular method in estimating global species conservation and offer a consistent view for comprehensively assessed species, in the absence of true area of occupancy (AOO) data.**\n",
    "\n",
    "I use `15%` and `1km^2` as cut-off values"
   ]
  },
  {
   "cell_type": "markdown",
   "metadata": {},
   "source": [
    "### Narrative and questions seeking answers"
   ]
  },
  {
   "cell_type": "markdown",
   "metadata": {},
   "source": [
    "#### Climate vulnerability species inside WH sites\n",
    "To be policy relavant at a site level, it's imperative that climate vulnerability information on individual World Heritage sites be obtained. \n",
    "This analysis illustrates how many amphibians, birds and coral species are affected by climate change in each World Heritage site, by using both the total number of climate vulnerable species and their proportion. Further aggretations can be used to reveal each component within sensitivity, low adaptability and exposure."
   ]
  },
  {
   "cell_type": "code",
   "execution_count": 44,
   "metadata": {
    "collapsed": false
   },
   "outputs": [
    {
     "name": "stdout",
     "output_type": "stream",
     "text": [
      "Filtered Total-intersect Total\n",
      "2013 2030 6204\n",
      "6914 6924 9856\n",
      "724 727 797\n"
     ]
    }
   ],
   "source": [
    "# get filtered result\n",
    "result_amp_f, result_bird_f, result_coral_f = [result_taxa[(result_taxa.per>.15)|(result_taxa.areakm2_x>1)] for \\\n",
    " result_taxa in [result_amp, result_bird, result_coral]]\n",
    "\n",
    "# get species numbers\n",
    "print('Filtered', 'Total-intersect', 'Total')\n",
    "print(result_amp_f.Fullname.unique().size, result_amp.Fullname.unique().size, amp.Fullname.unique().size)\n",
    "print(result_bird_f.Fullname.unique().size, result_bird.Fullname.unique().size, bird.Fullname.unique().size)\n",
    "print(result_coral_f.Fullname.unique().size, result_coral.Fullname.unique().size, coral.Fullname.unique().size)"
   ]
  },
  {
   "cell_type": "markdown",
   "metadata": {},
   "source": [
    "Using a lambda function as an argument to get \n",
    "1. total number of high vulnerability species per WH site \n",
    "2. total number of species per WH site \n",
    "3. percentage of the high vulnerability species per WH site"
   ]
  },
  {
   "cell_type": "code",
   "execution_count": 45,
   "metadata": {
    "collapsed": false
   },
   "outputs": [],
   "source": [
    "## agg_dict passed to do multiple aggregation at the same time\n",
    "## x is a group of FINAL_SCOREs\n",
    "agg_dict = {'FINAL_SCORE':\\\n",
    "            {'H_vul_per': lambda x: (x=='H').sum()/x.size, \\\n",
    "             'total_H_vul': lambda x: (x=='H').sum(),\\\n",
    "             'total_vul':len}}\n",
    "\n",
    "## amp\n",
    "amp_v = result_amp_f.groupby(['wdpaid', 'en_name']).agg(agg_dict).reset_index()\n",
    "amp_v.columns = amp_v.columns.droplevel()\n",
    "\n",
    "# birds\n",
    "bird_v = result_bird_f.groupby(['wdpaid', 'en_name']).agg(agg_dict).reset_index()\n",
    "bird_v.columns = bird_v.columns.droplevel()\n",
    "\n",
    "# corals\n",
    "coral_v = result_coral_f.groupby(['wdpaid', 'en_name']).agg(agg_dict).reset_index()\n",
    "coral_v.columns = coral_v.columns.droplevel()"
   ]
  },
  {
   "cell_type": "code",
   "execution_count": 46,
   "metadata": {
    "collapsed": false
   },
   "outputs": [
    {
     "data": {
      "text/html": [
       "<div>\n",
       "<table border=\"1\" class=\"dataframe\">\n",
       "  <thead>\n",
       "    <tr style=\"text-align: right;\">\n",
       "      <th></th>\n",
       "      <th></th>\n",
       "      <th></th>\n",
       "      <th>H_vul_per</th>\n",
       "      <th>total_vul</th>\n",
       "      <th>total_H_vul</th>\n",
       "    </tr>\n",
       "  </thead>\n",
       "  <tbody>\n",
       "    <tr>\n",
       "      <th>0</th>\n",
       "      <td>191</td>\n",
       "      <td>Galápagos Islands</td>\n",
       "      <td>0.129412</td>\n",
       "      <td>85</td>\n",
       "      <td>11</td>\n",
       "    </tr>\n",
       "    <tr>\n",
       "      <th>1</th>\n",
       "      <td>197</td>\n",
       "      <td>Tikal National Park</td>\n",
       "      <td>0.179661</td>\n",
       "      <td>295</td>\n",
       "      <td>53</td>\n",
       "    </tr>\n",
       "    <tr>\n",
       "      <th>2</th>\n",
       "      <td>2004</td>\n",
       "      <td>Dinosaur Provincial Park</td>\n",
       "      <td>0.126866</td>\n",
       "      <td>134</td>\n",
       "      <td>17</td>\n",
       "    </tr>\n",
       "    <tr>\n",
       "      <th>3</th>\n",
       "      <td>2005</td>\n",
       "      <td>Nahanni National Park</td>\n",
       "      <td>0.141667</td>\n",
       "      <td>120</td>\n",
       "      <td>17</td>\n",
       "    </tr>\n",
       "    <tr>\n",
       "      <th>4</th>\n",
       "      <td>2006</td>\n",
       "      <td>Simien National Park</td>\n",
       "      <td>0.096886</td>\n",
       "      <td>289</td>\n",
       "      <td>28</td>\n",
       "    </tr>\n",
       "  </tbody>\n",
       "</table>\n",
       "</div>"
      ],
      "text/plain": [
       "                                   H_vul_per  total_vul  total_H_vul\n",
       "0   191         Galápagos Islands   0.129412         85           11\n",
       "1   197       Tikal National Park   0.179661        295           53\n",
       "2  2004  Dinosaur Provincial Park   0.126866        134           17\n",
       "3  2005     Nahanni National Park   0.141667        120           17\n",
       "4  2006      Simien National Park   0.096886        289           28"
      ]
     },
     "execution_count": 46,
     "metadata": {},
     "output_type": "execute_result"
    }
   ],
   "source": [
    "bird_v.head()"
   ]
  },
  {
   "cell_type": "markdown",
   "metadata": {},
   "source": [
    "It is necessary to add the missing labels for the two columns"
   ]
  },
  {
   "cell_type": "code",
   "execution_count": 47,
   "metadata": {
    "collapsed": false
   },
   "outputs": [],
   "source": [
    "# rename column names. One cannot do: amp_v.columns[1] = newcolumn_name\n",
    "new_columns = amp_v.columns.values\n",
    "new_columns[:2] = ['wdpaid', 'en_name']\n",
    "\n",
    "amp_v.columns = new_columns\n",
    "bird_v.columns = new_columns\n",
    "coral_v.columns = new_columns"
   ]
  },
  {
   "cell_type": "markdown",
   "metadata": {},
   "source": [
    "Graphs to show both the percentage (the number of species with FINAL SCORE =='H' against all species), and the total number of species that are highly vulnerable. "
   ]
  },
  {
   "cell_type": "code",
   "execution_count": 48,
   "metadata": {
    "collapsed": false
   },
   "outputs": [
    {
     "data": {
      "text/plain": [
       "<matplotlib.axes._subplots.AxesSubplot at 0x1c383c88>"
      ]
     },
     "execution_count": 48,
     "metadata": {},
     "output_type": "execute_result"
    },
    {
     "data": {
      "image/png": "[encoded data removed]",
      "text/plain": [
       "<matplotlib.figure.Figure at 0x1d9d9668>"
      ]
     },
     "metadata": {},
     "output_type": "display_data"
    }
   ],
   "source": [
    "# percentage of H distribution\n",
    "amp_v.H_vul_per.hist(bins=50)"
   ]
  },
  {
   "cell_type": "code",
   "execution_count": 49,
   "metadata": {
    "collapsed": false
   },
   "outputs": [
    {
     "data": {
      "text/plain": [
       "<matplotlib.axes._subplots.AxesSubplot at 0x117bc0b8>"
      ]
     },
     "execution_count": 49,
     "metadata": {},
     "output_type": "execute_result"
    },
    {
     "data": {
      "image/png": "[encoded data removed]",
      "text/plain": [
       "<matplotlib.figure.Figure at 0x117cc8d0>"
      ]
     },
     "metadata": {},
     "output_type": "display_data"
    }
   ],
   "source": [
    "# total number of H distribution\n",
    "amp_v.total_H_vul.hist(bins=50)"
   ]
  },
  {
   "cell_type": "code",
   "execution_count": 50,
   "metadata": {
    "collapsed": false
   },
   "outputs": [
    {
     "data": {
      "text/plain": [
       "<matplotlib.axes._subplots.AxesSubplot at 0x1cfc08d0>"
      ]
     },
     "execution_count": 50,
     "metadata": {},
     "output_type": "execute_result"
    },
    {
     "data": {
      "image/png": "[encoded data removed]",
      "text/plain": [
       "<matplotlib.figure.Figure at 0x1170e7b8>"
      ]
     },
     "metadata": {},
     "output_type": "display_data"
    }
   ],
   "source": [
    "# percentage of H distribution\n",
    "bird_v.H_vul_per.hist(bins=50)"
   ]
  },
  {
   "cell_type": "code",
   "execution_count": 51,
   "metadata": {
    "collapsed": false
   },
   "outputs": [
    {
     "data": {
      "text/plain": [
       "<matplotlib.axes._subplots.AxesSubplot at 0x1c38f160>"
      ]
     },
     "execution_count": 51,
     "metadata": {},
     "output_type": "execute_result"
    },
    {
     "data": {
      "image/png": "[encoded data removed]",
      "text/plain": [
       "<matplotlib.figure.Figure at 0x1d352940>"
      ]
     },
     "metadata": {},
     "output_type": "display_data"
    }
   ],
   "source": [
    "# total number of H distribution\n",
    "bird_v.total_H_vul.hist(bins=50)"
   ]
  },
  {
   "cell_type": "code",
   "execution_count": 52,
   "metadata": {
    "collapsed": false
   },
   "outputs": [
    {
     "data": {
      "text/plain": [
       "<matplotlib.axes._subplots.AxesSubplot at 0x1d8e65f8>"
      ]
     },
     "execution_count": 52,
     "metadata": {},
     "output_type": "execute_result"
    },
    {
     "data": {
      "image/png": "[encoded data removed]",
      "text/plain": [
       "<matplotlib.figure.Figure at 0x11711cf8>"
      ]
     },
     "metadata": {},
     "output_type": "display_data"
    }
   ],
   "source": [
    "# percentage of H distribution\n",
    "coral_v.H_vul_per.hist(bins=50)"
   ]
  },
  {
   "cell_type": "code",
   "execution_count": 53,
   "metadata": {
    "collapsed": false
   },
   "outputs": [
    {
     "data": {
      "text/plain": [
       "<matplotlib.axes._subplots.AxesSubplot at 0x1d89eba8>"
      ]
     },
     "execution_count": 53,
     "metadata": {},
     "output_type": "execute_result"
    },
    {
     "data": {
      "image/png": "[encoded data removed]",
      "text/plain": [
       "<matplotlib.figure.Figure at 0x1da1be80>"
      ]
     },
     "metadata": {},
     "output_type": "display_data"
    }
   ],
   "source": [
    "# total number of H distribution\n",
    "coral_v.total_H_vul.hist(bins=50)"
   ]
  },
  {
   "cell_type": "code",
   "execution_count": 54,
   "metadata": {
    "collapsed": false
   },
   "outputs": [
    {
     "name": "stdout",
     "output_type": "stream",
     "text": [
      "Top WHs with high number of CV birds\n",
      "      wdpaid                                            en_name  H_vul_per  \\\n",
      "92    61612                              Canaima National Park   0.366987   \n",
      "72    17760                                 Manú National Park   0.266350   \n",
      "149  220296                Central Amazon Conservation Complex   0.370307   \n",
      "151  220298                    Central Suriname Nature Reserve   0.411157   \n",
      "41     9614                               Sangay National Park   0.268730   \n",
      "148  220295                  Noel Kempff Mercado National Park   0.227979   \n",
      "52    10903  Talamanca Range-La Amistad Reserves / La Amist...   0.225750   \n",
      "15     2554                               Darien National Park   0.240310   \n",
      "90    61610                           Los Katíos National Park   0.241228   \n",
      "82    26651                           Río Abiseo National Park   0.211240   \n",
      "\n",
      "     total_vul  total_H_vul  \n",
      "92         624          229  \n",
      "72         841          224  \n",
      "149        586          217  \n",
      "151        484          199  \n",
      "41         614          165  \n",
      "148        579          132  \n",
      "52         567          128  \n",
      "15         516          124  \n",
      "90         456          110  \n",
      "82         516          109  \n",
      "==================\n",
      "Top WHs with high percentage of CV birds\n",
      "         wdpaid                                            en_name  H_vul_per  \\\n",
      "120     145576                         Heard and McDonald Islands   0.512195   \n",
      "177     902373                                 Ilulissat Icefjord   0.500000   \n",
      "204  555512003                                   Putorana Plateau   0.472222   \n",
      "198     903139                                            Surtsey   0.431373   \n",
      "128     168239                  New Zealand Sub-Antarctic Islands   0.423077   \n",
      "151     220298                    Central Suriname Nature Reserve   0.411157   \n",
      "61       12207                Giant's Causeway and Causeway Coast   0.400000   \n",
      "118     124388                                      Laponian Area   0.396947   \n",
      "184     902489  West Norwegian Fjords  Geirangerfjord and Nær...   0.395522   \n",
      "224  555577556                                       Stevns Klint   0.394161   \n",
      "\n",
      "     total_vul  total_H_vul  \n",
      "120         41           21  \n",
      "177         36           18  \n",
      "204         72           34  \n",
      "198         51           22  \n",
      "128         78           33  \n",
      "151        484          199  \n",
      "61         100           40  \n",
      "118        131           52  \n",
      "184        134           53  \n",
      "224        137           54  \n"
     ]
    }
   ],
   "source": [
    "print('Top WHs with high number of CV birds\\n', bird_v.sort_values('total_H_vul', ascending=False).head(10))\n",
    "print('==================')\n",
    "print('Top WHs with high percentage of CV birds\\n', bird_v.sort_values('H_vul_per', ascending=False).head(10))"
   ]
  },
  {
   "cell_type": "code",
   "execution_count": 55,
   "metadata": {
    "collapsed": false
   },
   "outputs": [
    {
     "name": "stdout",
     "output_type": "stream",
     "text": [
      "Top WHs with high number of CV amphibians\n",
      "      wdpaid                                            en_name  H_vul_per  \\\n",
      "49    10903  Talamanca Range-La Amistad Reserves / La Amist...   0.325926   \n",
      "133  220298                    Central Suriname Nature Reserve   0.445783   \n",
      "67    17760                                 Manú National Park   0.342593   \n",
      "83    61612                              Canaima National Park   0.360465   \n",
      "131  220296                Central Amazon Conservation Complex   0.318681   \n",
      "152  902347                 Cape Floral Region Protected Areas   0.425532   \n",
      "162  903062                      Rainforests of the Atsinanana   0.120253   \n",
      "127  220292                                      Kinabalu Park   0.260870   \n",
      "128  220293                          Gunung Mulu National Park   0.293103   \n",
      "120  198296                    Area de Conservación Guanacaste   0.326923   \n",
      "\n",
      "     total_vul  total_H_vul  \n",
      "49         135           44  \n",
      "133         83           37  \n",
      "67         108           37  \n",
      "83          86           31  \n",
      "131         91           29  \n",
      "152         47           20  \n",
      "162        158           19  \n",
      "127         69           18  \n",
      "128         58           17  \n",
      "120         52           17  \n",
      "==================\n",
      "Top WHs with high percentage of CV amphibian\n",
      "         wdpaid                             en_name  H_vul_per  total_vul  \\\n",
      "153     902367              Pitons Management Area   1.000000          1   \n",
      "181  555547992        Rock Islands Southern Lagoon   1.000000          1   \n",
      "173  555512003                    Putorana Plateau   1.000000          1   \n",
      "106     124387              Volcanoes of Kamchatka   1.000000          1   \n",
      "110     145583    Morne Trois Pitons National Park   0.666667          3   \n",
      "180  555547991            Lena Pillars Nature Park   0.500000          2   \n",
      "148     900880                      Uvs Nuur Basin   0.500000          2   \n",
      "96       68918      Whale Sanctuary of El Vizcaino   0.500000          2   \n",
      "133     220298     Central Suriname Nature Reserve   0.445783         83   \n",
      "152     902347  Cape Floral Region Protected Areas   0.425532         47   \n",
      "\n",
      "     total_H_vul  \n",
      "153            1  \n",
      "181            1  \n",
      "173            1  \n",
      "106            1  \n",
      "110            2  \n",
      "180            1  \n",
      "148            1  \n",
      "96             1  \n",
      "133           37  \n",
      "152           20  \n"
     ]
    }
   ],
   "source": [
    "print('Top WHs with high number of CV amphibians\\n', amp_v.sort_values('total_H_vul', ascending=False).head(10))\n",
    "print('==================')\n",
    "print('Top WHs with high percentage of CV amphibian\\n', amp_v.sort_values('H_vul_per', ascending=False).head(10))"
   ]
  },
  {
   "cell_type": "code",
   "execution_count": 56,
   "metadata": {
    "collapsed": false
   },
   "outputs": [
    {
     "data": {
      "text/plain": [
       "wdpaid         5.555120e+08\n",
       "H_vul_per      3.320513e-01\n",
       "total_vul      5.800000e+01\n",
       "total_H_vul    4.800000e+00\n",
       "dtype: float64"
      ]
     },
     "execution_count": 56,
     "metadata": {},
     "output_type": "execute_result"
    }
   ],
   "source": [
    "amp_v.quantile(0.9)"
   ]
  },
  {
   "cell_type": "code",
   "execution_count": 57,
   "metadata": {
    "collapsed": false
   },
   "outputs": [
    {
     "data": {
      "text/plain": [
       "wdpaid         2574.2\n",
       "H_vul_per         0.0\n",
       "total_vul         3.0\n",
       "total_H_vul       0.0\n",
       "dtype: float64"
      ]
     },
     "execution_count": 57,
     "metadata": {},
     "output_type": "execute_result"
    }
   ],
   "source": [
    "amp_v.quantile(0.1)"
   ]
  },
  {
   "cell_type": "code",
   "execution_count": 58,
   "metadata": {
    "collapsed": false
   },
   "outputs": [
    {
     "data": {
      "text/plain": [
       "wdpaid         5.555120e+08\n",
       "H_vul_per      3.503704e-01\n",
       "total_vul      4.516000e+02\n",
       "total_H_vul    6.720000e+01\n",
       "dtype: float64"
      ]
     },
     "execution_count": 58,
     "metadata": {},
     "output_type": "execute_result"
    }
   ],
   "source": [
    "bird_v.quantile(0.9)"
   ]
  },
  {
   "cell_type": "code",
   "execution_count": 59,
   "metadata": {
    "collapsed": false
   },
   "outputs": [
    {
     "data": {
      "text/plain": [
       "wdpaid         2577.800000\n",
       "H_vul_per         0.058983\n",
       "total_vul        56.600000\n",
       "total_H_vul       9.000000\n",
       "dtype: float64"
      ]
     },
     "execution_count": 59,
     "metadata": {},
     "output_type": "execute_result"
    }
   ],
   "source": [
    "bird_v.quantile(0.1)"
   ]
  },
  {
   "cell_type": "markdown",
   "metadata": {},
   "source": [
    "For communications purposes, it may be convenient to have a single indicator/index to indicate whether a given WH site is considered *climate vulnerable* for some taxon (in this case amphibians). The questions then becomes how such a cut-off value can be reasonable calculated and can be meaningfully applied. One way is to, again, use quantile cut-off values for total number of highly vulnerable species and percentage overlap. However, any ranking created using quantile  only compares within WH sites. Ideally, this should be derived using a global metric. Perhaps this is an important caveat. One needs to know about other taxa before making a decision as they should be consistent. \n",
    "\n",
    "Questions:\n",
    "- make sense to rank? 10% sounds a good cut-off value?\n",
    "\n",
    "Top10, top 50, top200"
   ]
  },
  {
   "cell_type": "markdown",
   "metadata": {},
   "source": [
    "WH sites with high proportion seem to have a low total number of CV amphibians. Thus using proportion alone may not paint a full picture. It is conceivable that a combination of both number and propertion is needed to classify/rank WH sites."
   ]
  },
  {
   "cell_type": "markdown",
   "metadata": {},
   "source": [
    "#### Climate vulnerability species inside WH sites, new methods"
   ]
  },
  {
   "cell_type": "markdown",
   "metadata": {},
   "source": [
    "While the above methods work well, similar stats for other columns need considerable manual coding. In this study, depending on the taxon of interest, there may be as high as 20 replications (a total of ~60 if all three taxa are conisidered). Therefore it is necessary to find a way through which such aggregations could be calculated simply and more scalable."
   ]
  },
  {
   "cell_type": "code",
   "execution_count": 60,
   "metadata": {
    "collapsed": false,
    "scrolled": false
   },
   "outputs": [
    {
     "name": "stdout",
     "output_type": "stream",
     "text": [
      "Index(['SVP_ID', 'SIS_GAA_ID', 'GAA Family', 'Genus', 'Species', 'Fullname',\n",
      "       'Threatened', 'SUSC_A_Habitats', 'SUSC_A_aquatic larvae',\n",
      "       'SUSC_B_Temperature Range', 'SUSC_B_Precipitation Range',\n",
      "       'SUSC_C_explosive breeder', 'SUSC_D_disease', 'SENSITIVITY',\n",
      "       'ADAPT_A_barriers', 'ADAPT_A_dispersal_distance',\n",
      "       'ADAPT_C_Slow_Gen_Turnpover', 'LOW_ADAPTABILITY', 'EXP_Sea Level',\n",
      "       'EXP_MeanTemperature', 'EXP_MeanRainfall', 'EXP_AADTemperature',\n",
      "       'EXP_AADRainfall', 'EXPOSURE', 'FINAL_SCORE', 'Final_Pessimistic',\n",
      "       'Score_HorS', 'SensXLAdaptability', 'SensXExposure', 'LAdaptXExposure',\n",
      "       'Threatened_and_Vulnerable', 'Unnamed: 0', 'wdpaid', 'id_no',\n",
      "       'areakm2_x', 'areakm2_y', 'per', 'en_name', 'fr_name', 'status_yr',\n",
      "       'rep_area', 'gis_area', 'country', 'crit', 'areakm2', 'binomial',\n",
      "       'kingdom_name', 'phylum_name', 'class_name', 'order_name',\n",
      "       'family_name', 'genus_name', 'species_name', 'category', 'biome_marine',\n",
      "       'biome_freshwater', 'biome_terrestrial', 'id_no_int'],\n",
      "      dtype='object')\n",
      "Index(['SVP_ID', 'Fullname', 'Common name', 'New seq', 'SPcRecID',\n",
      "       '2008 RDL Cat', 'Threatened', 'FINAL_SCORE', '__hab_specialisation',\n",
      "       '__microhabitat', '__ForestDependence', '__TemperatureRange',\n",
      "       '__PrecipRange', '__Species dependence', '__PopnSize',\n",
      "       '__EffectivePopnSize', 'SENSITIVITY', '__Dispersal distance limited',\n",
      "       '__Dispersal barriers', '__Low genetic diversity', '__clutch size',\n",
      "       '__Gen_Length', 'LOW_ADAPTABILITY', '__EXP_Sea Inundation',\n",
      "       '__EXP_MeanTemperature', '__EXP_AADTemperature', '__EXP_MeanPrecip',\n",
      "       '__EXP_AADPrecip', 'EXPOSURE', 'Unnamed: 0', 'wdpaid', 'id_no',\n",
      "       'areakm2_x', 'areakm2_y', 'per', 'en_name', 'fr_name', 'status_yr',\n",
      "       'rep_area', 'gis_area', 'country', 'crit', 'areakm2', 'binomial',\n",
      "       'kingdom_name', 'phylum_name', 'class_name', 'order_name',\n",
      "       'family_name', 'genus_name', 'species_name', 'category', 'biome_marine',\n",
      "       'biome_freshwater', 'biome_terrestrial', 'id_no_int'],\n",
      "      dtype='object')\n",
      "Index(['Fullname', 'SVProject_ID', 'genus', 'species', 'Threatened',\n",
      "       'FINAL_SCORE', '_Few habitats', '_narrow depth rng',\n",
      "       '_Larval vulnerabilityH', '_ShallowH', '_PastMortalityH', '_zooxH',\n",
      "       '_Rare', 'SENSITIVITY', '_Short dispersal distance',\n",
      "       '_dispersal barriers', '_ColonyMaxAge', '_SlowGrowthRate',\n",
      "       'LOW_ADAPTABILITY', '_ProportionArag<3', '_MeanDHM', 'EXPOSURE',\n",
      "       'Unnamed: 0', 'wdpaid', 'id_no', 'areakm2_x', 'areakm2_y', 'per',\n",
      "       'en_name', 'fr_name', 'status_yr', 'rep_area', 'gis_area', 'country',\n",
      "       'crit', 'areakm2', 'binomial', 'kingdom_name', 'phylum_name',\n",
      "       'class_name', 'order_name', 'family_name', 'genus_name', 'species_name',\n",
      "       'category', 'biome_marine', 'biome_freshwater', 'biome_terrestrial',\n",
      "       'id_no_int'],\n",
      "      dtype='object')\n"
     ]
    }
   ],
   "source": [
    "# get all fields and pick those we need for the stats\n",
    "print(result_amp_f.columns)\n",
    "print(result_bird_f.columns)\n",
    "print(result_coral_f.columns)"
   ]
  },
  {
   "cell_type": "code",
   "execution_count": 61,
   "metadata": {
    "collapsed": true
   },
   "outputs": [],
   "source": [
    "# Selected columns, based on the df.columns for each taxon\n",
    "## amphibian\n",
    "a_columns = ['SUSC_A_Habitats', 'SUSC_A_aquatic larvae',\n",
    " 'SUSC_B_Temperature Range', 'SUSC_B_Precipitation Range',\n",
    " 'SUSC_C_explosive breeder', 'SUSC_D_disease', 'SENSITIVITY',\n",
    " 'ADAPT_A_barriers', 'ADAPT_A_dispersal_distance',\n",
    " 'ADAPT_C_Slow_Gen_Turnpover', 'LOW_ADAPTABILITY', \n",
    " 'EXP_Sea Level',\n",
    " 'EXP_MeanTemperature', 'EXP_MeanRainfall', 'EXP_AADTemperature',\n",
    "'EXP_AADRainfall', 'EXPOSURE', 'FINAL_SCORE']\n",
    "\n",
    "## birds\n",
    "b_columns = ['FINAL_SCORE', '__hab_specialisation', \n",
    "'__microhabitat', '__ForestDependence', '__TemperatureRange',\n",
    "'__PrecipRange', '__Species dependence', '__PopnSize',\n",
    "'__EffectivePopnSize', 'SENSITIVITY', '__Dispersal distance limited',\n",
    "'__Dispersal barriers', '__Low genetic diversity', '__clutch size',\n",
    "'__Gen_Length', 'LOW_ADAPTABILITY', '__EXP_Sea Inundation',\n",
    "'__EXP_MeanTemperature', '__EXP_AADTemperature', '__EXP_MeanPrecip',\n",
    "'__EXP_AADPrecip', 'EXPOSURE']\n",
    "\n",
    "## corals\n",
    "c_columns = ['FINAL_SCORE', '_Few habitats', '_narrow depth rng',\n",
    "       '_Larval vulnerabilityH', '_ShallowH', '_PastMortalityH', '_zooxH',\n",
    "       '_Rare', 'SENSITIVITY', '_Short dispersal distance',\n",
    "       '_dispersal barriers', '_ColonyMaxAge', '_SlowGrowthRate',\n",
    "       'LOW_ADAPTABILITY', '_ProportionArag<3', '_MeanDHM', 'EXPOSURE']\n"
   ]
  },
  {
   "cell_type": "code",
   "execution_count": 62,
   "metadata": {
    "collapsed": false
   },
   "outputs": [],
   "source": [
    "# apply summation of HLU to each column, count how many occurences of each H, L, U and percentage\n",
    "def get_hlu(x):\n",
    "    return pd.Series({'H': (x=='H').sum(), 'L': (x=='L').sum(), 'U': (x=='U').sum(), 'per_H': (x=='H').sum()/x.size})\n",
    "\n",
    "# apply get_hlu to each df\n",
    "def apply_func(df, select_columns):\n",
    "    # for each column of the df apply a function\n",
    "    return df[select_columns].apply(get_hlu).T\n",
    "\n",
    "# ======= GENERIC VERSION ======\n",
    "# get unique value of the series and count how many occurences of each unique value\n",
    "def generic_count(x):\n",
    "    # x is a pd.Series object\n",
    "    unique_values = x.unique()\n",
    "    return pd.Series({value: (x==value).sum() for value in unique_values})\n",
    "\n",
    "def apply_func_mk2(df):\n",
    "    return df[summary_columnsy_columns].apply(generic_count).T\n",
    "\n",
    "# ======= about 'apply' =======\n",
    "## dfgroupby.apply: takes a df as argument(for each sub df defined by groupby criteria)\n",
    "## dataframe.apply: takes a series as argument (for each of the columns in the df)\n",
    "## series.apply: takes a value as argument (for each value of the series)\n"
   ]
  },
  {
   "cell_type": "code",
   "execution_count": 63,
   "metadata": {
    "collapsed": false
   },
   "outputs": [],
   "source": [
    "## split into df for each unique wdpaid-en_name combinations\n",
    "## for each df apply the logic\n",
    "amp_vv =  result_amp_f.groupby(['wdpaid', 'en_name']).apply(apply_func, a_columns).reset_index()\n",
    "bird_vv = result_bird_f.groupby(['wdpaid', 'en_name']).apply(apply_func, b_columns).reset_index()\n",
    "coral_vv = result_coral_f.groupby(['wdpaid', 'en_name']).apply(apply_func, c_columns).reset_index()\n",
    "\n",
    "# amp_vvv = groups.apply(apply_func_mk2).reset_index()"
   ]
  },
  {
   "cell_type": "code",
   "execution_count": 64,
   "metadata": {
    "collapsed": false
   },
   "outputs": [
    {
     "data": {
      "text/html": [
       "<div>\n",
       "<table border=\"1\" class=\"dataframe\">\n",
       "  <thead>\n",
       "    <tr style=\"text-align: right;\">\n",
       "      <th></th>\n",
       "      <th>wdpaid</th>\n",
       "      <th>en_name</th>\n",
       "      <th>level_2</th>\n",
       "      <th>H</th>\n",
       "      <th>L</th>\n",
       "      <th>U</th>\n",
       "      <th>per_H</th>\n",
       "    </tr>\n",
       "  </thead>\n",
       "  <tbody>\n",
       "    <tr>\n",
       "      <th>0</th>\n",
       "      <td>191</td>\n",
       "      <td>Galápagos Islands</td>\n",
       "      <td>FINAL_SCORE</td>\n",
       "      <td>11.0</td>\n",
       "      <td>74.0</td>\n",
       "      <td>0.0</td>\n",
       "      <td>0.129412</td>\n",
       "    </tr>\n",
       "    <tr>\n",
       "      <th>1</th>\n",
       "      <td>191</td>\n",
       "      <td>Galápagos Islands</td>\n",
       "      <td>__hab_specialisation</td>\n",
       "      <td>4.0</td>\n",
       "      <td>81.0</td>\n",
       "      <td>0.0</td>\n",
       "      <td>0.047059</td>\n",
       "    </tr>\n",
       "    <tr>\n",
       "      <th>2</th>\n",
       "      <td>191</td>\n",
       "      <td>Galápagos Islands</td>\n",
       "      <td>__microhabitat</td>\n",
       "      <td>1.0</td>\n",
       "      <td>84.0</td>\n",
       "      <td>0.0</td>\n",
       "      <td>0.011765</td>\n",
       "    </tr>\n",
       "    <tr>\n",
       "      <th>3</th>\n",
       "      <td>191</td>\n",
       "      <td>Galápagos Islands</td>\n",
       "      <td>__ForestDependence</td>\n",
       "      <td>8.0</td>\n",
       "      <td>77.0</td>\n",
       "      <td>0.0</td>\n",
       "      <td>0.094118</td>\n",
       "    </tr>\n",
       "    <tr>\n",
       "      <th>4</th>\n",
       "      <td>191</td>\n",
       "      <td>Galápagos Islands</td>\n",
       "      <td>__TemperatureRange</td>\n",
       "      <td>2.0</td>\n",
       "      <td>69.0</td>\n",
       "      <td>14.0</td>\n",
       "      <td>0.023529</td>\n",
       "    </tr>\n",
       "    <tr>\n",
       "      <th>5</th>\n",
       "      <td>191</td>\n",
       "      <td>Galápagos Islands</td>\n",
       "      <td>__PrecipRange</td>\n",
       "      <td>20.0</td>\n",
       "      <td>51.0</td>\n",
       "      <td>14.0</td>\n",
       "      <td>0.235294</td>\n",
       "    </tr>\n",
       "    <tr>\n",
       "      <th>6</th>\n",
       "      <td>191</td>\n",
       "      <td>Galápagos Islands</td>\n",
       "      <td>__Species dependence</td>\n",
       "      <td>0.0</td>\n",
       "      <td>85.0</td>\n",
       "      <td>0.0</td>\n",
       "      <td>0.000000</td>\n",
       "    </tr>\n",
       "    <tr>\n",
       "      <th>7</th>\n",
       "      <td>191</td>\n",
       "      <td>Galápagos Islands</td>\n",
       "      <td>__PopnSize</td>\n",
       "      <td>12.0</td>\n",
       "      <td>56.0</td>\n",
       "      <td>17.0</td>\n",
       "      <td>0.141176</td>\n",
       "    </tr>\n",
       "    <tr>\n",
       "      <th>8</th>\n",
       "      <td>191</td>\n",
       "      <td>Galápagos Islands</td>\n",
       "      <td>__EffectivePopnSize</td>\n",
       "      <td>15.0</td>\n",
       "      <td>53.0</td>\n",
       "      <td>17.0</td>\n",
       "      <td>0.176471</td>\n",
       "    </tr>\n",
       "    <tr>\n",
       "      <th>9</th>\n",
       "      <td>191</td>\n",
       "      <td>Galápagos Islands</td>\n",
       "      <td>SENSITIVITY</td>\n",
       "      <td>32.0</td>\n",
       "      <td>39.0</td>\n",
       "      <td>14.0</td>\n",
       "      <td>0.376471</td>\n",
       "    </tr>\n",
       "    <tr>\n",
       "      <th>10</th>\n",
       "      <td>191</td>\n",
       "      <td>Galápagos Islands</td>\n",
       "      <td>__Dispersal distance limited</td>\n",
       "      <td>24.0</td>\n",
       "      <td>61.0</td>\n",
       "      <td>0.0</td>\n",
       "      <td>0.282353</td>\n",
       "    </tr>\n",
       "    <tr>\n",
       "      <th>11</th>\n",
       "      <td>191</td>\n",
       "      <td>Galápagos Islands</td>\n",
       "      <td>__Dispersal barriers</td>\n",
       "      <td>18.0</td>\n",
       "      <td>67.0</td>\n",
       "      <td>0.0</td>\n",
       "      <td>0.211765</td>\n",
       "    </tr>\n",
       "    <tr>\n",
       "      <th>12</th>\n",
       "      <td>191</td>\n",
       "      <td>Galápagos Islands</td>\n",
       "      <td>__Low genetic diversity</td>\n",
       "      <td>6.0</td>\n",
       "      <td>79.0</td>\n",
       "      <td>0.0</td>\n",
       "      <td>0.070588</td>\n",
       "    </tr>\n",
       "    <tr>\n",
       "      <th>13</th>\n",
       "      <td>191</td>\n",
       "      <td>Galápagos Islands</td>\n",
       "      <td>__clutch size</td>\n",
       "      <td>27.0</td>\n",
       "      <td>52.0</td>\n",
       "      <td>6.0</td>\n",
       "      <td>0.317647</td>\n",
       "    </tr>\n",
       "    <tr>\n",
       "      <th>14</th>\n",
       "      <td>191</td>\n",
       "      <td>Galápagos Islands</td>\n",
       "      <td>__Gen_Length</td>\n",
       "      <td>47.0</td>\n",
       "      <td>38.0</td>\n",
       "      <td>0.0</td>\n",
       "      <td>0.552941</td>\n",
       "    </tr>\n",
       "    <tr>\n",
       "      <th>15</th>\n",
       "      <td>191</td>\n",
       "      <td>Galápagos Islands</td>\n",
       "      <td>LOW_ADAPTABILITY</td>\n",
       "      <td>59.0</td>\n",
       "      <td>25.0</td>\n",
       "      <td>1.0</td>\n",
       "      <td>0.694118</td>\n",
       "    </tr>\n",
       "    <tr>\n",
       "      <th>16</th>\n",
       "      <td>191</td>\n",
       "      <td>Galápagos Islands</td>\n",
       "      <td>__EXP_Sea Inundation</td>\n",
       "      <td>8.0</td>\n",
       "      <td>77.0</td>\n",
       "      <td>0.0</td>\n",
       "      <td>0.094118</td>\n",
       "    </tr>\n",
       "    <tr>\n",
       "      <th>17</th>\n",
       "      <td>191</td>\n",
       "      <td>Galápagos Islands</td>\n",
       "      <td>__EXP_MeanTemperature</td>\n",
       "      <td>19.0</td>\n",
       "      <td>51.0</td>\n",
       "      <td>15.0</td>\n",
       "      <td>0.223529</td>\n",
       "    </tr>\n",
       "    <tr>\n",
       "      <th>18</th>\n",
       "      <td>191</td>\n",
       "      <td>Galápagos Islands</td>\n",
       "      <td>__EXP_AADTemperature</td>\n",
       "      <td>5.0</td>\n",
       "      <td>65.0</td>\n",
       "      <td>15.0</td>\n",
       "      <td>0.058824</td>\n",
       "    </tr>\n",
       "    <tr>\n",
       "      <th>19</th>\n",
       "      <td>191</td>\n",
       "      <td>Galápagos Islands</td>\n",
       "      <td>__EXP_MeanPrecip</td>\n",
       "      <td>12.0</td>\n",
       "      <td>58.0</td>\n",
       "      <td>15.0</td>\n",
       "      <td>0.141176</td>\n",
       "    </tr>\n",
       "    <tr>\n",
       "      <th>20</th>\n",
       "      <td>191</td>\n",
       "      <td>Galápagos Islands</td>\n",
       "      <td>__EXP_AADPrecip</td>\n",
       "      <td>6.0</td>\n",
       "      <td>64.0</td>\n",
       "      <td>15.0</td>\n",
       "      <td>0.070588</td>\n",
       "    </tr>\n",
       "    <tr>\n",
       "      <th>21</th>\n",
       "      <td>191</td>\n",
       "      <td>Galápagos Islands</td>\n",
       "      <td>EXPOSURE</td>\n",
       "      <td>30.0</td>\n",
       "      <td>40.0</td>\n",
       "      <td>15.0</td>\n",
       "      <td>0.352941</td>\n",
       "    </tr>\n",
       "  </tbody>\n",
       "</table>\n",
       "</div>"
      ],
      "text/plain": [
       "    wdpaid            en_name                       level_2     H     L     U  \\\n",
       "0      191  Galápagos Islands                   FINAL_SCORE  11.0  74.0   0.0   \n",
       "1      191  Galápagos Islands          __hab_specialisation   4.0  81.0   0.0   \n",
       "2      191  Galápagos Islands                __microhabitat   1.0  84.0   0.0   \n",
       "3      191  Galápagos Islands            __ForestDependence   8.0  77.0   0.0   \n",
       "4      191  Galápagos Islands            __TemperatureRange   2.0  69.0  14.0   \n",
       "5      191  Galápagos Islands                 __PrecipRange  20.0  51.0  14.0   \n",
       "6      191  Galápagos Islands          __Species dependence   0.0  85.0   0.0   \n",
       "7      191  Galápagos Islands                    __PopnSize  12.0  56.0  17.0   \n",
       "8      191  Galápagos Islands           __EffectivePopnSize  15.0  53.0  17.0   \n",
       "9      191  Galápagos Islands                   SENSITIVITY  32.0  39.0  14.0   \n",
       "10     191  Galápagos Islands  __Dispersal distance limited  24.0  61.0   0.0   \n",
       "11     191  Galápagos Islands          __Dispersal barriers  18.0  67.0   0.0   \n",
       "12     191  Galápagos Islands       __Low genetic diversity   6.0  79.0   0.0   \n",
       "13     191  Galápagos Islands                 __clutch size  27.0  52.0   6.0   \n",
       "14     191  Galápagos Islands                  __Gen_Length  47.0  38.0   0.0   \n",
       "15     191  Galápagos Islands              LOW_ADAPTABILITY  59.0  25.0   1.0   \n",
       "16     191  Galápagos Islands          __EXP_Sea Inundation   8.0  77.0   0.0   \n",
       "17     191  Galápagos Islands         __EXP_MeanTemperature  19.0  51.0  15.0   \n",
       "18     191  Galápagos Islands          __EXP_AADTemperature   5.0  65.0  15.0   \n",
       "19     191  Galápagos Islands              __EXP_MeanPrecip  12.0  58.0  15.0   \n",
       "20     191  Galápagos Islands               __EXP_AADPrecip   6.0  64.0  15.0   \n",
       "21     191  Galápagos Islands                      EXPOSURE  30.0  40.0  15.0   \n",
       "\n",
       "       per_H  \n",
       "0   0.129412  \n",
       "1   0.047059  \n",
       "2   0.011765  \n",
       "3   0.094118  \n",
       "4   0.023529  \n",
       "5   0.235294  \n",
       "6   0.000000  \n",
       "7   0.141176  \n",
       "8   0.176471  \n",
       "9   0.376471  \n",
       "10  0.282353  \n",
       "11  0.211765  \n",
       "12  0.070588  \n",
       "13  0.317647  \n",
       "14  0.552941  \n",
       "15  0.694118  \n",
       "16  0.094118  \n",
       "17  0.223529  \n",
       "18  0.058824  \n",
       "19  0.141176  \n",
       "20  0.070588  \n",
       "21  0.352941  "
      ]
     },
     "execution_count": 64,
     "metadata": {},
     "output_type": "execute_result"
    }
   ],
   "source": [
    "## spot checks\n",
    "bird_vv[bird_vv.wdpaid == 191]"
   ]
  },
  {
   "cell_type": "code",
   "execution_count": 65,
   "metadata": {
    "collapsed": false
   },
   "outputs": [
    {
     "data": {
      "text/html": [
       "<div>\n",
       "<table border=\"1\" class=\"dataframe\">\n",
       "  <thead>\n",
       "    <tr style=\"text-align: right;\">\n",
       "      <th></th>\n",
       "      <th>wdpaid</th>\n",
       "      <th>en_name</th>\n",
       "      <th>level_2</th>\n",
       "      <th>H</th>\n",
       "      <th>L</th>\n",
       "      <th>U</th>\n",
       "      <th>per_H</th>\n",
       "    </tr>\n",
       "  </thead>\n",
       "  <tbody>\n",
       "    <tr>\n",
       "      <th>132</th>\n",
       "      <td>2008</td>\n",
       "      <td>Bia?owie?a Forest</td>\n",
       "      <td>FINAL_SCORE</td>\n",
       "      <td>60.0</td>\n",
       "      <td>119.0</td>\n",
       "      <td>0.0</td>\n",
       "      <td>0.335196</td>\n",
       "    </tr>\n",
       "    <tr>\n",
       "      <th>133</th>\n",
       "      <td>2008</td>\n",
       "      <td>Bia?owie?a Forest</td>\n",
       "      <td>__hab_specialisation</td>\n",
       "      <td>0.0</td>\n",
       "      <td>179.0</td>\n",
       "      <td>0.0</td>\n",
       "      <td>0.000000</td>\n",
       "    </tr>\n",
       "    <tr>\n",
       "      <th>134</th>\n",
       "      <td>2008</td>\n",
       "      <td>Bia?owie?a Forest</td>\n",
       "      <td>__microhabitat</td>\n",
       "      <td>12.0</td>\n",
       "      <td>167.0</td>\n",
       "      <td>0.0</td>\n",
       "      <td>0.067039</td>\n",
       "    </tr>\n",
       "    <tr>\n",
       "      <th>135</th>\n",
       "      <td>2008</td>\n",
       "      <td>Bia?owie?a Forest</td>\n",
       "      <td>__ForestDependence</td>\n",
       "      <td>13.0</td>\n",
       "      <td>166.0</td>\n",
       "      <td>0.0</td>\n",
       "      <td>0.072626</td>\n",
       "    </tr>\n",
       "    <tr>\n",
       "      <th>136</th>\n",
       "      <td>2008</td>\n",
       "      <td>Bia?owie?a Forest</td>\n",
       "      <td>__TemperatureRange</td>\n",
       "      <td>0.0</td>\n",
       "      <td>176.0</td>\n",
       "      <td>3.0</td>\n",
       "      <td>0.000000</td>\n",
       "    </tr>\n",
       "    <tr>\n",
       "      <th>137</th>\n",
       "      <td>2008</td>\n",
       "      <td>Bia?owie?a Forest</td>\n",
       "      <td>__PrecipRange</td>\n",
       "      <td>152.0</td>\n",
       "      <td>24.0</td>\n",
       "      <td>3.0</td>\n",
       "      <td>0.849162</td>\n",
       "    </tr>\n",
       "    <tr>\n",
       "      <th>138</th>\n",
       "      <td>2008</td>\n",
       "      <td>Bia?owie?a Forest</td>\n",
       "      <td>__Species dependence</td>\n",
       "      <td>0.0</td>\n",
       "      <td>179.0</td>\n",
       "      <td>0.0</td>\n",
       "      <td>0.000000</td>\n",
       "    </tr>\n",
       "    <tr>\n",
       "      <th>139</th>\n",
       "      <td>2008</td>\n",
       "      <td>Bia?owie?a Forest</td>\n",
       "      <td>__PopnSize</td>\n",
       "      <td>0.0</td>\n",
       "      <td>179.0</td>\n",
       "      <td>0.0</td>\n",
       "      <td>0.000000</td>\n",
       "    </tr>\n",
       "    <tr>\n",
       "      <th>140</th>\n",
       "      <td>2008</td>\n",
       "      <td>Bia?owie?a Forest</td>\n",
       "      <td>__EffectivePopnSize</td>\n",
       "      <td>0.0</td>\n",
       "      <td>179.0</td>\n",
       "      <td>0.0</td>\n",
       "      <td>0.000000</td>\n",
       "    </tr>\n",
       "    <tr>\n",
       "      <th>141</th>\n",
       "      <td>2008</td>\n",
       "      <td>Bia?owie?a Forest</td>\n",
       "      <td>SENSITIVITY</td>\n",
       "      <td>161.0</td>\n",
       "      <td>18.0</td>\n",
       "      <td>0.0</td>\n",
       "      <td>0.899441</td>\n",
       "    </tr>\n",
       "    <tr>\n",
       "      <th>142</th>\n",
       "      <td>2008</td>\n",
       "      <td>Bia?owie?a Forest</td>\n",
       "      <td>__Dispersal distance limited</td>\n",
       "      <td>5.0</td>\n",
       "      <td>174.0</td>\n",
       "      <td>0.0</td>\n",
       "      <td>0.027933</td>\n",
       "    </tr>\n",
       "    <tr>\n",
       "      <th>143</th>\n",
       "      <td>2008</td>\n",
       "      <td>Bia?owie?a Forest</td>\n",
       "      <td>__Dispersal barriers</td>\n",
       "      <td>4.0</td>\n",
       "      <td>175.0</td>\n",
       "      <td>0.0</td>\n",
       "      <td>0.022346</td>\n",
       "    </tr>\n",
       "    <tr>\n",
       "      <th>144</th>\n",
       "      <td>2008</td>\n",
       "      <td>Bia?owie?a Forest</td>\n",
       "      <td>__Low genetic diversity</td>\n",
       "      <td>1.0</td>\n",
       "      <td>178.0</td>\n",
       "      <td>0.0</td>\n",
       "      <td>0.005587</td>\n",
       "    </tr>\n",
       "    <tr>\n",
       "      <th>145</th>\n",
       "      <td>2008</td>\n",
       "      <td>Bia?owie?a Forest</td>\n",
       "      <td>__clutch size</td>\n",
       "      <td>14.0</td>\n",
       "      <td>164.0</td>\n",
       "      <td>1.0</td>\n",
       "      <td>0.078212</td>\n",
       "    </tr>\n",
       "    <tr>\n",
       "      <th>146</th>\n",
       "      <td>2008</td>\n",
       "      <td>Bia?owie?a Forest</td>\n",
       "      <td>__Gen_Length</td>\n",
       "      <td>66.0</td>\n",
       "      <td>113.0</td>\n",
       "      <td>0.0</td>\n",
       "      <td>0.368715</td>\n",
       "    </tr>\n",
       "    <tr>\n",
       "      <th>147</th>\n",
       "      <td>2008</td>\n",
       "      <td>Bia?owie?a Forest</td>\n",
       "      <td>LOW_ADAPTABILITY</td>\n",
       "      <td>76.0</td>\n",
       "      <td>103.0</td>\n",
       "      <td>0.0</td>\n",
       "      <td>0.424581</td>\n",
       "    </tr>\n",
       "    <tr>\n",
       "      <th>148</th>\n",
       "      <td>2008</td>\n",
       "      <td>Bia?owie?a Forest</td>\n",
       "      <td>__EXP_Sea Inundation</td>\n",
       "      <td>0.0</td>\n",
       "      <td>179.0</td>\n",
       "      <td>0.0</td>\n",
       "      <td>0.000000</td>\n",
       "    </tr>\n",
       "    <tr>\n",
       "      <th>149</th>\n",
       "      <td>2008</td>\n",
       "      <td>Bia?owie?a Forest</td>\n",
       "      <td>__EXP_MeanTemperature</td>\n",
       "      <td>161.0</td>\n",
       "      <td>15.0</td>\n",
       "      <td>3.0</td>\n",
       "      <td>0.899441</td>\n",
       "    </tr>\n",
       "    <tr>\n",
       "      <th>150</th>\n",
       "      <td>2008</td>\n",
       "      <td>Bia?owie?a Forest</td>\n",
       "      <td>__EXP_AADTemperature</td>\n",
       "      <td>0.0</td>\n",
       "      <td>176.0</td>\n",
       "      <td>3.0</td>\n",
       "      <td>0.000000</td>\n",
       "    </tr>\n",
       "    <tr>\n",
       "      <th>151</th>\n",
       "      <td>2008</td>\n",
       "      <td>Bia?owie?a Forest</td>\n",
       "      <td>__EXP_MeanPrecip</td>\n",
       "      <td>0.0</td>\n",
       "      <td>176.0</td>\n",
       "      <td>3.0</td>\n",
       "      <td>0.000000</td>\n",
       "    </tr>\n",
       "    <tr>\n",
       "      <th>152</th>\n",
       "      <td>2008</td>\n",
       "      <td>Bia?owie?a Forest</td>\n",
       "      <td>__EXP_AADPrecip</td>\n",
       "      <td>0.0</td>\n",
       "      <td>176.0</td>\n",
       "      <td>3.0</td>\n",
       "      <td>0.000000</td>\n",
       "    </tr>\n",
       "    <tr>\n",
       "      <th>153</th>\n",
       "      <td>2008</td>\n",
       "      <td>Bia?owie?a Forest</td>\n",
       "      <td>EXPOSURE</td>\n",
       "      <td>161.0</td>\n",
       "      <td>15.0</td>\n",
       "      <td>3.0</td>\n",
       "      <td>0.899441</td>\n",
       "    </tr>\n",
       "  </tbody>\n",
       "</table>\n",
       "</div>"
      ],
      "text/plain": [
       "     wdpaid            en_name                       level_2      H      L  \\\n",
       "132    2008  Bia?owie?a Forest                   FINAL_SCORE   60.0  119.0   \n",
       "133    2008  Bia?owie?a Forest          __hab_specialisation    0.0  179.0   \n",
       "134    2008  Bia?owie?a Forest                __microhabitat   12.0  167.0   \n",
       "135    2008  Bia?owie?a Forest            __ForestDependence   13.0  166.0   \n",
       "136    2008  Bia?owie?a Forest            __TemperatureRange    0.0  176.0   \n",
       "137    2008  Bia?owie?a Forest                 __PrecipRange  152.0   24.0   \n",
       "138    2008  Bia?owie?a Forest          __Species dependence    0.0  179.0   \n",
       "139    2008  Bia?owie?a Forest                    __PopnSize    0.0  179.0   \n",
       "140    2008  Bia?owie?a Forest           __EffectivePopnSize    0.0  179.0   \n",
       "141    2008  Bia?owie?a Forest                   SENSITIVITY  161.0   18.0   \n",
       "142    2008  Bia?owie?a Forest  __Dispersal distance limited    5.0  174.0   \n",
       "143    2008  Bia?owie?a Forest          __Dispersal barriers    4.0  175.0   \n",
       "144    2008  Bia?owie?a Forest       __Low genetic diversity    1.0  178.0   \n",
       "145    2008  Bia?owie?a Forest                 __clutch size   14.0  164.0   \n",
       "146    2008  Bia?owie?a Forest                  __Gen_Length   66.0  113.0   \n",
       "147    2008  Bia?owie?a Forest              LOW_ADAPTABILITY   76.0  103.0   \n",
       "148    2008  Bia?owie?a Forest          __EXP_Sea Inundation    0.0  179.0   \n",
       "149    2008  Bia?owie?a Forest         __EXP_MeanTemperature  161.0   15.0   \n",
       "150    2008  Bia?owie?a Forest          __EXP_AADTemperature    0.0  176.0   \n",
       "151    2008  Bia?owie?a Forest              __EXP_MeanPrecip    0.0  176.0   \n",
       "152    2008  Bia?owie?a Forest               __EXP_AADPrecip    0.0  176.0   \n",
       "153    2008  Bia?owie?a Forest                      EXPOSURE  161.0   15.0   \n",
       "\n",
       "       U     per_H  \n",
       "132  0.0  0.335196  \n",
       "133  0.0  0.000000  \n",
       "134  0.0  0.067039  \n",
       "135  0.0  0.072626  \n",
       "136  3.0  0.000000  \n",
       "137  3.0  0.849162  \n",
       "138  0.0  0.000000  \n",
       "139  0.0  0.000000  \n",
       "140  0.0  0.000000  \n",
       "141  0.0  0.899441  \n",
       "142  0.0  0.027933  \n",
       "143  0.0  0.022346  \n",
       "144  0.0  0.005587  \n",
       "145  1.0  0.078212  \n",
       "146  0.0  0.368715  \n",
       "147  0.0  0.424581  \n",
       "148  0.0  0.000000  \n",
       "149  3.0  0.899441  \n",
       "150  3.0  0.000000  \n",
       "151  3.0  0.000000  \n",
       "152  3.0  0.000000  \n",
       "153  3.0  0.899441  "
      ]
     },
     "execution_count": 65,
     "metadata": {},
     "output_type": "execute_result"
    }
   ],
   "source": [
    "bird_vv[bird_vv.wdpaid == 2008]"
   ]
  },
  {
   "cell_type": "code",
   "execution_count": 66,
   "metadata": {
    "collapsed": false
   },
   "outputs": [
    {
     "data": {
      "text/html": [
       "<div>\n",
       "<table border=\"1\" class=\"dataframe\">\n",
       "  <thead>\n",
       "    <tr style=\"text-align: right;\">\n",
       "      <th></th>\n",
       "      <th>SVP_ID</th>\n",
       "      <th>SIS_GAA_ID</th>\n",
       "      <th>GAA Family</th>\n",
       "      <th>Genus</th>\n",
       "      <th>Species</th>\n",
       "      <th>Fullname</th>\n",
       "      <th>Threatened</th>\n",
       "      <th>SUSC_A_Habitats</th>\n",
       "      <th>SUSC_A_aquatic larvae</th>\n",
       "      <th>SUSC_B_Temperature Range</th>\n",
       "      <th>...</th>\n",
       "      <th>class_name</th>\n",
       "      <th>order_name</th>\n",
       "      <th>family_name</th>\n",
       "      <th>genus_name</th>\n",
       "      <th>species_name</th>\n",
       "      <th>category</th>\n",
       "      <th>biome_marine</th>\n",
       "      <th>biome_freshwater</th>\n",
       "      <th>biome_terrestrial</th>\n",
       "      <th>id_no_int</th>\n",
       "    </tr>\n",
       "  </thead>\n",
       "  <tbody>\n",
       "  </tbody>\n",
       "</table>\n",
       "<p>0 rows × 58 columns</p>\n",
       "</div>"
      ],
      "text/plain": [
       "Empty DataFrame\n",
       "Columns: [SVP_ID, SIS_GAA_ID, GAA Family, Genus, Species, Fullname, Threatened, SUSC_A_Habitats, SUSC_A_aquatic larvae, SUSC_B_Temperature Range, SUSC_B_Precipitation Range, SUSC_C_explosive breeder, SUSC_D_disease, SENSITIVITY, ADAPT_A_barriers, ADAPT_A_dispersal_distance, ADAPT_C_Slow_Gen_Turnpover, LOW_ADAPTABILITY, EXP_Sea Level, EXP_MeanTemperature, EXP_MeanRainfall, EXP_AADTemperature, EXP_AADRainfall, EXPOSURE, FINAL_SCORE, Final_Pessimistic, Score_HorS, SensXLAdaptability, SensXExposure, LAdaptXExposure, Threatened_and_Vulnerable, Unnamed: 0, wdpaid, id_no, areakm2_x, areakm2_y, per, en_name, fr_name, status_yr, rep_area, gis_area, country, crit, areakm2, binomial, kingdom_name, phylum_name, class_name, order_name, family_name, genus_name, species_name, category, biome_marine, biome_freshwater, biome_terrestrial, id_no_int]\n",
       "Index: []\n",
       "\n",
       "[0 rows x 58 columns]"
      ]
     },
     "execution_count": 66,
     "metadata": {},
     "output_type": "execute_result"
    }
   ],
   "source": [
    "result_amp_f[result_amp_f.wdpaid == 191]"
   ]
  },
  {
   "cell_type": "code",
   "execution_count": 67,
   "metadata": {
    "collapsed": false
   },
   "outputs": [
    {
     "data": {
      "text/html": [
       "<div>\n",
       "<table border=\"1\" class=\"dataframe\">\n",
       "  <thead>\n",
       "    <tr style=\"text-align: right;\">\n",
       "      <th></th>\n",
       "      <th>wdpaid</th>\n",
       "      <th>en_name</th>\n",
       "      <th>level_2</th>\n",
       "      <th>H</th>\n",
       "      <th>L</th>\n",
       "      <th>U</th>\n",
       "      <th>per_H</th>\n",
       "    </tr>\n",
       "  </thead>\n",
       "  <tbody>\n",
       "    <tr>\n",
       "      <th>0</th>\n",
       "      <td>191</td>\n",
       "      <td>Galápagos Islands</td>\n",
       "      <td>FINAL_SCORE</td>\n",
       "      <td>2.0</td>\n",
       "      <td>19.0</td>\n",
       "      <td>0.0</td>\n",
       "      <td>0.095238</td>\n",
       "    </tr>\n",
       "    <tr>\n",
       "      <th>1</th>\n",
       "      <td>191</td>\n",
       "      <td>Galápagos Islands</td>\n",
       "      <td>_Few habitats</td>\n",
       "      <td>4.0</td>\n",
       "      <td>17.0</td>\n",
       "      <td>0.0</td>\n",
       "      <td>0.190476</td>\n",
       "    </tr>\n",
       "    <tr>\n",
       "      <th>2</th>\n",
       "      <td>191</td>\n",
       "      <td>Galápagos Islands</td>\n",
       "      <td>_narrow depth rng</td>\n",
       "      <td>4.0</td>\n",
       "      <td>16.0</td>\n",
       "      <td>1.0</td>\n",
       "      <td>0.190476</td>\n",
       "    </tr>\n",
       "    <tr>\n",
       "      <th>3</th>\n",
       "      <td>191</td>\n",
       "      <td>Galápagos Islands</td>\n",
       "      <td>_Larval vulnerabilityH</td>\n",
       "      <td>2.0</td>\n",
       "      <td>19.0</td>\n",
       "      <td>0.0</td>\n",
       "      <td>0.095238</td>\n",
       "    </tr>\n",
       "    <tr>\n",
       "      <th>4</th>\n",
       "      <td>191</td>\n",
       "      <td>Galápagos Islands</td>\n",
       "      <td>_ShallowH</td>\n",
       "      <td>4.0</td>\n",
       "      <td>16.0</td>\n",
       "      <td>1.0</td>\n",
       "      <td>0.190476</td>\n",
       "    </tr>\n",
       "    <tr>\n",
       "      <th>5</th>\n",
       "      <td>191</td>\n",
       "      <td>Galápagos Islands</td>\n",
       "      <td>_PastMortalityH</td>\n",
       "      <td>11.0</td>\n",
       "      <td>10.0</td>\n",
       "      <td>0.0</td>\n",
       "      <td>0.523810</td>\n",
       "    </tr>\n",
       "    <tr>\n",
       "      <th>6</th>\n",
       "      <td>191</td>\n",
       "      <td>Galápagos Islands</td>\n",
       "      <td>_zooxH</td>\n",
       "      <td>15.0</td>\n",
       "      <td>6.0</td>\n",
       "      <td>0.0</td>\n",
       "      <td>0.714286</td>\n",
       "    </tr>\n",
       "    <tr>\n",
       "      <th>7</th>\n",
       "      <td>191</td>\n",
       "      <td>Galápagos Islands</td>\n",
       "      <td>_Rare</td>\n",
       "      <td>3.0</td>\n",
       "      <td>18.0</td>\n",
       "      <td>0.0</td>\n",
       "      <td>0.142857</td>\n",
       "    </tr>\n",
       "    <tr>\n",
       "      <th>8</th>\n",
       "      <td>191</td>\n",
       "      <td>Galápagos Islands</td>\n",
       "      <td>SENSITIVITY</td>\n",
       "      <td>21.0</td>\n",
       "      <td>0.0</td>\n",
       "      <td>0.0</td>\n",
       "      <td>1.000000</td>\n",
       "    </tr>\n",
       "    <tr>\n",
       "      <th>9</th>\n",
       "      <td>191</td>\n",
       "      <td>Galápagos Islands</td>\n",
       "      <td>_Short dispersal distance</td>\n",
       "      <td>0.0</td>\n",
       "      <td>18.0</td>\n",
       "      <td>3.0</td>\n",
       "      <td>0.000000</td>\n",
       "    </tr>\n",
       "    <tr>\n",
       "      <th>10</th>\n",
       "      <td>191</td>\n",
       "      <td>Galápagos Islands</td>\n",
       "      <td>_dispersal barriers</td>\n",
       "      <td>3.0</td>\n",
       "      <td>18.0</td>\n",
       "      <td>0.0</td>\n",
       "      <td>0.142857</td>\n",
       "    </tr>\n",
       "    <tr>\n",
       "      <th>11</th>\n",
       "      <td>191</td>\n",
       "      <td>Galápagos Islands</td>\n",
       "      <td>_ColonyMaxAge</td>\n",
       "      <td>0.0</td>\n",
       "      <td>21.0</td>\n",
       "      <td>0.0</td>\n",
       "      <td>0.000000</td>\n",
       "    </tr>\n",
       "    <tr>\n",
       "      <th>12</th>\n",
       "      <td>191</td>\n",
       "      <td>Galápagos Islands</td>\n",
       "      <td>_SlowGrowthRate</td>\n",
       "      <td>7.0</td>\n",
       "      <td>14.0</td>\n",
       "      <td>0.0</td>\n",
       "      <td>0.333333</td>\n",
       "    </tr>\n",
       "    <tr>\n",
       "      <th>13</th>\n",
       "      <td>191</td>\n",
       "      <td>Galápagos Islands</td>\n",
       "      <td>LOW_ADAPTABILITY</td>\n",
       "      <td>8.0</td>\n",
       "      <td>13.0</td>\n",
       "      <td>0.0</td>\n",
       "      <td>0.380952</td>\n",
       "    </tr>\n",
       "    <tr>\n",
       "      <th>14</th>\n",
       "      <td>191</td>\n",
       "      <td>Galápagos Islands</td>\n",
       "      <td>_ProportionArag&lt;3</td>\n",
       "      <td>3.0</td>\n",
       "      <td>18.0</td>\n",
       "      <td>0.0</td>\n",
       "      <td>0.142857</td>\n",
       "    </tr>\n",
       "    <tr>\n",
       "      <th>15</th>\n",
       "      <td>191</td>\n",
       "      <td>Galápagos Islands</td>\n",
       "      <td>_MeanDHM</td>\n",
       "      <td>1.0</td>\n",
       "      <td>19.0</td>\n",
       "      <td>1.0</td>\n",
       "      <td>0.047619</td>\n",
       "    </tr>\n",
       "    <tr>\n",
       "      <th>16</th>\n",
       "      <td>191</td>\n",
       "      <td>Galápagos Islands</td>\n",
       "      <td>EXPOSURE</td>\n",
       "      <td>3.0</td>\n",
       "      <td>18.0</td>\n",
       "      <td>0.0</td>\n",
       "      <td>0.142857</td>\n",
       "    </tr>\n",
       "  </tbody>\n",
       "</table>\n",
       "</div>"
      ],
      "text/plain": [
       "    wdpaid            en_name                    level_2     H     L    U  \\\n",
       "0      191  Galápagos Islands                FINAL_SCORE   2.0  19.0  0.0   \n",
       "1      191  Galápagos Islands              _Few habitats   4.0  17.0  0.0   \n",
       "2      191  Galápagos Islands          _narrow depth rng   4.0  16.0  1.0   \n",
       "3      191  Galápagos Islands     _Larval vulnerabilityH   2.0  19.0  0.0   \n",
       "4      191  Galápagos Islands                  _ShallowH   4.0  16.0  1.0   \n",
       "5      191  Galápagos Islands            _PastMortalityH  11.0  10.0  0.0   \n",
       "6      191  Galápagos Islands                     _zooxH  15.0   6.0  0.0   \n",
       "7      191  Galápagos Islands                      _Rare   3.0  18.0  0.0   \n",
       "8      191  Galápagos Islands                SENSITIVITY  21.0   0.0  0.0   \n",
       "9      191  Galápagos Islands  _Short dispersal distance   0.0  18.0  3.0   \n",
       "10     191  Galápagos Islands        _dispersal barriers   3.0  18.0  0.0   \n",
       "11     191  Galápagos Islands              _ColonyMaxAge   0.0  21.0  0.0   \n",
       "12     191  Galápagos Islands            _SlowGrowthRate   7.0  14.0  0.0   \n",
       "13     191  Galápagos Islands           LOW_ADAPTABILITY   8.0  13.0  0.0   \n",
       "14     191  Galápagos Islands          _ProportionArag<3   3.0  18.0  0.0   \n",
       "15     191  Galápagos Islands                   _MeanDHM   1.0  19.0  1.0   \n",
       "16     191  Galápagos Islands                   EXPOSURE   3.0  18.0  0.0   \n",
       "\n",
       "       per_H  \n",
       "0   0.095238  \n",
       "1   0.190476  \n",
       "2   0.190476  \n",
       "3   0.095238  \n",
       "4   0.190476  \n",
       "5   0.523810  \n",
       "6   0.714286  \n",
       "7   0.142857  \n",
       "8   1.000000  \n",
       "9   0.000000  \n",
       "10  0.142857  \n",
       "11  0.000000  \n",
       "12  0.333333  \n",
       "13  0.380952  \n",
       "14  0.142857  \n",
       "15  0.047619  \n",
       "16  0.142857  "
      ]
     },
     "execution_count": 67,
     "metadata": {},
     "output_type": "execute_result"
    }
   ],
   "source": [
    "amp_vv[amp_vv.wdpaid == 191]\n",
    "coral_vv[coral_vv.wdpaid == 191]"
   ]
  },
  {
   "cell_type": "markdown",
   "metadata": {},
   "source": [
    "Having more CCV species, having more CCV species in proportion indicates WH sites, whose species are more susceptible to adverse impact due to climate change. \n",
    "\n",
    "Questions and statements that can be made?\n",
    "- within WH sites, the top sites re CCV species number and proportion, by taxa. Narrative: more consideration to mitigate adverse effect of CCV to species"
   ]
  },
  {
   "cell_type": "markdown",
   "metadata": {},
   "source": [
    "#### Climate vulnerability inside the entire WH network\n",
    "This section looks at individual taxon within the entire network. A comparison is then made to examine whether or not the WH network house species that are more vulnerable to climate change. Because the result contains many duplicate species rows (due to different sites having the same species), the first step is to get a unique list of species within all WH sites.\n"
   ]
  },
  {
   "cell_type": "code",
   "execution_count": 68,
   "metadata": {
    "collapsed": false
   },
   "outputs": [],
   "source": [
    "# combine species in WH result and all results, by taxa\n",
    "## get a unique set of species within each taxon\n",
    "amp_selected = result_amp_f.groupby('id_no_int').first().reset_index()\n",
    "bird_selected = result_bird_f.groupby('id_no_int').first().reset_index()\n",
    "coral_selected = result_coral_f.groupby('id_no_int').first().reset_index()\n",
    "\n",
    "## function to aggregate result and apply hlu function to all columns\n",
    "def get_agg_result(unique_taxon_result, taxon_columns):\n",
    "    return unique_taxon_result[taxon_columns].apply(get_hlu).T\n",
    "\n",
    "\n",
    "amp_total = pd.merge(amp_selected[a_columns].apply(get_hlu).T, \\\n",
    "         amp[a_columns].apply(get_hlu).T, \\\n",
    "         left_index = True, right_index=True, suffixes=('_wh', '_all'))\n",
    "\n",
    "amp_total = pd.merge(get_agg_result(amp_selected, a_columns), \\\n",
    "                    get_agg_result(amp, a_columns),\n",
    "                    left_index = True, right_index=True, suffixes=('_wh', '_all'))\n",
    "\n",
    "bird_total = pd.merge(bird_selected[b_columns].apply(get_hlu).T, \\\n",
    "         bird[b_columns].apply(get_hlu).T, \\\n",
    "         left_index = True, right_index=True, suffixes=('_wh', '_all'))\n",
    "\n",
    "coral_total = pd.merge(coral_selected[c_columns].apply(get_hlu).T, \\\n",
    "         coral_unique[c_columns].apply(get_hlu).T, \\\n",
    "         left_index = True, right_index=True, suffixes=('_wh', '_all'))"
   ]
  },
  {
   "cell_type": "code",
   "execution_count": 69,
   "metadata": {
    "collapsed": false
   },
   "outputs": [
    {
     "data": {
      "text/html": [
       "<div>\n",
       "<table border=\"1\" class=\"dataframe\">\n",
       "  <thead>\n",
       "    <tr style=\"text-align: right;\">\n",
       "      <th></th>\n",
       "      <th>H_wh</th>\n",
       "      <th>L_wh</th>\n",
       "      <th>U_wh</th>\n",
       "      <th>per_H_wh</th>\n",
       "      <th>H_all</th>\n",
       "      <th>L_all</th>\n",
       "      <th>U_all</th>\n",
       "      <th>per_H_all</th>\n",
       "    </tr>\n",
       "  </thead>\n",
       "  <tbody>\n",
       "    <tr>\n",
       "      <th>SUSC_A_Habitats</th>\n",
       "      <td>220.0</td>\n",
       "      <td>1783.0</td>\n",
       "      <td>10.0</td>\n",
       "      <td>0.109290</td>\n",
       "      <td>1509.0</td>\n",
       "      <td>4539.0</td>\n",
       "      <td>156.0</td>\n",
       "      <td>0.243230</td>\n",
       "    </tr>\n",
       "    <tr>\n",
       "      <th>SUSC_A_aquatic larvae</th>\n",
       "      <td>330.0</td>\n",
       "      <td>1673.0</td>\n",
       "      <td>10.0</td>\n",
       "      <td>0.163934</td>\n",
       "      <td>955.0</td>\n",
       "      <td>5085.0</td>\n",
       "      <td>164.0</td>\n",
       "      <td>0.153933</td>\n",
       "    </tr>\n",
       "    <tr>\n",
       "      <th>SUSC_B_Temperature Range</th>\n",
       "      <td>386.0</td>\n",
       "      <td>1626.0</td>\n",
       "      <td>1.0</td>\n",
       "      <td>0.191754</td>\n",
       "      <td>1519.0</td>\n",
       "      <td>4557.0</td>\n",
       "      <td>128.0</td>\n",
       "      <td>0.244842</td>\n",
       "    </tr>\n",
       "    <tr>\n",
       "      <th>SUSC_B_Precipitation Range</th>\n",
       "      <td>479.0</td>\n",
       "      <td>1533.0</td>\n",
       "      <td>1.0</td>\n",
       "      <td>0.237953</td>\n",
       "      <td>1519.0</td>\n",
       "      <td>4557.0</td>\n",
       "      <td>128.0</td>\n",
       "      <td>0.244842</td>\n",
       "    </tr>\n",
       "    <tr>\n",
       "      <th>SUSC_C_explosive breeder</th>\n",
       "      <td>162.0</td>\n",
       "      <td>1629.0</td>\n",
       "      <td>222.0</td>\n",
       "      <td>0.080477</td>\n",
       "      <td>316.0</td>\n",
       "      <td>4113.0</td>\n",
       "      <td>1775.0</td>\n",
       "      <td>0.050935</td>\n",
       "    </tr>\n",
       "    <tr>\n",
       "      <th>SUSC_D_disease</th>\n",
       "      <td>436.0</td>\n",
       "      <td>1577.0</td>\n",
       "      <td>0.0</td>\n",
       "      <td>0.216592</td>\n",
       "      <td>1307.0</td>\n",
       "      <td>4897.0</td>\n",
       "      <td>0.0</td>\n",
       "      <td>0.210671</td>\n",
       "    </tr>\n",
       "    <tr>\n",
       "      <th>SENSITIVITY</th>\n",
       "      <td>1340.0</td>\n",
       "      <td>606.0</td>\n",
       "      <td>67.0</td>\n",
       "      <td>0.665673</td>\n",
       "      <td>4453.0</td>\n",
       "      <td>1365.0</td>\n",
       "      <td>386.0</td>\n",
       "      <td>0.717763</td>\n",
       "    </tr>\n",
       "    <tr>\n",
       "      <th>ADAPT_A_barriers</th>\n",
       "      <td>183.0</td>\n",
       "      <td>1661.0</td>\n",
       "      <td>169.0</td>\n",
       "      <td>0.090909</td>\n",
       "      <td>745.0</td>\n",
       "      <td>3900.0</td>\n",
       "      <td>1559.0</td>\n",
       "      <td>0.120084</td>\n",
       "    </tr>\n",
       "    <tr>\n",
       "      <th>ADAPT_A_dispersal_distance</th>\n",
       "      <td>501.0</td>\n",
       "      <td>1493.0</td>\n",
       "      <td>19.0</td>\n",
       "      <td>0.248882</td>\n",
       "      <td>1569.0</td>\n",
       "      <td>4522.0</td>\n",
       "      <td>113.0</td>\n",
       "      <td>0.252901</td>\n",
       "    </tr>\n",
       "    <tr>\n",
       "      <th>ADAPT_C_Slow_Gen_Turnpover</th>\n",
       "      <td>609.0</td>\n",
       "      <td>586.0</td>\n",
       "      <td>818.0</td>\n",
       "      <td>0.302534</td>\n",
       "      <td>2073.0</td>\n",
       "      <td>899.0</td>\n",
       "      <td>3232.0</td>\n",
       "      <td>0.334139</td>\n",
       "    </tr>\n",
       "    <tr>\n",
       "      <th>LOW_ADAPTABILITY</th>\n",
       "      <td>997.0</td>\n",
       "      <td>1007.0</td>\n",
       "      <td>9.0</td>\n",
       "      <td>0.495281</td>\n",
       "      <td>3233.0</td>\n",
       "      <td>2898.0</td>\n",
       "      <td>73.0</td>\n",
       "      <td>0.521115</td>\n",
       "    </tr>\n",
       "    <tr>\n",
       "      <th>EXP_Sea Level</th>\n",
       "      <td>0.0</td>\n",
       "      <td>2003.0</td>\n",
       "      <td>10.0</td>\n",
       "      <td>0.000000</td>\n",
       "      <td>4.0</td>\n",
       "      <td>6044.0</td>\n",
       "      <td>156.0</td>\n",
       "      <td>0.000645</td>\n",
       "    </tr>\n",
       "    <tr>\n",
       "      <th>EXP_MeanTemperature</th>\n",
       "      <td>315.0</td>\n",
       "      <td>1697.0</td>\n",
       "      <td>1.0</td>\n",
       "      <td>0.156483</td>\n",
       "      <td>1515.0</td>\n",
       "      <td>4544.0</td>\n",
       "      <td>145.0</td>\n",
       "      <td>0.244197</td>\n",
       "    </tr>\n",
       "    <tr>\n",
       "      <th>EXP_MeanRainfall</th>\n",
       "      <td>503.0</td>\n",
       "      <td>1509.0</td>\n",
       "      <td>1.0</td>\n",
       "      <td>0.249876</td>\n",
       "      <td>1515.0</td>\n",
       "      <td>4544.0</td>\n",
       "      <td>145.0</td>\n",
       "      <td>0.244197</td>\n",
       "    </tr>\n",
       "    <tr>\n",
       "      <th>EXP_AADTemperature</th>\n",
       "      <td>212.0</td>\n",
       "      <td>1800.0</td>\n",
       "      <td>1.0</td>\n",
       "      <td>0.105315</td>\n",
       "      <td>1498.0</td>\n",
       "      <td>4561.0</td>\n",
       "      <td>145.0</td>\n",
       "      <td>0.241457</td>\n",
       "    </tr>\n",
       "    <tr>\n",
       "      <th>EXP_AADRainfall</th>\n",
       "      <td>371.0</td>\n",
       "      <td>1641.0</td>\n",
       "      <td>1.0</td>\n",
       "      <td>0.184302</td>\n",
       "      <td>1515.0</td>\n",
       "      <td>4544.0</td>\n",
       "      <td>145.0</td>\n",
       "      <td>0.244197</td>\n",
       "    </tr>\n",
       "    <tr>\n",
       "      <th>EXPOSURE</th>\n",
       "      <td>864.0</td>\n",
       "      <td>1145.0</td>\n",
       "      <td>4.0</td>\n",
       "      <td>0.429210</td>\n",
       "      <td>3356.0</td>\n",
       "      <td>2642.0</td>\n",
       "      <td>206.0</td>\n",
       "      <td>0.540941</td>\n",
       "    </tr>\n",
       "    <tr>\n",
       "      <th>FINAL_SCORE</th>\n",
       "      <td>301.0</td>\n",
       "      <td>1712.0</td>\n",
       "      <td>0.0</td>\n",
       "      <td>0.149528</td>\n",
       "      <td>1368.0</td>\n",
       "      <td>4836.0</td>\n",
       "      <td>0.0</td>\n",
       "      <td>0.220503</td>\n",
       "    </tr>\n",
       "  </tbody>\n",
       "</table>\n",
       "</div>"
      ],
      "text/plain": [
       "                              H_wh    L_wh   U_wh  per_H_wh   H_all   L_all  \\\n",
       "SUSC_A_Habitats              220.0  1783.0   10.0  0.109290  1509.0  4539.0   \n",
       "SUSC_A_aquatic larvae        330.0  1673.0   10.0  0.163934   955.0  5085.0   \n",
       "SUSC_B_Temperature Range     386.0  1626.0    1.0  0.191754  1519.0  4557.0   \n",
       "SUSC_B_Precipitation Range   479.0  1533.0    1.0  0.237953  1519.0  4557.0   \n",
       "SUSC_C_explosive breeder     162.0  1629.0  222.0  0.080477   316.0  4113.0   \n",
       "SUSC_D_disease               436.0  1577.0    0.0  0.216592  1307.0  4897.0   \n",
       "SENSITIVITY                 1340.0   606.0   67.0  0.665673  4453.0  1365.0   \n",
       "ADAPT_A_barriers             183.0  1661.0  169.0  0.090909   745.0  3900.0   \n",
       "ADAPT_A_dispersal_distance   501.0  1493.0   19.0  0.248882  1569.0  4522.0   \n",
       "ADAPT_C_Slow_Gen_Turnpover   609.0   586.0  818.0  0.302534  2073.0   899.0   \n",
       "LOW_ADAPTABILITY             997.0  1007.0    9.0  0.495281  3233.0  2898.0   \n",
       "EXP_Sea Level                  0.0  2003.0   10.0  0.000000     4.0  6044.0   \n",
       "EXP_MeanTemperature          315.0  1697.0    1.0  0.156483  1515.0  4544.0   \n",
       "EXP_MeanRainfall             503.0  1509.0    1.0  0.249876  1515.0  4544.0   \n",
       "EXP_AADTemperature           212.0  1800.0    1.0  0.105315  1498.0  4561.0   \n",
       "EXP_AADRainfall              371.0  1641.0    1.0  0.184302  1515.0  4544.0   \n",
       "EXPOSURE                     864.0  1145.0    4.0  0.429210  3356.0  2642.0   \n",
       "FINAL_SCORE                  301.0  1712.0    0.0  0.149528  1368.0  4836.0   \n",
       "\n",
       "                             U_all  per_H_all  \n",
       "SUSC_A_Habitats              156.0   0.243230  \n",
       "SUSC_A_aquatic larvae        164.0   0.153933  \n",
       "SUSC_B_Temperature Range     128.0   0.244842  \n",
       "SUSC_B_Precipitation Range   128.0   0.244842  \n",
       "SUSC_C_explosive breeder    1775.0   0.050935  \n",
       "SUSC_D_disease                 0.0   0.210671  \n",
       "SENSITIVITY                  386.0   0.717763  \n",
       "ADAPT_A_barriers            1559.0   0.120084  \n",
       "ADAPT_A_dispersal_distance   113.0   0.252901  \n",
       "ADAPT_C_Slow_Gen_Turnpover  3232.0   0.334139  \n",
       "LOW_ADAPTABILITY              73.0   0.521115  \n",
       "EXP_Sea Level                156.0   0.000645  \n",
       "EXP_MeanTemperature          145.0   0.244197  \n",
       "EXP_MeanRainfall             145.0   0.244197  \n",
       "EXP_AADTemperature           145.0   0.241457  \n",
       "EXP_AADRainfall              145.0   0.244197  \n",
       "EXPOSURE                     206.0   0.540941  \n",
       "FINAL_SCORE                    0.0   0.220503  "
      ]
     },
     "execution_count": 69,
     "metadata": {},
     "output_type": "execute_result"
    }
   ],
   "source": [
    "amp_total"
   ]
  },
  {
   "cell_type": "code",
   "execution_count": 70,
   "metadata": {
    "collapsed": false
   },
   "outputs": [
    {
     "data": {
      "text/html": [
       "<div>\n",
       "<table border=\"1\" class=\"dataframe\">\n",
       "  <thead>\n",
       "    <tr style=\"text-align: right;\">\n",
       "      <th></th>\n",
       "      <th>H_wh</th>\n",
       "      <th>L_wh</th>\n",
       "      <th>U_wh</th>\n",
       "      <th>per_H_wh</th>\n",
       "      <th>H_all</th>\n",
       "      <th>L_all</th>\n",
       "      <th>U_all</th>\n",
       "      <th>per_H_all</th>\n",
       "    </tr>\n",
       "  </thead>\n",
       "  <tbody>\n",
       "    <tr>\n",
       "      <th>FINAL_SCORE</th>\n",
       "      <td>1336.0</td>\n",
       "      <td>5578.0</td>\n",
       "      <td>0.0</td>\n",
       "      <td>0.193231</td>\n",
       "      <td>2323.0</td>\n",
       "      <td>7533.0</td>\n",
       "      <td>0.0</td>\n",
       "      <td>0.235694</td>\n",
       "    </tr>\n",
       "    <tr>\n",
       "      <th>__hab_specialisation</th>\n",
       "      <td>849.0</td>\n",
       "      <td>6059.0</td>\n",
       "      <td>6.0</td>\n",
       "      <td>0.122794</td>\n",
       "      <td>1530.0</td>\n",
       "      <td>8306.0</td>\n",
       "      <td>20.0</td>\n",
       "      <td>0.155235</td>\n",
       "    </tr>\n",
       "    <tr>\n",
       "      <th>__microhabitat</th>\n",
       "      <td>703.0</td>\n",
       "      <td>6211.0</td>\n",
       "      <td>0.0</td>\n",
       "      <td>0.101678</td>\n",
       "      <td>1001.0</td>\n",
       "      <td>8855.0</td>\n",
       "      <td>0.0</td>\n",
       "      <td>0.101562</td>\n",
       "    </tr>\n",
       "    <tr>\n",
       "      <th>__ForestDependence</th>\n",
       "      <td>1527.0</td>\n",
       "      <td>5386.0</td>\n",
       "      <td>1.0</td>\n",
       "      <td>0.220856</td>\n",
       "      <td>2575.0</td>\n",
       "      <td>7277.0</td>\n",
       "      <td>4.0</td>\n",
       "      <td>0.261262</td>\n",
       "    </tr>\n",
       "    <tr>\n",
       "      <th>__TemperatureRange</th>\n",
       "      <td>1068.0</td>\n",
       "      <td>4401.0</td>\n",
       "      <td>1445.0</td>\n",
       "      <td>0.154469</td>\n",
       "      <td>1974.0</td>\n",
       "      <td>6118.0</td>\n",
       "      <td>1764.0</td>\n",
       "      <td>0.200284</td>\n",
       "    </tr>\n",
       "    <tr>\n",
       "      <th>__PrecipRange</th>\n",
       "      <td>1414.0</td>\n",
       "      <td>4055.0</td>\n",
       "      <td>1445.0</td>\n",
       "      <td>0.204513</td>\n",
       "      <td>2095.0</td>\n",
       "      <td>5997.0</td>\n",
       "      <td>1764.0</td>\n",
       "      <td>0.212561</td>\n",
       "    </tr>\n",
       "    <tr>\n",
       "      <th>__Species dependence</th>\n",
       "      <td>66.0</td>\n",
       "      <td>6848.0</td>\n",
       "      <td>0.0</td>\n",
       "      <td>0.009546</td>\n",
       "      <td>89.0</td>\n",
       "      <td>9767.0</td>\n",
       "      <td>0.0</td>\n",
       "      <td>0.009030</td>\n",
       "    </tr>\n",
       "    <tr>\n",
       "      <th>__PopnSize</th>\n",
       "      <td>393.0</td>\n",
       "      <td>1794.0</td>\n",
       "      <td>4727.0</td>\n",
       "      <td>0.056841</td>\n",
       "      <td>1084.0</td>\n",
       "      <td>2319.0</td>\n",
       "      <td>6453.0</td>\n",
       "      <td>0.109984</td>\n",
       "    </tr>\n",
       "    <tr>\n",
       "      <th>__EffectivePopnSize</th>\n",
       "      <td>558.0</td>\n",
       "      <td>1629.0</td>\n",
       "      <td>4727.0</td>\n",
       "      <td>0.080706</td>\n",
       "      <td>1410.0</td>\n",
       "      <td>1993.0</td>\n",
       "      <td>6453.0</td>\n",
       "      <td>0.143060</td>\n",
       "    </tr>\n",
       "    <tr>\n",
       "      <th>SENSITIVITY</th>\n",
       "      <td>4022.0</td>\n",
       "      <td>585.0</td>\n",
       "      <td>2307.0</td>\n",
       "      <td>0.581718</td>\n",
       "      <td>6290.0</td>\n",
       "      <td>719.0</td>\n",
       "      <td>2847.0</td>\n",
       "      <td>0.638190</td>\n",
       "    </tr>\n",
       "    <tr>\n",
       "      <th>__Dispersal distance limited</th>\n",
       "      <td>1180.0</td>\n",
       "      <td>5734.0</td>\n",
       "      <td>0.0</td>\n",
       "      <td>0.170668</td>\n",
       "      <td>1993.0</td>\n",
       "      <td>7863.0</td>\n",
       "      <td>0.0</td>\n",
       "      <td>0.202212</td>\n",
       "    </tr>\n",
       "    <tr>\n",
       "      <th>__Dispersal barriers</th>\n",
       "      <td>314.0</td>\n",
       "      <td>6600.0</td>\n",
       "      <td>0.0</td>\n",
       "      <td>0.045415</td>\n",
       "      <td>700.0</td>\n",
       "      <td>9156.0</td>\n",
       "      <td>0.0</td>\n",
       "      <td>0.071023</td>\n",
       "    </tr>\n",
       "    <tr>\n",
       "      <th>__Low genetic diversity</th>\n",
       "      <td>41.0</td>\n",
       "      <td>6873.0</td>\n",
       "      <td>0.0</td>\n",
       "      <td>0.005930</td>\n",
       "      <td>69.0</td>\n",
       "      <td>9787.0</td>\n",
       "      <td>0.0</td>\n",
       "      <td>0.007001</td>\n",
       "    </tr>\n",
       "    <tr>\n",
       "      <th>__clutch size</th>\n",
       "      <td>1760.0</td>\n",
       "      <td>3213.0</td>\n",
       "      <td>1941.0</td>\n",
       "      <td>0.254556</td>\n",
       "      <td>2414.0</td>\n",
       "      <td>3946.0</td>\n",
       "      <td>3496.0</td>\n",
       "      <td>0.244927</td>\n",
       "    </tr>\n",
       "    <tr>\n",
       "      <th>__Gen_Length</th>\n",
       "      <td>1730.0</td>\n",
       "      <td>5184.0</td>\n",
       "      <td>0.0</td>\n",
       "      <td>0.250217</td>\n",
       "      <td>2500.0</td>\n",
       "      <td>7356.0</td>\n",
       "      <td>0.0</td>\n",
       "      <td>0.253653</td>\n",
       "    </tr>\n",
       "    <tr>\n",
       "      <th>LOW_ADAPTABILITY</th>\n",
       "      <td>3576.0</td>\n",
       "      <td>2092.0</td>\n",
       "      <td>1246.0</td>\n",
       "      <td>0.517211</td>\n",
       "      <td>5337.0</td>\n",
       "      <td>2507.0</td>\n",
       "      <td>2012.0</td>\n",
       "      <td>0.541498</td>\n",
       "    </tr>\n",
       "    <tr>\n",
       "      <th>__EXP_Sea Inundation</th>\n",
       "      <td>100.0</td>\n",
       "      <td>6808.0</td>\n",
       "      <td>6.0</td>\n",
       "      <td>0.014463</td>\n",
       "      <td>163.0</td>\n",
       "      <td>9673.0</td>\n",
       "      <td>20.0</td>\n",
       "      <td>0.016538</td>\n",
       "    </tr>\n",
       "    <tr>\n",
       "      <th>__EXP_MeanTemperature</th>\n",
       "      <td>1227.0</td>\n",
       "      <td>4222.0</td>\n",
       "      <td>1465.0</td>\n",
       "      <td>0.177466</td>\n",
       "      <td>1921.0</td>\n",
       "      <td>6066.0</td>\n",
       "      <td>1869.0</td>\n",
       "      <td>0.194907</td>\n",
       "    </tr>\n",
       "    <tr>\n",
       "      <th>__EXP_AADTemperature</th>\n",
       "      <td>944.0</td>\n",
       "      <td>4505.0</td>\n",
       "      <td>1465.0</td>\n",
       "      <td>0.136535</td>\n",
       "      <td>1925.0</td>\n",
       "      <td>6062.0</td>\n",
       "      <td>1869.0</td>\n",
       "      <td>0.195312</td>\n",
       "    </tr>\n",
       "    <tr>\n",
       "      <th>__EXP_MeanPrecip</th>\n",
       "      <td>1180.0</td>\n",
       "      <td>4269.0</td>\n",
       "      <td>1465.0</td>\n",
       "      <td>0.170668</td>\n",
       "      <td>1998.0</td>\n",
       "      <td>5989.0</td>\n",
       "      <td>1869.0</td>\n",
       "      <td>0.202719</td>\n",
       "    </tr>\n",
       "    <tr>\n",
       "      <th>__EXP_AADPrecip</th>\n",
       "      <td>1070.0</td>\n",
       "      <td>4379.0</td>\n",
       "      <td>1465.0</td>\n",
       "      <td>0.154758</td>\n",
       "      <td>2152.0</td>\n",
       "      <td>5835.0</td>\n",
       "      <td>1869.0</td>\n",
       "      <td>0.218344</td>\n",
       "    </tr>\n",
       "    <tr>\n",
       "      <th>EXPOSURE</th>\n",
       "      <td>3053.0</td>\n",
       "      <td>2406.0</td>\n",
       "      <td>1455.0</td>\n",
       "      <td>0.441568</td>\n",
       "      <td>4920.0</td>\n",
       "      <td>3082.0</td>\n",
       "      <td>1854.0</td>\n",
       "      <td>0.499188</td>\n",
       "    </tr>\n",
       "  </tbody>\n",
       "</table>\n",
       "</div>"
      ],
      "text/plain": [
       "                                H_wh    L_wh    U_wh  per_H_wh   H_all  \\\n",
       "FINAL_SCORE                   1336.0  5578.0     0.0  0.193231  2323.0   \n",
       "__hab_specialisation           849.0  6059.0     6.0  0.122794  1530.0   \n",
       "__microhabitat                 703.0  6211.0     0.0  0.101678  1001.0   \n",
       "__ForestDependence            1527.0  5386.0     1.0  0.220856  2575.0   \n",
       "__TemperatureRange            1068.0  4401.0  1445.0  0.154469  1974.0   \n",
       "__PrecipRange                 1414.0  4055.0  1445.0  0.204513  2095.0   \n",
       "__Species dependence            66.0  6848.0     0.0  0.009546    89.0   \n",
       "__PopnSize                     393.0  1794.0  4727.0  0.056841  1084.0   \n",
       "__EffectivePopnSize            558.0  1629.0  4727.0  0.080706  1410.0   \n",
       "SENSITIVITY                   4022.0   585.0  2307.0  0.581718  6290.0   \n",
       "__Dispersal distance limited  1180.0  5734.0     0.0  0.170668  1993.0   \n",
       "__Dispersal barriers           314.0  6600.0     0.0  0.045415   700.0   \n",
       "__Low genetic diversity         41.0  6873.0     0.0  0.005930    69.0   \n",
       "__clutch size                 1760.0  3213.0  1941.0  0.254556  2414.0   \n",
       "__Gen_Length                  1730.0  5184.0     0.0  0.250217  2500.0   \n",
       "LOW_ADAPTABILITY              3576.0  2092.0  1246.0  0.517211  5337.0   \n",
       "__EXP_Sea Inundation           100.0  6808.0     6.0  0.014463   163.0   \n",
       "__EXP_MeanTemperature         1227.0  4222.0  1465.0  0.177466  1921.0   \n",
       "__EXP_AADTemperature           944.0  4505.0  1465.0  0.136535  1925.0   \n",
       "__EXP_MeanPrecip              1180.0  4269.0  1465.0  0.170668  1998.0   \n",
       "__EXP_AADPrecip               1070.0  4379.0  1465.0  0.154758  2152.0   \n",
       "EXPOSURE                      3053.0  2406.0  1455.0  0.441568  4920.0   \n",
       "\n",
       "                               L_all   U_all  per_H_all  \n",
       "FINAL_SCORE                   7533.0     0.0   0.235694  \n",
       "__hab_specialisation          8306.0    20.0   0.155235  \n",
       "__microhabitat                8855.0     0.0   0.101562  \n",
       "__ForestDependence            7277.0     4.0   0.261262  \n",
       "__TemperatureRange            6118.0  1764.0   0.200284  \n",
       "__PrecipRange                 5997.0  1764.0   0.212561  \n",
       "__Species dependence          9767.0     0.0   0.009030  \n",
       "__PopnSize                    2319.0  6453.0   0.109984  \n",
       "__EffectivePopnSize           1993.0  6453.0   0.143060  \n",
       "SENSITIVITY                    719.0  2847.0   0.638190  \n",
       "__Dispersal distance limited  7863.0     0.0   0.202212  \n",
       "__Dispersal barriers          9156.0     0.0   0.071023  \n",
       "__Low genetic diversity       9787.0     0.0   0.007001  \n",
       "__clutch size                 3946.0  3496.0   0.244927  \n",
       "__Gen_Length                  7356.0     0.0   0.253653  \n",
       "LOW_ADAPTABILITY              2507.0  2012.0   0.541498  \n",
       "__EXP_Sea Inundation          9673.0    20.0   0.016538  \n",
       "__EXP_MeanTemperature         6066.0  1869.0   0.194907  \n",
       "__EXP_AADTemperature          6062.0  1869.0   0.195312  \n",
       "__EXP_MeanPrecip              5989.0  1869.0   0.202719  \n",
       "__EXP_AADPrecip               5835.0  1869.0   0.218344  \n",
       "EXPOSURE                      3082.0  1854.0   0.499188  "
      ]
     },
     "execution_count": 70,
     "metadata": {},
     "output_type": "execute_result"
    }
   ],
   "source": [
    "bird_total"
   ]
  },
  {
   "cell_type": "code",
   "execution_count": 71,
   "metadata": {
    "collapsed": false
   },
   "outputs": [
    {
     "data": {
      "text/html": [
       "<div>\n",
       "<table border=\"1\" class=\"dataframe\">\n",
       "  <thead>\n",
       "    <tr style=\"text-align: right;\">\n",
       "      <th></th>\n",
       "      <th>H_wh</th>\n",
       "      <th>L_wh</th>\n",
       "      <th>U_wh</th>\n",
       "      <th>per_H_wh</th>\n",
       "      <th>H_all</th>\n",
       "      <th>L_all</th>\n",
       "      <th>U_all</th>\n",
       "      <th>per_H_all</th>\n",
       "    </tr>\n",
       "  </thead>\n",
       "  <tbody>\n",
       "    <tr>\n",
       "      <th>FINAL_SCORE</th>\n",
       "      <td>111.0</td>\n",
       "      <td>582.0</td>\n",
       "      <td>31.0</td>\n",
       "      <td>0.153315</td>\n",
       "      <td>121.0</td>\n",
       "      <td>599.0</td>\n",
       "      <td>77.0</td>\n",
       "      <td>0.151819</td>\n",
       "    </tr>\n",
       "    <tr>\n",
       "      <th>_Few habitats</th>\n",
       "      <td>160.0</td>\n",
       "      <td>564.0</td>\n",
       "      <td>0.0</td>\n",
       "      <td>0.220994</td>\n",
       "      <td>192.0</td>\n",
       "      <td>605.0</td>\n",
       "      <td>0.0</td>\n",
       "      <td>0.240903</td>\n",
       "    </tr>\n",
       "    <tr>\n",
       "      <th>_narrow depth rng</th>\n",
       "      <td>169.0</td>\n",
       "      <td>529.0</td>\n",
       "      <td>26.0</td>\n",
       "      <td>0.233425</td>\n",
       "      <td>192.0</td>\n",
       "      <td>570.0</td>\n",
       "      <td>35.0</td>\n",
       "      <td>0.240903</td>\n",
       "    </tr>\n",
       "    <tr>\n",
       "      <th>_Larval vulnerabilityH</th>\n",
       "      <td>133.0</td>\n",
       "      <td>589.0</td>\n",
       "      <td>2.0</td>\n",
       "      <td>0.183702</td>\n",
       "      <td>137.0</td>\n",
       "      <td>658.0</td>\n",
       "      <td>2.0</td>\n",
       "      <td>0.171895</td>\n",
       "    </tr>\n",
       "    <tr>\n",
       "      <th>_ShallowH</th>\n",
       "      <td>172.0</td>\n",
       "      <td>527.0</td>\n",
       "      <td>25.0</td>\n",
       "      <td>0.237569</td>\n",
       "      <td>188.0</td>\n",
       "      <td>578.0</td>\n",
       "      <td>31.0</td>\n",
       "      <td>0.235885</td>\n",
       "    </tr>\n",
       "    <tr>\n",
       "      <th>_PastMortalityH</th>\n",
       "      <td>312.0</td>\n",
       "      <td>412.0</td>\n",
       "      <td>0.0</td>\n",
       "      <td>0.430939</td>\n",
       "      <td>322.0</td>\n",
       "      <td>475.0</td>\n",
       "      <td>0.0</td>\n",
       "      <td>0.404015</td>\n",
       "    </tr>\n",
       "    <tr>\n",
       "      <th>_zooxH</th>\n",
       "      <td>669.0</td>\n",
       "      <td>54.0</td>\n",
       "      <td>1.0</td>\n",
       "      <td>0.924033</td>\n",
       "      <td>739.0</td>\n",
       "      <td>57.0</td>\n",
       "      <td>1.0</td>\n",
       "      <td>0.927227</td>\n",
       "    </tr>\n",
       "    <tr>\n",
       "      <th>_Rare</th>\n",
       "      <td>144.0</td>\n",
       "      <td>575.0</td>\n",
       "      <td>5.0</td>\n",
       "      <td>0.198895</td>\n",
       "      <td>196.0</td>\n",
       "      <td>595.0</td>\n",
       "      <td>6.0</td>\n",
       "      <td>0.245922</td>\n",
       "    </tr>\n",
       "    <tr>\n",
       "      <th>SENSITIVITY</th>\n",
       "      <td>723.0</td>\n",
       "      <td>1.0</td>\n",
       "      <td>0.0</td>\n",
       "      <td>0.998619</td>\n",
       "      <td>796.0</td>\n",
       "      <td>1.0</td>\n",
       "      <td>0.0</td>\n",
       "      <td>0.998745</td>\n",
       "    </tr>\n",
       "    <tr>\n",
       "      <th>_Short dispersal distance</th>\n",
       "      <td>65.0</td>\n",
       "      <td>491.0</td>\n",
       "      <td>168.0</td>\n",
       "      <td>0.089779</td>\n",
       "      <td>72.0</td>\n",
       "      <td>521.0</td>\n",
       "      <td>204.0</td>\n",
       "      <td>0.090339</td>\n",
       "    </tr>\n",
       "    <tr>\n",
       "      <th>_dispersal barriers</th>\n",
       "      <td>83.0</td>\n",
       "      <td>635.0</td>\n",
       "      <td>6.0</td>\n",
       "      <td>0.114641</td>\n",
       "      <td>117.0</td>\n",
       "      <td>669.0</td>\n",
       "      <td>11.0</td>\n",
       "      <td>0.146801</td>\n",
       "    </tr>\n",
       "    <tr>\n",
       "      <th>_ColonyMaxAge</th>\n",
       "      <td>11.0</td>\n",
       "      <td>707.0</td>\n",
       "      <td>6.0</td>\n",
       "      <td>0.015193</td>\n",
       "      <td>13.0</td>\n",
       "      <td>773.0</td>\n",
       "      <td>11.0</td>\n",
       "      <td>0.016311</td>\n",
       "    </tr>\n",
       "    <tr>\n",
       "      <th>_SlowGrowthRate</th>\n",
       "      <td>263.0</td>\n",
       "      <td>455.0</td>\n",
       "      <td>6.0</td>\n",
       "      <td>0.363260</td>\n",
       "      <td>293.0</td>\n",
       "      <td>495.0</td>\n",
       "      <td>9.0</td>\n",
       "      <td>0.367629</td>\n",
       "    </tr>\n",
       "    <tr>\n",
       "      <th>LOW_ADAPTABILITY</th>\n",
       "      <td>366.0</td>\n",
       "      <td>356.0</td>\n",
       "      <td>2.0</td>\n",
       "      <td>0.505525</td>\n",
       "      <td>420.0</td>\n",
       "      <td>373.0</td>\n",
       "      <td>4.0</td>\n",
       "      <td>0.526976</td>\n",
       "    </tr>\n",
       "    <tr>\n",
       "      <th>_ProportionArag&lt;3</th>\n",
       "      <td>161.0</td>\n",
       "      <td>521.0</td>\n",
       "      <td>42.0</td>\n",
       "      <td>0.222376</td>\n",
       "      <td>177.0</td>\n",
       "      <td>529.0</td>\n",
       "      <td>91.0</td>\n",
       "      <td>0.222083</td>\n",
       "    </tr>\n",
       "    <tr>\n",
       "      <th>_MeanDHM</th>\n",
       "      <td>170.0</td>\n",
       "      <td>513.0</td>\n",
       "      <td>41.0</td>\n",
       "      <td>0.234807</td>\n",
       "      <td>184.0</td>\n",
       "      <td>518.0</td>\n",
       "      <td>95.0</td>\n",
       "      <td>0.230866</td>\n",
       "    </tr>\n",
       "    <tr>\n",
       "      <th>EXPOSURE</th>\n",
       "      <td>249.0</td>\n",
       "      <td>445.0</td>\n",
       "      <td>30.0</td>\n",
       "      <td>0.343923</td>\n",
       "      <td>271.0</td>\n",
       "      <td>447.0</td>\n",
       "      <td>79.0</td>\n",
       "      <td>0.340025</td>\n",
       "    </tr>\n",
       "  </tbody>\n",
       "</table>\n",
       "</div>"
      ],
      "text/plain": [
       "                            H_wh   L_wh   U_wh  per_H_wh  H_all  L_all  U_all  \\\n",
       "FINAL_SCORE                111.0  582.0   31.0  0.153315  121.0  599.0   77.0   \n",
       "_Few habitats              160.0  564.0    0.0  0.220994  192.0  605.0    0.0   \n",
       "_narrow depth rng          169.0  529.0   26.0  0.233425  192.0  570.0   35.0   \n",
       "_Larval vulnerabilityH     133.0  589.0    2.0  0.183702  137.0  658.0    2.0   \n",
       "_ShallowH                  172.0  527.0   25.0  0.237569  188.0  578.0   31.0   \n",
       "_PastMortalityH            312.0  412.0    0.0  0.430939  322.0  475.0    0.0   \n",
       "_zooxH                     669.0   54.0    1.0  0.924033  739.0   57.0    1.0   \n",
       "_Rare                      144.0  575.0    5.0  0.198895  196.0  595.0    6.0   \n",
       "SENSITIVITY                723.0    1.0    0.0  0.998619  796.0    1.0    0.0   \n",
       "_Short dispersal distance   65.0  491.0  168.0  0.089779   72.0  521.0  204.0   \n",
       "_dispersal barriers         83.0  635.0    6.0  0.114641  117.0  669.0   11.0   \n",
       "_ColonyMaxAge               11.0  707.0    6.0  0.015193   13.0  773.0   11.0   \n",
       "_SlowGrowthRate            263.0  455.0    6.0  0.363260  293.0  495.0    9.0   \n",
       "LOW_ADAPTABILITY           366.0  356.0    2.0  0.505525  420.0  373.0    4.0   \n",
       "_ProportionArag<3          161.0  521.0   42.0  0.222376  177.0  529.0   91.0   \n",
       "_MeanDHM                   170.0  513.0   41.0  0.234807  184.0  518.0   95.0   \n",
       "EXPOSURE                   249.0  445.0   30.0  0.343923  271.0  447.0   79.0   \n",
       "\n",
       "                           per_H_all  \n",
       "FINAL_SCORE                 0.151819  \n",
       "_Few habitats               0.240903  \n",
       "_narrow depth rng           0.240903  \n",
       "_Larval vulnerabilityH      0.171895  \n",
       "_ShallowH                   0.235885  \n",
       "_PastMortalityH             0.404015  \n",
       "_zooxH                      0.927227  \n",
       "_Rare                       0.245922  \n",
       "SENSITIVITY                 0.998745  \n",
       "_Short dispersal distance   0.090339  \n",
       "_dispersal barriers         0.146801  \n",
       "_ColonyMaxAge               0.016311  \n",
       "_SlowGrowthRate             0.367629  \n",
       "LOW_ADAPTABILITY            0.526976  \n",
       "_ProportionArag<3           0.222083  \n",
       "_MeanDHM                    0.230866  \n",
       "EXPOSURE                    0.340025  "
      ]
     },
     "execution_count": 71,
     "metadata": {},
     "output_type": "execute_result"
    }
   ],
   "source": [
    "coral_total"
   ]
  },
  {
   "cell_type": "markdown",
   "metadata": {},
   "source": [
    "Amphibians and birds in WH sites have consistently lower number of CCV species in proportion, compared to all ampbibians (14.9% to 22%) and birds (19.3% and 23.5%). Lower proportions are also observed in sensitivity, low adaptability and exposure.\n",
    "\n",
    "Question: what does it mean? what statements can be realistically made?\n",
    "1. is it because of WH sites, therefore these species are less vulnerable? Probably no, as these species are not restricted inside WH sites. Thus no statement can made about to justify the positive effect of WH sites.\n",
    "2. WH contributes a good deal, as it covers % of H CCV species globally?\n",
    "3. what others?\n",
    "\n",
    "Corals show a consistent trend in proportion in terms of vulnerability, and SAE."
   ]
  },
  {
   "cell_type": "markdown",
   "metadata": {},
   "source": [
    "Test statistics for significance"
   ]
  },
  {
   "cell_type": "markdown",
   "metadata": {},
   "source": [
    "per region (IUCN/UNESCO regions?) / biodiversity sites"
   ]
  },
  {
   "cell_type": "code",
   "execution_count": 72,
   "metadata": {
    "collapsed": false
   },
   "outputs": [
    {
     "data": {
      "text/html": [
       "<div>\n",
       "<table border=\"1\" class=\"dataframe\">\n",
       "  <thead>\n",
       "    <tr style=\"text-align: right;\">\n",
       "      <th></th>\n",
       "      <th>H_wh</th>\n",
       "      <th>L_wh</th>\n",
       "      <th>U_wh</th>\n",
       "      <th>per_H_wh</th>\n",
       "      <th>H_all</th>\n",
       "      <th>L_all</th>\n",
       "      <th>U_all</th>\n",
       "      <th>per_H_all</th>\n",
       "    </tr>\n",
       "  </thead>\n",
       "  <tbody>\n",
       "    <tr>\n",
       "      <th>SUSC_A_Habitats</th>\n",
       "      <td>220.0</td>\n",
       "      <td>1783.0</td>\n",
       "      <td>10.0</td>\n",
       "      <td>0.109290</td>\n",
       "      <td>1509.0</td>\n",
       "      <td>4539.0</td>\n",
       "      <td>156.0</td>\n",
       "      <td>0.243230</td>\n",
       "    </tr>\n",
       "    <tr>\n",
       "      <th>SUSC_A_aquatic larvae</th>\n",
       "      <td>330.0</td>\n",
       "      <td>1673.0</td>\n",
       "      <td>10.0</td>\n",
       "      <td>0.163934</td>\n",
       "      <td>955.0</td>\n",
       "      <td>5085.0</td>\n",
       "      <td>164.0</td>\n",
       "      <td>0.153933</td>\n",
       "    </tr>\n",
       "    <tr>\n",
       "      <th>SUSC_B_Temperature Range</th>\n",
       "      <td>386.0</td>\n",
       "      <td>1626.0</td>\n",
       "      <td>1.0</td>\n",
       "      <td>0.191754</td>\n",
       "      <td>1519.0</td>\n",
       "      <td>4557.0</td>\n",
       "      <td>128.0</td>\n",
       "      <td>0.244842</td>\n",
       "    </tr>\n",
       "    <tr>\n",
       "      <th>SUSC_B_Precipitation Range</th>\n",
       "      <td>479.0</td>\n",
       "      <td>1533.0</td>\n",
       "      <td>1.0</td>\n",
       "      <td>0.237953</td>\n",
       "      <td>1519.0</td>\n",
       "      <td>4557.0</td>\n",
       "      <td>128.0</td>\n",
       "      <td>0.244842</td>\n",
       "    </tr>\n",
       "    <tr>\n",
       "      <th>SUSC_C_explosive breeder</th>\n",
       "      <td>162.0</td>\n",
       "      <td>1629.0</td>\n",
       "      <td>222.0</td>\n",
       "      <td>0.080477</td>\n",
       "      <td>316.0</td>\n",
       "      <td>4113.0</td>\n",
       "      <td>1775.0</td>\n",
       "      <td>0.050935</td>\n",
       "    </tr>\n",
       "    <tr>\n",
       "      <th>SUSC_D_disease</th>\n",
       "      <td>436.0</td>\n",
       "      <td>1577.0</td>\n",
       "      <td>0.0</td>\n",
       "      <td>0.216592</td>\n",
       "      <td>1307.0</td>\n",
       "      <td>4897.0</td>\n",
       "      <td>0.0</td>\n",
       "      <td>0.210671</td>\n",
       "    </tr>\n",
       "    <tr>\n",
       "      <th>SENSITIVITY</th>\n",
       "      <td>1340.0</td>\n",
       "      <td>606.0</td>\n",
       "      <td>67.0</td>\n",
       "      <td>0.665673</td>\n",
       "      <td>4453.0</td>\n",
       "      <td>1365.0</td>\n",
       "      <td>386.0</td>\n",
       "      <td>0.717763</td>\n",
       "    </tr>\n",
       "    <tr>\n",
       "      <th>ADAPT_A_barriers</th>\n",
       "      <td>183.0</td>\n",
       "      <td>1661.0</td>\n",
       "      <td>169.0</td>\n",
       "      <td>0.090909</td>\n",
       "      <td>745.0</td>\n",
       "      <td>3900.0</td>\n",
       "      <td>1559.0</td>\n",
       "      <td>0.120084</td>\n",
       "    </tr>\n",
       "    <tr>\n",
       "      <th>ADAPT_A_dispersal_distance</th>\n",
       "      <td>501.0</td>\n",
       "      <td>1493.0</td>\n",
       "      <td>19.0</td>\n",
       "      <td>0.248882</td>\n",
       "      <td>1569.0</td>\n",
       "      <td>4522.0</td>\n",
       "      <td>113.0</td>\n",
       "      <td>0.252901</td>\n",
       "    </tr>\n",
       "    <tr>\n",
       "      <th>ADAPT_C_Slow_Gen_Turnpover</th>\n",
       "      <td>609.0</td>\n",
       "      <td>586.0</td>\n",
       "      <td>818.0</td>\n",
       "      <td>0.302534</td>\n",
       "      <td>2073.0</td>\n",
       "      <td>899.0</td>\n",
       "      <td>3232.0</td>\n",
       "      <td>0.334139</td>\n",
       "    </tr>\n",
       "    <tr>\n",
       "      <th>LOW_ADAPTABILITY</th>\n",
       "      <td>997.0</td>\n",
       "      <td>1007.0</td>\n",
       "      <td>9.0</td>\n",
       "      <td>0.495281</td>\n",
       "      <td>3233.0</td>\n",
       "      <td>2898.0</td>\n",
       "      <td>73.0</td>\n",
       "      <td>0.521115</td>\n",
       "    </tr>\n",
       "    <tr>\n",
       "      <th>EXP_Sea Level</th>\n",
       "      <td>0.0</td>\n",
       "      <td>2003.0</td>\n",
       "      <td>10.0</td>\n",
       "      <td>0.000000</td>\n",
       "      <td>4.0</td>\n",
       "      <td>6044.0</td>\n",
       "      <td>156.0</td>\n",
       "      <td>0.000645</td>\n",
       "    </tr>\n",
       "    <tr>\n",
       "      <th>EXP_MeanTemperature</th>\n",
       "      <td>315.0</td>\n",
       "      <td>1697.0</td>\n",
       "      <td>1.0</td>\n",
       "      <td>0.156483</td>\n",
       "      <td>1515.0</td>\n",
       "      <td>4544.0</td>\n",
       "      <td>145.0</td>\n",
       "      <td>0.244197</td>\n",
       "    </tr>\n",
       "    <tr>\n",
       "      <th>EXP_MeanRainfall</th>\n",
       "      <td>503.0</td>\n",
       "      <td>1509.0</td>\n",
       "      <td>1.0</td>\n",
       "      <td>0.249876</td>\n",
       "      <td>1515.0</td>\n",
       "      <td>4544.0</td>\n",
       "      <td>145.0</td>\n",
       "      <td>0.244197</td>\n",
       "    </tr>\n",
       "    <tr>\n",
       "      <th>EXP_AADTemperature</th>\n",
       "      <td>212.0</td>\n",
       "      <td>1800.0</td>\n",
       "      <td>1.0</td>\n",
       "      <td>0.105315</td>\n",
       "      <td>1498.0</td>\n",
       "      <td>4561.0</td>\n",
       "      <td>145.0</td>\n",
       "      <td>0.241457</td>\n",
       "    </tr>\n",
       "    <tr>\n",
       "      <th>EXP_AADRainfall</th>\n",
       "      <td>371.0</td>\n",
       "      <td>1641.0</td>\n",
       "      <td>1.0</td>\n",
       "      <td>0.184302</td>\n",
       "      <td>1515.0</td>\n",
       "      <td>4544.0</td>\n",
       "      <td>145.0</td>\n",
       "      <td>0.244197</td>\n",
       "    </tr>\n",
       "    <tr>\n",
       "      <th>EXPOSURE</th>\n",
       "      <td>864.0</td>\n",
       "      <td>1145.0</td>\n",
       "      <td>4.0</td>\n",
       "      <td>0.429210</td>\n",
       "      <td>3356.0</td>\n",
       "      <td>2642.0</td>\n",
       "      <td>206.0</td>\n",
       "      <td>0.540941</td>\n",
       "    </tr>\n",
       "    <tr>\n",
       "      <th>FINAL_SCORE</th>\n",
       "      <td>301.0</td>\n",
       "      <td>1712.0</td>\n",
       "      <td>0.0</td>\n",
       "      <td>0.149528</td>\n",
       "      <td>1368.0</td>\n",
       "      <td>4836.0</td>\n",
       "      <td>0.0</td>\n",
       "      <td>0.220503</td>\n",
       "    </tr>\n",
       "  </tbody>\n",
       "</table>\n",
       "</div>"
      ],
      "text/plain": [
       "                              H_wh    L_wh   U_wh  per_H_wh   H_all   L_all  \\\n",
       "SUSC_A_Habitats              220.0  1783.0   10.0  0.109290  1509.0  4539.0   \n",
       "SUSC_A_aquatic larvae        330.0  1673.0   10.0  0.163934   955.0  5085.0   \n",
       "SUSC_B_Temperature Range     386.0  1626.0    1.0  0.191754  1519.0  4557.0   \n",
       "SUSC_B_Precipitation Range   479.0  1533.0    1.0  0.237953  1519.0  4557.0   \n",
       "SUSC_C_explosive breeder     162.0  1629.0  222.0  0.080477   316.0  4113.0   \n",
       "SUSC_D_disease               436.0  1577.0    0.0  0.216592  1307.0  4897.0   \n",
       "SENSITIVITY                 1340.0   606.0   67.0  0.665673  4453.0  1365.0   \n",
       "ADAPT_A_barriers             183.0  1661.0  169.0  0.090909   745.0  3900.0   \n",
       "ADAPT_A_dispersal_distance   501.0  1493.0   19.0  0.248882  1569.0  4522.0   \n",
       "ADAPT_C_Slow_Gen_Turnpover   609.0   586.0  818.0  0.302534  2073.0   899.0   \n",
       "LOW_ADAPTABILITY             997.0  1007.0    9.0  0.495281  3233.0  2898.0   \n",
       "EXP_Sea Level                  0.0  2003.0   10.0  0.000000     4.0  6044.0   \n",
       "EXP_MeanTemperature          315.0  1697.0    1.0  0.156483  1515.0  4544.0   \n",
       "EXP_MeanRainfall             503.0  1509.0    1.0  0.249876  1515.0  4544.0   \n",
       "EXP_AADTemperature           212.0  1800.0    1.0  0.105315  1498.0  4561.0   \n",
       "EXP_AADRainfall              371.0  1641.0    1.0  0.184302  1515.0  4544.0   \n",
       "EXPOSURE                     864.0  1145.0    4.0  0.429210  3356.0  2642.0   \n",
       "FINAL_SCORE                  301.0  1712.0    0.0  0.149528  1368.0  4836.0   \n",
       "\n",
       "                             U_all  per_H_all  \n",
       "SUSC_A_Habitats              156.0   0.243230  \n",
       "SUSC_A_aquatic larvae        164.0   0.153933  \n",
       "SUSC_B_Temperature Range     128.0   0.244842  \n",
       "SUSC_B_Precipitation Range   128.0   0.244842  \n",
       "SUSC_C_explosive breeder    1775.0   0.050935  \n",
       "SUSC_D_disease                 0.0   0.210671  \n",
       "SENSITIVITY                  386.0   0.717763  \n",
       "ADAPT_A_barriers            1559.0   0.120084  \n",
       "ADAPT_A_dispersal_distance   113.0   0.252901  \n",
       "ADAPT_C_Slow_Gen_Turnpover  3232.0   0.334139  \n",
       "LOW_ADAPTABILITY              73.0   0.521115  \n",
       "EXP_Sea Level                156.0   0.000645  \n",
       "EXP_MeanTemperature          145.0   0.244197  \n",
       "EXP_MeanRainfall             145.0   0.244197  \n",
       "EXP_AADTemperature           145.0   0.241457  \n",
       "EXP_AADRainfall              145.0   0.244197  \n",
       "EXPOSURE                     206.0   0.540941  \n",
       "FINAL_SCORE                    0.0   0.220503  "
      ]
     },
     "execution_count": 72,
     "metadata": {},
     "output_type": "execute_result"
    }
   ],
   "source": [
    "amp_total"
   ]
  },
  {
   "cell_type": "markdown",
   "metadata": {},
   "source": [
    "##### Statistical testing on the finding\n",
    "Is it possible that the statistical differences observed simply reflect the fact that WH network happens to draw a sample from the pool of all species and that the difference is only due to random sampling and nothing else. In other words, the difference is not because of WH capturing species of specific traits but random sampling. "
   ]
  },
  {
   "cell_type": "code",
   "execution_count": 73,
   "metadata": {
    "collapsed": false
   },
   "outputs": [
    {
     "name": "stdout",
     "output_type": "stream",
     "text": [
      "amp: 6204 in WH 2013\n",
      "bird: 9856 in WH 6914\n",
      "coral: 797 in WH 724\n"
     ]
    }
   ],
   "source": [
    "print('amp:', amp.index.size, 'in WH', amp_selected.index.size)\n",
    "print('bird:', bird.index.size, 'in WH', bird_selected.index.size)\n",
    "print('coral:', coral_unique.index.size, 'in WH', coral_selected.index.size)"
   ]
  },
  {
   "cell_type": "code",
   "execution_count": 74,
   "metadata": {
    "collapsed": false
   },
   "outputs": [
    {
     "data": {
      "text/html": [
       "<div>\n",
       "<table border=\"1\" class=\"dataframe\">\n",
       "  <thead>\n",
       "    <tr style=\"text-align: right;\">\n",
       "      <th></th>\n",
       "      <th>id_no_int</th>\n",
       "      <th>SVP_ID</th>\n",
       "      <th>SIS_GAA_ID</th>\n",
       "      <th>GAA Family</th>\n",
       "      <th>Genus</th>\n",
       "      <th>Species</th>\n",
       "      <th>Fullname</th>\n",
       "      <th>Threatened</th>\n",
       "      <th>SUSC_A_Habitats</th>\n",
       "      <th>SUSC_A_aquatic larvae</th>\n",
       "      <th>...</th>\n",
       "      <th>phylum_name</th>\n",
       "      <th>class_name</th>\n",
       "      <th>order_name</th>\n",
       "      <th>family_name</th>\n",
       "      <th>genus_name</th>\n",
       "      <th>species_name</th>\n",
       "      <th>category</th>\n",
       "      <th>biome_marine</th>\n",
       "      <th>biome_freshwater</th>\n",
       "      <th>biome_terrestrial</th>\n",
       "    </tr>\n",
       "  </thead>\n",
       "  <tbody>\n",
       "    <tr>\n",
       "      <th>0</th>\n",
       "      <td>520.0</td>\n",
       "      <td>4556</td>\n",
       "      <td>2661</td>\n",
       "      <td>LIMNODYNASTIDAE</td>\n",
       "      <td>Adelotus</td>\n",
       "      <td>brevis</td>\n",
       "      <td>Adelotus brevis</td>\n",
       "      <td>NaN</td>\n",
       "      <td>L</td>\n",
       "      <td>L</td>\n",
       "      <td>...</td>\n",
       "      <td>CHORDATA</td>\n",
       "      <td>AMPHIBIA</td>\n",
       "      <td>ANURA</td>\n",
       "      <td>LIMNODYNASTIDAE</td>\n",
       "      <td>Adelotus</td>\n",
       "      <td>brevis</td>\n",
       "      <td>NT</td>\n",
       "      <td>f</td>\n",
       "      <td>t</td>\n",
       "      <td>t</td>\n",
       "    </tr>\n",
       "    <tr>\n",
       "      <th>1</th>\n",
       "      <td>596.0</td>\n",
       "      <td>4760</td>\n",
       "      <td>100011</td>\n",
       "      <td>HYPEROLIIDAE</td>\n",
       "      <td>Afrixalus</td>\n",
       "      <td>aureus</td>\n",
       "      <td>Afrixalus aureus</td>\n",
       "      <td>NaN</td>\n",
       "      <td>L</td>\n",
       "      <td>H</td>\n",
       "      <td>...</td>\n",
       "      <td>CHORDATA</td>\n",
       "      <td>AMPHIBIA</td>\n",
       "      <td>ANURA</td>\n",
       "      <td>HYPEROLIIDAE</td>\n",
       "      <td>Afrixalus</td>\n",
       "      <td>aureus</td>\n",
       "      <td>LC</td>\n",
       "      <td>f</td>\n",
       "      <td>t</td>\n",
       "      <td>t</td>\n",
       "    </tr>\n",
       "    <tr>\n",
       "      <th>2</th>\n",
       "      <td>1272.0</td>\n",
       "      <td>3629</td>\n",
       "      <td>51121</td>\n",
       "      <td>CRYPTOBRANCHIDAE</td>\n",
       "      <td>Andrias</td>\n",
       "      <td>davidianus</td>\n",
       "      <td>Andrias davidianus</td>\n",
       "      <td>Y</td>\n",
       "      <td>L</td>\n",
       "      <td>L</td>\n",
       "      <td>...</td>\n",
       "      <td>CHORDATA</td>\n",
       "      <td>AMPHIBIA</td>\n",
       "      <td>CAUDATA</td>\n",
       "      <td>CRYPTOBRANCHIDAE</td>\n",
       "      <td>Andrias</td>\n",
       "      <td>davidianus</td>\n",
       "      <td>CR</td>\n",
       "      <td>f</td>\n",
       "      <td>t</td>\n",
       "      <td>f</td>\n",
       "    </tr>\n",
       "    <tr>\n",
       "      <th>3</th>\n",
       "      <td>1282.0</td>\n",
       "      <td>3644</td>\n",
       "      <td>13093</td>\n",
       "      <td>PLETHODONTIDAE</td>\n",
       "      <td>Aneides</td>\n",
       "      <td>aeneus</td>\n",
       "      <td>Aneides aeneus</td>\n",
       "      <td>NaN</td>\n",
       "      <td>H</td>\n",
       "      <td>L</td>\n",
       "      <td>...</td>\n",
       "      <td>CHORDATA</td>\n",
       "      <td>AMPHIBIA</td>\n",
       "      <td>CAUDATA</td>\n",
       "      <td>PLETHODONTIDAE</td>\n",
       "      <td>Aneides</td>\n",
       "      <td>aeneus</td>\n",
       "      <td>NT</td>\n",
       "      <td>f</td>\n",
       "      <td>f</td>\n",
       "      <td>t</td>\n",
       "    </tr>\n",
       "    <tr>\n",
       "      <th>4</th>\n",
       "      <td>2865.0</td>\n",
       "      <td>3109</td>\n",
       "      <td>15108</td>\n",
       "      <td>BOMBINATORIDAE</td>\n",
       "      <td>Bombina</td>\n",
       "      <td>bombina</td>\n",
       "      <td>Bombina bombina</td>\n",
       "      <td>NaN</td>\n",
       "      <td>L</td>\n",
       "      <td>L</td>\n",
       "      <td>...</td>\n",
       "      <td>CHORDATA</td>\n",
       "      <td>AMPHIBIA</td>\n",
       "      <td>ANURA</td>\n",
       "      <td>BOMBINATORIDAE</td>\n",
       "      <td>Bombina</td>\n",
       "      <td>bombina</td>\n",
       "      <td>LC</td>\n",
       "      <td>f</td>\n",
       "      <td>t</td>\n",
       "      <td>t</td>\n",
       "    </tr>\n",
       "  </tbody>\n",
       "</table>\n",
       "<p>5 rows × 58 columns</p>\n",
       "</div>"
      ],
      "text/plain": [
       "   id_no_int  SVP_ID  SIS_GAA_ID        GAA Family      Genus     Species  \\\n",
       "0      520.0    4556        2661   LIMNODYNASTIDAE   Adelotus      brevis   \n",
       "1      596.0    4760      100011      HYPEROLIIDAE  Afrixalus      aureus   \n",
       "2     1272.0    3629       51121  CRYPTOBRANCHIDAE    Andrias  davidianus   \n",
       "3     1282.0    3644       13093    PLETHODONTIDAE    Aneides      aeneus   \n",
       "4     2865.0    3109       15108    BOMBINATORIDAE    Bombina     bombina   \n",
       "\n",
       "             Fullname Threatened SUSC_A_Habitats SUSC_A_aquatic larvae  \\\n",
       "0     Adelotus brevis        NaN               L                     L   \n",
       "1    Afrixalus aureus        NaN               L                     H   \n",
       "2  Andrias davidianus          Y               L                     L   \n",
       "3      Aneides aeneus        NaN               H                     L   \n",
       "4     Bombina bombina        NaN               L                     L   \n",
       "\n",
       "         ...        phylum_name class_name order_name       family_name  \\\n",
       "0        ...           CHORDATA   AMPHIBIA      ANURA   LIMNODYNASTIDAE   \n",
       "1        ...           CHORDATA   AMPHIBIA      ANURA      HYPEROLIIDAE   \n",
       "2        ...           CHORDATA   AMPHIBIA    CAUDATA  CRYPTOBRANCHIDAE   \n",
       "3        ...           CHORDATA   AMPHIBIA    CAUDATA    PLETHODONTIDAE   \n",
       "4        ...           CHORDATA   AMPHIBIA      ANURA    BOMBINATORIDAE   \n",
       "\n",
       "  genus_name species_name category biome_marine biome_freshwater  \\\n",
       "0   Adelotus       brevis       NT            f                t   \n",
       "1  Afrixalus       aureus       LC            f                t   \n",
       "2    Andrias   davidianus       CR            f                t   \n",
       "3    Aneides       aeneus       NT            f                f   \n",
       "4    Bombina      bombina       LC            f                t   \n",
       "\n",
       "  biome_terrestrial  \n",
       "0                 t  \n",
       "1                 t  \n",
       "2                 f  \n",
       "3                 t  \n",
       "4                 t  \n",
       "\n",
       "[5 rows x 58 columns]"
      ]
     },
     "execution_count": 74,
     "metadata": {},
     "output_type": "execute_result"
    }
   ],
   "source": [
    "amp_selected.head()"
   ]
  },
  {
   "cell_type": "markdown",
   "metadata": {},
   "source": [
    "If I get repeated random samples from the pool, calculate the H_per value and then plot them..."
   ]
  },
  {
   "cell_type": "code",
   "execution_count": 75,
   "metadata": {
    "collapsed": false,
    "scrolled": false
   },
   "outputs": [],
   "source": [
    "# get a random sample of 2013 repeatedly and calculate H_per\n",
    "# ===== explanation\n",
    "# ## get a random sample without replacement\n",
    "# a = amp[amp.SVP_ID.isin(np.random.choice(amp.SVP_ID, 2013, replace=False))]\n",
    "# ## apply HLU and get the final score\n",
    "# a[a_columns].apply(get_hlu).T.ix['FINAL_SCORE'].per_H\n",
    "\n",
    "test_a = [amp[amp.SVP_ID.isin(np.random.choice(amp.SVP_ID, 2013, replace=False))][a_columns].apply(get_hlu).T.ix['FINAL_SCORE'].per_H\\\n",
    "          for i in range(1000)]"
   ]
  },
  {
   "cell_type": "code",
   "execution_count": 76,
   "metadata": {
    "collapsed": false
   },
   "outputs": [
    {
     "data": {
      "text/plain": [
       "<matplotlib.axes._subplots.AxesSubplot at 0x1e338438>"
      ]
     },
     "execution_count": 76,
     "metadata": {},
     "output_type": "execute_result"
    },
    {
     "data": {
      "image/png": "[encoded data removed]",
      "text/plain": [
       "<matplotlib.figure.Figure at 0x1db922e8>"
      ]
     },
     "metadata": {},
     "output_type": "display_data"
    }
   ],
   "source": [
    "sns.distplot(test_a)"
   ]
  },
  {
   "cell_type": "code",
   "execution_count": 77,
   "metadata": {
    "collapsed": false
   },
   "outputs": [
    {
     "data": {
      "text/plain": [
       "0.14952806756085443"
      ]
     },
     "execution_count": 77,
     "metadata": {},
     "output_type": "execute_result"
    }
   ],
   "source": [
    "amp_total.ix['FINAL_SCORE'].per_H_wh"
   ]
  },
  {
   "cell_type": "markdown",
   "metadata": {},
   "source": [
    "It is quite clear the WH result is an outlier - a signficant difference from the empirical distribution."
   ]
  },
  {
   "cell_type": "markdown",
   "metadata": {},
   "source": [
    "Try birds and corals"
   ]
  },
  {
   "cell_type": "code",
   "execution_count": 78,
   "metadata": {
    "collapsed": true
   },
   "outputs": [],
   "source": [
    "test_b = [bird[bird.SVP_ID.isin(np.random.choice(bird.SVP_ID, 6914, replace=False))][b_columns].apply(get_hlu).T.ix['FINAL_SCORE'].per_H\\\n",
    "          for i in range(1000)]"
   ]
  },
  {
   "cell_type": "code",
   "execution_count": 79,
   "metadata": {
    "collapsed": false
   },
   "outputs": [
    {
     "data": {
      "text/plain": [
       "<matplotlib.axes._subplots.AxesSubplot at 0xe104be0>"
      ]
     },
     "execution_count": 79,
     "metadata": {},
     "output_type": "execute_result"
    },
    {
     "data": {
      "image/png": "[encoded data removed]",
      "text/plain": [
       "<matplotlib.figure.Figure at 0xe0f5e10>"
      ]
     },
     "metadata": {},
     "output_type": "display_data"
    }
   ],
   "source": [
    "sns.distplot(test_b)"
   ]
  },
  {
   "cell_type": "code",
   "execution_count": null,
   "metadata": {
    "collapsed": false
   },
   "outputs": [
    {
     "data": {
      "text/plain": [
       "0.19323112525310962"
      ]
     },
     "execution_count": 80,
     "metadata": {},
     "output_type": "execute_result"
    }
   ],
   "source": [
    "bird_total.ix['FINAL_SCORE'].per_H_wh"
   ]
  },
  {
   "cell_type": "markdown",
   "metadata": {},
   "source": [
    "Significant result for birds too"
   ]
  },
  {
   "cell_type": "code",
   "execution_count": null,
   "metadata": {
    "collapsed": false
   },
   "outputs": [],
   "source": [
    "test_c = [coral_unique[coral_unique.Fullname.isin(np.random.choice(coral_unique.Fullname, 724, replace=False))][c_columns].apply(get_hlu).T.ix['FINAL_SCORE'].per_H\\\n",
    "          for i in range(1000)]"
   ]
  },
  {
   "cell_type": "code",
   "execution_count": null,
   "metadata": {
    "collapsed": false
   },
   "outputs": [
    {
     "data": {
      "text/plain": [
       "<matplotlib.axes._subplots.AxesSubplot at 0xe1a0b00>"
      ]
     },
     "execution_count": 82,
     "metadata": {},
     "output_type": "execute_result"
    },
    {
     "data": {
      "image/png": "[encoded data removed]",
      "text/plain": [
       "<matplotlib.figure.Figure at 0x1db89d68>"
      ]
     },
     "metadata": {},
     "output_type": "display_data"
    }
   ],
   "source": [
    "sns.distplot(test_c)"
   ]
  },
  {
   "cell_type": "code",
   "execution_count": null,
   "metadata": {
    "collapsed": false
   },
   "outputs": [
    {
     "data": {
      "text/plain": [
       "0.15331491712707182"
      ]
     },
     "execution_count": 83,
     "metadata": {},
     "output_type": "execute_result"
    }
   ],
   "source": [
    "coral_total.ix['FINAL_SCORE'].per_H_wh"
   ]
  },
  {
   "cell_type": "code",
   "execution_count": null,
   "metadata": {
    "collapsed": false
   },
   "outputs": [
    {
     "data": {
      "text/plain": [
       "<matplotlib.axes._subplots.AxesSubplot at 0xe219550>"
      ]
     },
     "execution_count": 84,
     "metadata": {},
     "output_type": "execute_result"
    },
    {
     "data": {
      "image/png": "[encoded data removed]",
      "text/plain": [
       "<matplotlib.figure.Figure at 0xe141780>"
      ]
     },
     "metadata": {},
     "output_type": "display_data"
    }
   ],
   "source": [
    "sns.distplot(test_c)"
   ]
  },
  {
   "cell_type": "markdown",
   "metadata": {},
   "source": [
    "It is quite interesting to further examine subsets of WH sites, for example, by regions and by criteria, with a view to answering questions such as a) do biodiversity WH sites have more climate vulnerable species b) do WH sites in asian regions host more CV species?"
   ]
  },
  {
   "cell_type": "code",
   "execution_count": null,
   "metadata": {
    "collapsed": false
   },
   "outputs": [
    {
     "data": {
      "text/plain": [
       "pandas.core.series.Series"
      ]
     },
     "execution_count": 85,
     "metadata": {},
     "output_type": "execute_result"
    }
   ],
   "source": [
    "type(amp_selected.crit)"
   ]
  },
  {
   "cell_type": "code",
   "execution_count": null,
   "metadata": {
    "collapsed": false
   },
   "outputs": [],
   "source": [
    "# try testing regular expression and `pd.series.str.match`\n",
    "pattern = r'.*x.*' # crit having character `x` indicates a biodiversity WH site\n",
    "test_matching = pd.concat([amp_selected.crit, amp_selected.crit.str.match(pattern)], 1)\n",
    "\n",
    "# get a filter for biodi\n",
    "amp_wh_bio_filter = amp_selected.crit.str.match(pattern)\n",
    "bird_wh_bio_filter = bird_selected.crit.str.match(pattern)\n",
    "coral_wh_bio_filter = coral_selected.crit.str.match(pattern)\n",
    "\n",
    "# reduction in the number of WH sites\n",
    "print('all WH', 'only bWH')\n",
    "print(amp_selected.wdpaid.unique().size, amp_selected[amp_wh_bio_filter].wdpaid.unique().size)\n",
    "print(bird_selected.wdpaid.unique().size, bird_selected[bird_wh_bio_filter].wdpaid.unique().size)\n",
    "print(coral_selected.wdpaid.unique().size, coral_selected[coral_wh_bio_filter].wdpaid.unique().size)"
   ]
  },
  {
   "cell_type": "code",
   "execution_count": null,
   "metadata": {
    "collapsed": true
   },
   "outputs": [],
   "source": [
    "# do comparison between subset of \n",
    "amp_wh_bio = pd.merge(amp_selected[amp_wh_bio_filter][a_columns].apply(get_hlu).T, \\\n",
    "         amp_selected[a_columns].apply(get_hlu).T, \\\n",
    "         left_index = True, right_index=True, suffixes=('_bio', '_wh'))\n",
    "\n",
    "bird_wh_bio = pd.merge(bird_selected[bird_wh_bio_filter][b_columns].apply(get_hlu).T, \\\n",
    "         bird_selected[b_columns].apply(get_hlu).T, \\\n",
    "         left_index = True, right_index=True, suffixes=('_bio', '_wh'))\n",
    "\n",
    "coral_wh_bio = pd.merge(coral_selected[coral_wh_bio_filter][c_columns].apply(get_hlu).T, \\\n",
    "         coral_selected[c_columns].apply(get_hlu).T, \\\n",
    "         left_index = True, right_index=True, suffixes=('_bio', '_wh'))"
   ]
  },
  {
   "cell_type": "code",
   "execution_count": null,
   "metadata": {
    "collapsed": false
   },
   "outputs": [],
   "source": [
    "amp_wh_bio"
   ]
  },
  {
   "cell_type": "code",
   "execution_count": null,
   "metadata": {
    "collapsed": false
   },
   "outputs": [],
   "source": [
    "bird_wh_bio"
   ]
  },
  {
   "cell_type": "code",
   "execution_count": null,
   "metadata": {
    "collapsed": false
   },
   "outputs": [],
   "source": [
    "coral_wh_bio"
   ]
  },
  {
   "cell_type": "markdown",
   "metadata": {},
   "source": [
    "It appears that subdivision by separating biodiversity sites from all natural sites does not indicate a different picture. The percentage difference is minute."
   ]
  },
  {
   "cell_type": "markdown",
   "metadata": {},
   "source": [
    "Check differences according to regions"
   ]
  },
  {
   "cell_type": "code",
   "execution_count": null,
   "metadata": {
    "collapsed": true
   },
   "outputs": [],
   "source": [
    "# load regions\n",
    "region = pd.read_csv('region.csv')"
   ]
  },
  {
   "cell_type": "code",
   "execution_count": null,
   "metadata": {
    "collapsed": false
   },
   "outputs": [],
   "source": [
    "region.unesco_reg.unique()"
   ]
  },
  {
   "cell_type": "code",
   "execution_count": null,
   "metadata": {
    "collapsed": true
   },
   "outputs": [],
   "source": [
    "africa_ids = region[region.unesco_reg == 'Africa'].wdpaid\n",
    "asia_ids = region[region.unesco_reg == 'Asia and the Pacific'].wdpaid\n",
    "euna_ids = region[region.unesco_reg == 'Europe and North America'].wdpaid\n",
    "lac_ids = region[region.unesco_reg == 'Latin America and the Caribbean'].wdpaid\n",
    "arab_ids = region[region.unesco_reg == 'Arab States'].wdpaid"
   ]
  },
  {
   "cell_type": "code",
   "execution_count": null,
   "metadata": {
    "collapsed": false
   },
   "outputs": [],
   "source": [
    "print([len(x) for x in [africa_ids, asia_ids, euna_ids, lac_ids, arab_ids]])"
   ]
  },
  {
   "cell_type": "code",
   "execution_count": null,
   "metadata": {
    "collapsed": false
   },
   "outputs": [],
   "source": [
    "# get a function that returns the result of aggregates\n",
    "def get_agg_result_by_wdpaidlist(taxon_result, taxon_columns, filtered_wdpaids):\n",
    "    # get a unique list of species for sites, based on the filtered wdpaids\n",
    "    unique_taxon_result = taxon_result[taxon_result.wdpaid.isin(filtered_wdpaids)].groupby('id_no_int').first().reset_index()\n",
    "    # apply the stangdard aggregation methods\n",
    "    return unique_taxon_result[taxon_columns].apply(get_hlu).T"
   ]
  },
  {
   "cell_type": "code",
   "execution_count": null,
   "metadata": {
    "collapsed": false
   },
   "outputs": [],
   "source": [
    "# amp in wh sites by region\n",
    "amp_africa, amp_asia, amp_euna, amp_lac, amp_arab = \\\n",
    "[get_agg_result_by_wdpaidlist(result_amp_f, a_columns, a_region) \\\n",
    " for a_region in [africa_ids, asia_ids, euna_ids, lac_ids, arab_ids]]\n",
    "amp_regions = [amp_africa, amp_asia, amp_euna, amp_lac, amp_arab]\n",
    "\n",
    "# bird in wh sites by region\n",
    "bird_africa, bird_asia, bird_euna, bird_lac, bird_arab = \\\n",
    "[get_agg_result_by_wdpaidlist(result_bird_f, b_columns, a_region) \\\n",
    " for a_region in [africa_ids, asia_ids, euna_ids, lac_ids, arab_ids]]\n",
    "bird_regions = [bird_africa, bird_asia, bird_euna, bird_lac, bird_arab]\n",
    "\n",
    "# coral in wh sites by region\n",
    "coral_africa, coral_asia, coral_euna, coral_lac, coral_arab = \\\n",
    "[get_agg_result_by_wdpaidlist(result_coral_f, c_columns, a_region) \\\n",
    " for a_region in [africa_ids, asia_ids, euna_ids, lac_ids, arab_ids]]\n",
    "coral_regions = [coral_africa, coral_asia, coral_euna, coral_lac, coral_arab]"
   ]
  },
  {
   "cell_type": "code",
   "execution_count": null,
   "metadata": {
    "collapsed": false
   },
   "outputs": [],
   "source": [
    "# join all the regional tables together\n",
    "from functools import reduce\n",
    "\n",
    "# df_final = reduce(lambda left, right: pd.merge(left,right,left_index=True, right_index=True),\\\n",
    "#                   [amp_africa, amp_asia, amp_euna, amp_lac, amp_arab])\n",
    "\n",
    "# use reduce function to merge any given number of dfs; here i used a tuple in order to get suffix information\n",
    "df_final = reduce(lambda left, right: (pd.merge(left[0], right[0], left_index=True, right_index=True, \\\n",
    "                                              suffixes = ('', right[1])), 0), \\\n",
    "                  zip([amp_africa, amp_asia, amp_euna, amp_lac, amp_arab], ['_africa', '_asia', '_euna', '_lac', '_arab']),\n",
    "                 (amp_selected[a_columns].apply(get_hlu).T, 0))\n"
   ]
  },
  {
   "cell_type": "code",
   "execution_count": null,
   "metadata": {
    "collapsed": false
   },
   "outputs": [],
   "source": [
    "df_final[0][['per_H' + each for each in ['', '_africa', '_asia', '_euna', '_lac', '_arab']]]"
   ]
  },
  {
   "cell_type": "code",
   "execution_count": null,
   "metadata": {
    "collapsed": true
   },
   "outputs": [],
   "source": []
  }
 ],
 "metadata": {
  "kernelspec": {
   "display_name": "Python 3",
   "language": "python",
   "name": "python3"
  },
  "language_info": {
   "codemirror_mode": {
    "name": "ipython",
    "version": 3
   },
   "file_extension": ".py",
   "mimetype": "text/x-python",
   "name": "python",
   "nbconvert_exporter": "python",
   "pygments_lexer": "ipython3",
   "version": "3.4.4"
  }
 },
 "nbformat": 4,
 "nbformat_minor": 0
}
