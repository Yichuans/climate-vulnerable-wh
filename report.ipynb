{
 "cells": [
  {
   "cell_type": "markdown",
   "metadata": {},
   "source": [
    "# Species climate vulnerability and natural World Heritage sites\n",
    "## Background\n",
    "Imminent and long term climate change impact on World Heritage sites, their OUV is under threat. Biodiversity WH sites contain outstanding biological processes and threatened species and their habitat. Thanks to previous work by GSP on traits-based climate change vulnerability (CCV) assessment, through the lens of such species it provides a unique window into how vulnerable or resilient these WH sites are in the face of climate change.\n",
    "\n",
    "This study aims to undertake a desk-base analysis based on the work (Wendy 2013) and for all natural WH, especially those under criteria (ix) and (x), with a view to enhancing our understanding of climate vulnerable World Heritage sites and providing insights into each and every World Heritage site.\n",
    "\n",
    "## Methodology\n",
    "### The overlap of Red List species and WH sites\n",
    "1. An overlay spatially to identify potential species inside WH sites. Species intersecting a small area, or a small proportion with World Heritage sites, are excluded. This is in order to remove false positives (commission errors) due to inaccurate and mismatching spatial boundaries. Noting also the caveats of Red List data (EOO)\n",
    "2. Only distributions with presence code 1-2, origin 1-2 and seasonality 1-3 are considered.\n",
    "3. Species polygons are dissolved to remove the effect of duplicates and double counting.\n",
    "The end result is a non-spatial table (partial overlap table) with unique pairs of WH and species attributes.\n",
    "\n",
    "### Utilising climate change vulnerability analysis result\n",
    "Each CCV result data is joined, separately, to the partial overlap table, so that CCV information is transferred, via the partial overlapping species, to each World Heritage site. Analyses can be grouped into two types, one is to analyse each WH site individually, and the other assessing the entire WH network as a complete entity.\n",
    "1. For each WH site, the number of species and their proportion for each traits (sensitivity, low adaptability and expore) and final scores (H, L, U) were calculated. Rankings for each of the above aggregations represent, within WH sites. relative signifcance. \n",
    "2. Calculate a unique list of species for the entire network and assess similar stats above, and compared to all species (found and not found in WH sites). Statistical siginificance is tested on the findings\n",
    "3. Based on 2, further disaggregations based on groupings of WH sites, by criteria (biodiversity vs non-biodiversity sites)\n",
    "\n",
    "\n",
    "## Result and discussion\n",
    "See the analysis [notebook](http://nbviewer.jupyter.org/github/Yichuans/climate_vulnerability_wh/blob/master/workspace.ipynb) for more information.\n",
    "\n",
    "## Reference\n",
    "TBA"
   ]
  },
  {
   "cell_type": "code",
   "execution_count": null,
   "metadata": {
    "collapsed": true
   },
   "outputs": [],
   "source": []
  }
 ],
 "metadata": {
  "kernelspec": {
   "display_name": "Python 3",
   "language": "python",
   "name": "python3"
  },
  "language_info": {
   "codemirror_mode": {
    "name": "ipython",
    "version": 3
   },
   "file_extension": ".py",
   "mimetype": "text/x-python",
   "name": "python",
   "nbconvert_exporter": "python",
   "pygments_lexer": "ipython3",
   "version": "3.4.4"
  }
 },
 "nbformat": 4,
 "nbformat_minor": 0
}
